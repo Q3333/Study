{
 "cells": [
  {
   "cell_type": "code",
   "execution_count": 2,
   "metadata": {},
   "outputs": [],
   "source": [
    "#1번문제\n",
    "import pandas as pd\n",
    "stocks = pd.read_excel('stocks.xlsx')"
   ]
  },
  {
   "cell_type": "code",
   "execution_count": 5,
   "metadata": {},
   "outputs": [
    {
     "data": {
      "text/html": [
       "<div>\n",
       "<style scoped>\n",
       "    .dataframe tbody tr th:only-of-type {\n",
       "        vertical-align: middle;\n",
       "    }\n",
       "\n",
       "    .dataframe tbody tr th {\n",
       "        vertical-align: top;\n",
       "    }\n",
       "\n",
       "    .dataframe thead th {\n",
       "        text-align: right;\n",
       "    }\n",
       "</style>\n",
       "<table border=\"1\" class=\"dataframe\">\n",
       "  <thead>\n",
       "    <tr style=\"text-align: right;\">\n",
       "      <th></th>\n",
       "      <th>stock</th>\n",
       "      <th>code</th>\n",
       "    </tr>\n",
       "  </thead>\n",
       "  <tbody>\n",
       "    <tr>\n",
       "      <td>0</td>\n",
       "      <td>Lgchem</td>\n",
       "      <td>051910.KS</td>\n",
       "    </tr>\n",
       "    <tr>\n",
       "      <td>1</td>\n",
       "      <td>hynix</td>\n",
       "      <td>000660.KS</td>\n",
       "    </tr>\n",
       "    <tr>\n",
       "      <td>2</td>\n",
       "      <td>Hmotors</td>\n",
       "      <td>005380.KS</td>\n",
       "    </tr>\n",
       "  </tbody>\n",
       "</table>\n",
       "</div>"
      ],
      "text/plain": [
       "     stock       code\n",
       "0   Lgchem  051910.KS\n",
       "1    hynix  000660.KS\n",
       "2  Hmotors  005380.KS"
      ]
     },
     "execution_count": 5,
     "metadata": {},
     "output_type": "execute_result"
    }
   ],
   "source": [
    "stocks"
   ]
  },
  {
   "cell_type": "code",
   "execution_count": 27,
   "metadata": {},
   "outputs": [
    {
     "name": "stdout",
     "output_type": "stream",
     "text": [
      "Lgchem\n",
      "051910.KS\n",
      "hynix\n",
      "000660.KS\n",
      "Hmotors\n",
      "005380.KS\n"
     ]
    }
   ],
   "source": [
    "stock_list={}\n",
    "for i in range(0,3):\n",
    "    key=stocks.loc[i,'stock']\n",
    "    print(key)\n",
    "    value=stocks.loc[i,'code']\n",
    "    print(value)\n",
    "    stock_list[key]=value"
   ]
  },
  {
   "cell_type": "code",
   "execution_count": 9,
   "metadata": {},
   "outputs": [
    {
     "data": {
      "text/plain": [
       "{'Lgchem': '051910.KS', 'hynix': '000660.KS', 'Hmotors': '005380.KS'}"
      ]
     },
     "execution_count": 9,
     "metadata": {},
     "output_type": "execute_result"
    }
   ],
   "source": [
    "stock_list"
   ]
  },
  {
   "cell_type": "code",
   "execution_count": 4,
   "metadata": {},
   "outputs": [],
   "source": [
    "import yfinance as yf\n",
    "data=pd.DataFrame()"
   ]
  },
  {
   "cell_type": "code",
   "execution_count": 40,
   "metadata": {},
   "outputs": [
    {
     "data": {
      "text/html": [
       "<div>\n",
       "<style scoped>\n",
       "    .dataframe tbody tr th:only-of-type {\n",
       "        vertical-align: middle;\n",
       "    }\n",
       "\n",
       "    .dataframe tbody tr th {\n",
       "        vertical-align: top;\n",
       "    }\n",
       "\n",
       "    .dataframe thead th {\n",
       "        text-align: right;\n",
       "    }\n",
       "</style>\n",
       "<table border=\"1\" class=\"dataframe\">\n",
       "  <thead>\n",
       "    <tr style=\"text-align: right;\">\n",
       "      <th></th>\n",
       "    </tr>\n",
       "  </thead>\n",
       "  <tbody>\n",
       "  </tbody>\n",
       "</table>\n",
       "</div>"
      ],
      "text/plain": [
       "Empty DataFrame\n",
       "Columns: []\n",
       "Index: []"
      ]
     },
     "execution_count": 40,
     "metadata": {},
     "output_type": "execute_result"
    }
   ],
   "source": [
    "data"
   ]
  },
  {
   "cell_type": "code",
   "execution_count": 41,
   "metadata": {},
   "outputs": [
    {
     "name": "stdout",
     "output_type": "stream",
     "text": [
      "051910.KS\n",
      "[*********************100%***********************]  1 of 1 completed\n",
      "000660.KS\n",
      "[*********************100%***********************]  1 of 1 completed\n",
      "005380.KS\n",
      "[*********************100%***********************]  1 of 1 completed\n",
      "              Lgchem    hynix   Hmotors\n",
      "Date                                   \n",
      "2018-02-01  418500.0  74400.0  160500.0\n"
     ]
    }
   ],
   "source": [
    "for key in stock_list:\n",
    "    code=stock_list[key]\n",
    "    print(code)\n",
    "    data[key]=yf.download(code, start=\"2018-02-01\", end=\"2018-02-02\")['Close']\n",
    "print(data)"
   ]
  },
  {
   "cell_type": "code",
   "execution_count": 8,
   "metadata": {},
   "outputs": [
    {
     "name": "stdout",
     "output_type": "stream",
     "text": [
      "[*********************100%***********************]  1 of 1 completed\n",
      "[*********************100%***********************]  1 of 1 completed\n",
      "               Mobis    LGchem\n",
      "Date                          \n",
      "2019-01-04  199500.0  330500.0\n",
      "2019-01-07  198500.0  343000.0\n",
      "2019-01-08  193000.0  349500.0\n",
      "2019-01-09  202500.0  352000.0\n",
      "2019-01-10  196000.0  347000.0\n"
     ]
    }
   ],
   "source": [
    "#2번문제\n",
    "from datetime import datetime\n",
    "stocks = {'Mobis': '012330.KS', 'LGchem':'051910.Ks'}\n",
    "data=pd.DataFrame()\n",
    "for key in stocks:\n",
    "    code=stocks[key]\n",
    "    data[key]=yf.download(code, start=\"2019-01-04\", end=\"2019-01-11\")[\"Close\"]\n",
    "print(data)"
   ]
  },
  {
   "cell_type": "code",
   "execution_count": 9,
   "metadata": {},
   "outputs": [
    {
     "name": "stdout",
     "output_type": "stream",
     "text": [
      "               Mobis    LGchem  Mobis_MA  LGchem_MA\n",
      "Date                                               \n",
      "2019-01-04  199500.0  330500.0       NaN        NaN\n",
      "2019-01-07  198500.0  343000.0       NaN        NaN\n",
      "2019-01-08  193000.0  349500.0       NaN        NaN\n",
      "2019-01-09  202500.0  352000.0       NaN        NaN\n",
      "2019-01-10  196000.0  347000.0  197900.0   344400.0\n"
     ]
    }
   ],
   "source": [
    "data['Mobis_MA']=data['Mobis'].rolling(5).mean()\n",
    "data['LGchem_MA']=data['LGchem'].rolling(5).mean()\n",
    "print(data)"
   ]
  },
  {
   "cell_type": "code",
   "execution_count": 10,
   "metadata": {},
   "outputs": [
    {
     "name": "stdout",
     "output_type": "stream",
     "text": [
      "               Mobis    LGchem  Mobis_MA  LGchem_MA\n",
      "Date                                               \n",
      "2019-01-10  196000.0  347000.0  197900.0   344400.0\n"
     ]
    }
   ],
   "source": [
    "data.dropna(axis=0,inplace=True)\n",
    "print(data)"
   ]
  },
  {
   "cell_type": "code",
   "execution_count": null,
   "metadata": {},
   "outputs": [],
   "source": []
  }
 ],
 "metadata": {
  "kernelspec": {
   "display_name": "Python 3",
   "language": "python",
   "name": "python3"
  }
 },
 "nbformat": 4,
 "nbformat_minor": 2
}
