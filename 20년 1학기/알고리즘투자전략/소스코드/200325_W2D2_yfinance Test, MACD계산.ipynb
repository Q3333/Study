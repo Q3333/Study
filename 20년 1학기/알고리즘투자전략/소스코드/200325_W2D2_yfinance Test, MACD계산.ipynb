{
 "cells": [
  {
   "cell_type": "code",
   "execution_count": 2,
   "metadata": {},
   "outputs": [
    {
     "name": "stdout",
     "output_type": "stream",
     "text": [
      "[*********************100%***********************]  1 of 1 completed\n"
     ]
    },
    {
     "data": {
      "text/html": [
       "<div>\n",
       "<style scoped>\n",
       "    .dataframe tbody tr th:only-of-type {\n",
       "        vertical-align: middle;\n",
       "    }\n",
       "\n",
       "    .dataframe tbody tr th {\n",
       "        vertical-align: top;\n",
       "    }\n",
       "\n",
       "    .dataframe thead th {\n",
       "        text-align: right;\n",
       "    }\n",
       "</style>\n",
       "<table border=\"1\" class=\"dataframe\">\n",
       "  <thead>\n",
       "    <tr style=\"text-align: right;\">\n",
       "      <th></th>\n",
       "      <th>Open</th>\n",
       "      <th>High</th>\n",
       "      <th>Low</th>\n",
       "      <th>Close</th>\n",
       "      <th>Adj Close</th>\n",
       "      <th>Volume</th>\n",
       "      <th>obv</th>\n",
       "    </tr>\n",
       "    <tr>\n",
       "      <th>Date</th>\n",
       "      <th></th>\n",
       "      <th></th>\n",
       "      <th></th>\n",
       "      <th></th>\n",
       "      <th></th>\n",
       "      <th></th>\n",
       "      <th></th>\n",
       "    </tr>\n",
       "  </thead>\n",
       "  <tbody>\n",
       "    <tr>\n",
       "      <td>2019-12-02</td>\n",
       "      <td>50900.0</td>\n",
       "      <td>51300.0</td>\n",
       "      <td>50400.0</td>\n",
       "      <td>50400.0</td>\n",
       "      <td>50400.0</td>\n",
       "      <td>18877252</td>\n",
       "      <td>0.0</td>\n",
       "    </tr>\n",
       "    <tr>\n",
       "      <td>2019-12-03</td>\n",
       "      <td>49800.0</td>\n",
       "      <td>50300.0</td>\n",
       "      <td>49500.0</td>\n",
       "      <td>49900.0</td>\n",
       "      <td>49900.0</td>\n",
       "      <td>12059812</td>\n",
       "      <td>0.0</td>\n",
       "    </tr>\n",
       "    <tr>\n",
       "      <td>2019-12-04</td>\n",
       "      <td>49600.0</td>\n",
       "      <td>49850.0</td>\n",
       "      <td>49000.0</td>\n",
       "      <td>49450.0</td>\n",
       "      <td>49450.0</td>\n",
       "      <td>13246549</td>\n",
       "      <td>0.0</td>\n",
       "    </tr>\n",
       "    <tr>\n",
       "      <td>2019-12-05</td>\n",
       "      <td>50200.0</td>\n",
       "      <td>50400.0</td>\n",
       "      <td>49500.0</td>\n",
       "      <td>49500.0</td>\n",
       "      <td>49500.0</td>\n",
       "      <td>10449715</td>\n",
       "      <td>0.0</td>\n",
       "    </tr>\n",
       "    <tr>\n",
       "      <td>2019-12-06</td>\n",
       "      <td>50100.0</td>\n",
       "      <td>50900.0</td>\n",
       "      <td>49950.0</td>\n",
       "      <td>50400.0</td>\n",
       "      <td>50400.0</td>\n",
       "      <td>11414563</td>\n",
       "      <td>0.0</td>\n",
       "    </tr>\n",
       "  </tbody>\n",
       "</table>\n",
       "</div>"
      ],
      "text/plain": [
       "               Open     High      Low    Close  Adj Close    Volume  obv\n",
       "Date                                                                    \n",
       "2019-12-02  50900.0  51300.0  50400.0  50400.0    50400.0  18877252  0.0\n",
       "2019-12-03  49800.0  50300.0  49500.0  49900.0    49900.0  12059812  0.0\n",
       "2019-12-04  49600.0  49850.0  49000.0  49450.0    49450.0  13246549  0.0\n",
       "2019-12-05  50200.0  50400.0  49500.0  49500.0    49500.0  10449715  0.0\n",
       "2019-12-06  50100.0  50900.0  49950.0  50400.0    50400.0  11414563  0.0"
      ]
     },
     "execution_count": 2,
     "metadata": {},
     "output_type": "execute_result"
    }
   ],
   "source": [
    "import numpy as np\n",
    "import pandas as pd\n",
    "import yfinance as yf\n",
    "from math import *\n",
    "\n",
    "df = pd.DataFrame()\n",
    "stock=\"Samsung\"\n",
    "code=\"005930.KS\"\n",
    "df=yf.download(code, \"2019-12-01\",\"2019-12-27\")\n",
    "df['obv']=np.zeros(df.shape[0])\n",
    "df.head()"
   ]
  },
  {
   "cell_type": "code",
   "execution_count": 3,
   "metadata": {},
   "outputs": [
    {
     "name": "stdout",
     "output_type": "stream",
     "text": [
      "Enter firm name: Samsung\n",
      "Enter stock name: 005930.KS\n",
      "[*********************100%***********************]  1 of 1 completed\n"
     ]
    },
    {
     "data": {
      "text/html": [
       "<div>\n",
       "<style scoped>\n",
       "    .dataframe tbody tr th:only-of-type {\n",
       "        vertical-align: middle;\n",
       "    }\n",
       "\n",
       "    .dataframe tbody tr th {\n",
       "        vertical-align: top;\n",
       "    }\n",
       "\n",
       "    .dataframe thead th {\n",
       "        text-align: right;\n",
       "    }\n",
       "</style>\n",
       "<table border=\"1\" class=\"dataframe\">\n",
       "  <thead>\n",
       "    <tr style=\"text-align: right;\">\n",
       "      <th></th>\n",
       "      <th>Samsung</th>\n",
       "    </tr>\n",
       "    <tr>\n",
       "      <th>Date</th>\n",
       "      <th></th>\n",
       "    </tr>\n",
       "  </thead>\n",
       "  <tbody>\n",
       "    <tr>\n",
       "      <td>2019-12-02</td>\n",
       "      <td>50400.0</td>\n",
       "    </tr>\n",
       "    <tr>\n",
       "      <td>2019-12-03</td>\n",
       "      <td>49900.0</td>\n",
       "    </tr>\n",
       "    <tr>\n",
       "      <td>2019-12-04</td>\n",
       "      <td>49450.0</td>\n",
       "    </tr>\n",
       "    <tr>\n",
       "      <td>2019-12-05</td>\n",
       "      <td>49500.0</td>\n",
       "    </tr>\n",
       "    <tr>\n",
       "      <td>2019-12-06</td>\n",
       "      <td>50400.0</td>\n",
       "    </tr>\n",
       "  </tbody>\n",
       "</table>\n",
       "</div>"
      ],
      "text/plain": [
       "            Samsung\n",
       "Date               \n",
       "2019-12-02  50400.0\n",
       "2019-12-03  49900.0\n",
       "2019-12-04  49450.0\n",
       "2019-12-05  49500.0\n",
       "2019-12-06  50400.0"
      ]
     },
     "execution_count": 3,
     "metadata": {},
     "output_type": "execute_result"
    }
   ],
   "source": [
    "stock = input(\"Enter firm name: \")\n",
    "code = input(\"Enter stock name: \")\n",
    "data = pd.DataFrame()\n",
    "data[stock]=yf.download(code, \"2019-12-01\",\"2019-12-27\")[\"Close\"]\n",
    "data.head()"
   ]
  },
  {
   "cell_type": "code",
   "execution_count": 4,
   "metadata": {},
   "outputs": [
    {
     "data": {
      "text/html": [
       "<div>\n",
       "<style scoped>\n",
       "    .dataframe tbody tr th:only-of-type {\n",
       "        vertical-align: middle;\n",
       "    }\n",
       "\n",
       "    .dataframe tbody tr th {\n",
       "        vertical-align: top;\n",
       "    }\n",
       "\n",
       "    .dataframe thead th {\n",
       "        text-align: right;\n",
       "    }\n",
       "</style>\n",
       "<table border=\"1\" class=\"dataframe\">\n",
       "  <thead>\n",
       "    <tr style=\"text-align: right;\">\n",
       "      <th></th>\n",
       "      <th>일자</th>\n",
       "      <th>KT</th>\n",
       "      <th>SK텔레콤</th>\n",
       "      <th>현대모비스</th>\n",
       "    </tr>\n",
       "  </thead>\n",
       "  <tbody>\n",
       "    <tr>\n",
       "      <td>0</td>\n",
       "      <td>2016/01/04</td>\n",
       "      <td>28000</td>\n",
       "      <td>210500</td>\n",
       "      <td>238000</td>\n",
       "    </tr>\n",
       "    <tr>\n",
       "      <td>1</td>\n",
       "      <td>2016/01/05</td>\n",
       "      <td>28200</td>\n",
       "      <td>210000</td>\n",
       "      <td>237000</td>\n",
       "    </tr>\n",
       "    <tr>\n",
       "      <td>2</td>\n",
       "      <td>2016/01/06</td>\n",
       "      <td>28100</td>\n",
       "      <td>208000</td>\n",
       "      <td>234500</td>\n",
       "    </tr>\n",
       "  </tbody>\n",
       "</table>\n",
       "</div>"
      ],
      "text/plain": [
       "           일자     KT   SK텔레콤   현대모비스\n",
       "0  2016/01/04  28000  210500  238000\n",
       "1  2016/01/05  28200  210000  237000\n",
       "2  2016/01/06  28100  208000  234500"
      ]
     },
     "execution_count": 4,
     "metadata": {},
     "output_type": "execute_result"
    }
   ],
   "source": [
    "df=pd.read_excel(\"../data/data.xlsx\")\n",
    "df.head(3)"
   ]
  },
  {
   "cell_type": "code",
   "execution_count": 5,
   "metadata": {},
   "outputs": [
    {
     "data": {
      "text/html": [
       "<div>\n",
       "<style scoped>\n",
       "    .dataframe tbody tr th:only-of-type {\n",
       "        vertical-align: middle;\n",
       "    }\n",
       "\n",
       "    .dataframe tbody tr th {\n",
       "        vertical-align: top;\n",
       "    }\n",
       "\n",
       "    .dataframe thead th {\n",
       "        text-align: right;\n",
       "    }\n",
       "</style>\n",
       "<table border=\"1\" class=\"dataframe\">\n",
       "  <thead>\n",
       "    <tr style=\"text-align: right;\">\n",
       "      <th></th>\n",
       "      <th>KT</th>\n",
       "      <th>SK텔레콤</th>\n",
       "      <th>현대모비스</th>\n",
       "      <th>KT_MA</th>\n",
       "    </tr>\n",
       "    <tr>\n",
       "      <th>일자</th>\n",
       "      <th></th>\n",
       "      <th></th>\n",
       "      <th></th>\n",
       "      <th></th>\n",
       "    </tr>\n",
       "  </thead>\n",
       "  <tbody>\n",
       "    <tr>\n",
       "      <td>2016/01/04</td>\n",
       "      <td>28000</td>\n",
       "      <td>210500</td>\n",
       "      <td>238000</td>\n",
       "      <td>NaN</td>\n",
       "    </tr>\n",
       "    <tr>\n",
       "      <td>2016/01/05</td>\n",
       "      <td>28200</td>\n",
       "      <td>210000</td>\n",
       "      <td>237000</td>\n",
       "      <td>NaN</td>\n",
       "    </tr>\n",
       "    <tr>\n",
       "      <td>2016/01/06</td>\n",
       "      <td>28100</td>\n",
       "      <td>208000</td>\n",
       "      <td>234500</td>\n",
       "      <td>NaN</td>\n",
       "    </tr>\n",
       "    <tr>\n",
       "      <td>2016/01/07</td>\n",
       "      <td>27750</td>\n",
       "      <td>204000</td>\n",
       "      <td>237000</td>\n",
       "      <td>NaN</td>\n",
       "    </tr>\n",
       "    <tr>\n",
       "      <td>2016/01/08</td>\n",
       "      <td>27750</td>\n",
       "      <td>208000</td>\n",
       "      <td>238500</td>\n",
       "      <td>27960.0</td>\n",
       "    </tr>\n",
       "    <tr>\n",
       "      <td>2016/01/11</td>\n",
       "      <td>27600</td>\n",
       "      <td>203000</td>\n",
       "      <td>241000</td>\n",
       "      <td>27880.0</td>\n",
       "    </tr>\n",
       "  </tbody>\n",
       "</table>\n",
       "</div>"
      ],
      "text/plain": [
       "               KT   SK텔레콤   현대모비스    KT_MA\n",
       "일자                                        \n",
       "2016/01/04  28000  210500  238000      NaN\n",
       "2016/01/05  28200  210000  237000      NaN\n",
       "2016/01/06  28100  208000  234500      NaN\n",
       "2016/01/07  27750  204000  237000      NaN\n",
       "2016/01/08  27750  208000  238500  27960.0\n",
       "2016/01/11  27600  203000  241000  27880.0"
      ]
     },
     "execution_count": 5,
     "metadata": {},
     "output_type": "execute_result"
    }
   ],
   "source": [
    "df.set_index('일자',inplace=True)\n",
    "df['KT_MA']=df['KT'].rolling(5).mean()\n",
    "df.head(6)"
   ]
  },
  {
   "cell_type": "code",
   "execution_count": 7,
   "metadata": {},
   "outputs": [
    {
     "data": {
      "text/html": [
       "<div>\n",
       "<style scoped>\n",
       "    .dataframe tbody tr th:only-of-type {\n",
       "        vertical-align: middle;\n",
       "    }\n",
       "\n",
       "    .dataframe tbody tr th {\n",
       "        vertical-align: top;\n",
       "    }\n",
       "\n",
       "    .dataframe thead th {\n",
       "        text-align: right;\n",
       "    }\n",
       "</style>\n",
       "<table border=\"1\" class=\"dataframe\">\n",
       "  <thead>\n",
       "    <tr style=\"text-align: right;\">\n",
       "      <th></th>\n",
       "      <th>KT</th>\n",
       "      <th>SK텔레콤</th>\n",
       "      <th>현대모비스</th>\n",
       "      <th>KT_MA</th>\n",
       "    </tr>\n",
       "    <tr>\n",
       "      <th>일자</th>\n",
       "      <th></th>\n",
       "      <th></th>\n",
       "      <th></th>\n",
       "      <th></th>\n",
       "    </tr>\n",
       "  </thead>\n",
       "  <tbody>\n",
       "    <tr>\n",
       "      <td>2016/01/08</td>\n",
       "      <td>27750</td>\n",
       "      <td>208000</td>\n",
       "      <td>238500</td>\n",
       "      <td>27960.0</td>\n",
       "    </tr>\n",
       "    <tr>\n",
       "      <td>2016/01/11</td>\n",
       "      <td>27600</td>\n",
       "      <td>203000</td>\n",
       "      <td>241000</td>\n",
       "      <td>27880.0</td>\n",
       "    </tr>\n",
       "    <tr>\n",
       "      <td>2016/01/12</td>\n",
       "      <td>27500</td>\n",
       "      <td>206500</td>\n",
       "      <td>241500</td>\n",
       "      <td>27740.0</td>\n",
       "    </tr>\n",
       "    <tr>\n",
       "      <td>2016/01/13</td>\n",
       "      <td>27650</td>\n",
       "      <td>208500</td>\n",
       "      <td>247000</td>\n",
       "      <td>27650.0</td>\n",
       "    </tr>\n",
       "    <tr>\n",
       "      <td>2016/01/14</td>\n",
       "      <td>27350</td>\n",
       "      <td>208500</td>\n",
       "      <td>245000</td>\n",
       "      <td>27570.0</td>\n",
       "    </tr>\n",
       "  </tbody>\n",
       "</table>\n",
       "</div>"
      ],
      "text/plain": [
       "               KT   SK텔레콤   현대모비스    KT_MA\n",
       "일자                                        \n",
       "2016/01/08  27750  208000  238500  27960.0\n",
       "2016/01/11  27600  203000  241000  27880.0\n",
       "2016/01/12  27500  206500  241500  27740.0\n",
       "2016/01/13  27650  208500  247000  27650.0\n",
       "2016/01/14  27350  208500  245000  27570.0"
      ]
     },
     "execution_count": 7,
     "metadata": {},
     "output_type": "execute_result"
    }
   ],
   "source": [
    "df.dropna(axis=0,inplace=True)\n",
    "df.head(5)"
   ]
  },
  {
   "cell_type": "code",
   "execution_count": 10,
   "metadata": {},
   "outputs": [
    {
     "name": "stdout",
     "output_type": "stream",
     "text": [
      "[*********************100%***********************]  1 of 1 completed\n"
     ]
    },
    {
     "data": {
      "text/html": [
       "<div>\n",
       "<style scoped>\n",
       "    .dataframe tbody tr th:only-of-type {\n",
       "        vertical-align: middle;\n",
       "    }\n",
       "\n",
       "    .dataframe tbody tr th {\n",
       "        vertical-align: top;\n",
       "    }\n",
       "\n",
       "    .dataframe thead th {\n",
       "        text-align: right;\n",
       "    }\n",
       "</style>\n",
       "<table border=\"1\" class=\"dataframe\">\n",
       "  <thead>\n",
       "    <tr style=\"text-align: right;\">\n",
       "      <th></th>\n",
       "      <th>samsung</th>\n",
       "      <th>change</th>\n",
       "    </tr>\n",
       "    <tr>\n",
       "      <th>Date</th>\n",
       "      <th></th>\n",
       "      <th></th>\n",
       "    </tr>\n",
       "  </thead>\n",
       "  <tbody>\n",
       "    <tr>\n",
       "      <td>2019-12-02</td>\n",
       "      <td>50400.0</td>\n",
       "      <td>NaN</td>\n",
       "    </tr>\n",
       "    <tr>\n",
       "      <td>2019-12-03</td>\n",
       "      <td>49900.0</td>\n",
       "      <td>-500.0</td>\n",
       "    </tr>\n",
       "    <tr>\n",
       "      <td>2019-12-04</td>\n",
       "      <td>49450.0</td>\n",
       "      <td>-450.0</td>\n",
       "    </tr>\n",
       "    <tr>\n",
       "      <td>2019-12-05</td>\n",
       "      <td>49500.0</td>\n",
       "      <td>50.0</td>\n",
       "    </tr>\n",
       "    <tr>\n",
       "      <td>2019-12-06</td>\n",
       "      <td>50400.0</td>\n",
       "      <td>900.0</td>\n",
       "    </tr>\n",
       "  </tbody>\n",
       "</table>\n",
       "</div>"
      ],
      "text/plain": [
       "            samsung  change\n",
       "Date                       \n",
       "2019-12-02  50400.0     NaN\n",
       "2019-12-03  49900.0  -500.0\n",
       "2019-12-04  49450.0  -450.0\n",
       "2019-12-05  49500.0    50.0\n",
       "2019-12-06  50400.0   900.0"
      ]
     },
     "execution_count": 10,
     "metadata": {},
     "output_type": "execute_result"
    }
   ],
   "source": [
    "df2 = pd.DataFrame()\n",
    "stock = \"samsung\"\n",
    "code=\"005930.KS\"\n",
    "df2[stock]=yf.download(code, \"2019-12-01\",\"2019-12-27\")[\"Close\"]\n",
    "df2['change']=df2[stock].diff(1)\n",
    "df2.head()"
   ]
  },
  {
   "cell_type": "code",
   "execution_count": 11,
   "metadata": {},
   "outputs": [
    {
     "data": {
      "text/html": [
       "<div>\n",
       "<style scoped>\n",
       "    .dataframe tbody tr th:only-of-type {\n",
       "        vertical-align: middle;\n",
       "    }\n",
       "\n",
       "    .dataframe tbody tr th {\n",
       "        vertical-align: top;\n",
       "    }\n",
       "\n",
       "    .dataframe thead th {\n",
       "        text-align: right;\n",
       "    }\n",
       "</style>\n",
       "<table border=\"1\" class=\"dataframe\">\n",
       "  <thead>\n",
       "    <tr style=\"text-align: right;\">\n",
       "      <th></th>\n",
       "      <th>일자</th>\n",
       "      <th>KT</th>\n",
       "      <th>SK텔레콤</th>\n",
       "      <th>현대모비스</th>\n",
       "    </tr>\n",
       "  </thead>\n",
       "  <tbody>\n",
       "    <tr>\n",
       "      <td>0</td>\n",
       "      <td>2016/01/04</td>\n",
       "      <td>28000</td>\n",
       "      <td>210500</td>\n",
       "      <td>238000</td>\n",
       "    </tr>\n",
       "    <tr>\n",
       "      <td>1</td>\n",
       "      <td>2016/01/05</td>\n",
       "      <td>28200</td>\n",
       "      <td>210000</td>\n",
       "      <td>237000</td>\n",
       "    </tr>\n",
       "    <tr>\n",
       "      <td>2</td>\n",
       "      <td>2016/01/06</td>\n",
       "      <td>28100</td>\n",
       "      <td>208000</td>\n",
       "      <td>234500</td>\n",
       "    </tr>\n",
       "  </tbody>\n",
       "</table>\n",
       "</div>"
      ],
      "text/plain": [
       "           일자     KT   SK텔레콤   현대모비스\n",
       "0  2016/01/04  28000  210500  238000\n",
       "1  2016/01/05  28200  210000  237000\n",
       "2  2016/01/06  28100  208000  234500"
      ]
     },
     "execution_count": 11,
     "metadata": {},
     "output_type": "execute_result"
    }
   ],
   "source": [
    "df=pd.read_excel(\"../data/data.xlsx\")\n",
    "df.head(3)"
   ]
  },
  {
   "cell_type": "code",
   "execution_count": 12,
   "metadata": {},
   "outputs": [
    {
     "data": {
      "text/html": [
       "<div>\n",
       "<style scoped>\n",
       "    .dataframe tbody tr th:only-of-type {\n",
       "        vertical-align: middle;\n",
       "    }\n",
       "\n",
       "    .dataframe tbody tr th {\n",
       "        vertical-align: top;\n",
       "    }\n",
       "\n",
       "    .dataframe thead th {\n",
       "        text-align: right;\n",
       "    }\n",
       "</style>\n",
       "<table border=\"1\" class=\"dataframe\">\n",
       "  <thead>\n",
       "    <tr style=\"text-align: right;\">\n",
       "      <th></th>\n",
       "      <th>KT</th>\n",
       "      <th>SK텔레콤</th>\n",
       "      <th>현대모비스</th>\n",
       "    </tr>\n",
       "    <tr>\n",
       "      <th>일자</th>\n",
       "      <th></th>\n",
       "      <th></th>\n",
       "      <th></th>\n",
       "    </tr>\n",
       "  </thead>\n",
       "  <tbody>\n",
       "    <tr>\n",
       "      <td>2016/01/04</td>\n",
       "      <td>28000</td>\n",
       "      <td>210500</td>\n",
       "      <td>238000</td>\n",
       "    </tr>\n",
       "    <tr>\n",
       "      <td>2016/01/05</td>\n",
       "      <td>28200</td>\n",
       "      <td>210000</td>\n",
       "      <td>237000</td>\n",
       "    </tr>\n",
       "    <tr>\n",
       "      <td>2016/01/06</td>\n",
       "      <td>28100</td>\n",
       "      <td>208000</td>\n",
       "      <td>234500</td>\n",
       "    </tr>\n",
       "  </tbody>\n",
       "</table>\n",
       "</div>"
      ],
      "text/plain": [
       "               KT   SK텔레콤   현대모비스\n",
       "일자                               \n",
       "2016/01/04  28000  210500  238000\n",
       "2016/01/05  28200  210000  237000\n",
       "2016/01/06  28100  208000  234500"
      ]
     },
     "execution_count": 12,
     "metadata": {},
     "output_type": "execute_result"
    }
   ],
   "source": [
    "df=pd.read_excel(\"../data/data.xlsx\")\n",
    "df.set_index('일자',inplace=True)\n",
    "df.head(3)"
   ]
  },
  {
   "cell_type": "code",
   "execution_count": 15,
   "metadata": {},
   "outputs": [
    {
     "data": {
      "text/plain": [
       "<matplotlib.axes._subplots.AxesSubplot at 0x1b3abfe14c8>"
      ]
     },
     "execution_count": 15,
     "metadata": {},
     "output_type": "execute_result"
    },
    {
     "data": {
      "image/png": "[encoded data removed]",
      "text/plain": [
       "<Figure size 432x288 with 1 Axes>"
      ]
     },
     "metadata": {
      "needs_background": "light"
     },
     "output_type": "display_data"
    }
   ],
   "source": [
    "df['KT'].plot(title=\"KT\",legend=True)"
   ]
  },
  {
   "cell_type": "code",
   "execution_count": 33,
   "metadata": {},
   "outputs": [],
   "source": [
    "import matplotlib.pyplot as plt\n",
    "import platform\n",
    "\n",
    "path = \"c:/Windows/Fonts/malgun.ttf\"\n",
    "from matplotlib import font_manager, rc\n",
    "if platform.system() == \"Darwin\":\n",
    "    rc('font', family='AppleGothic')\n",
    "elif platform.system() == \"Windows\":\n",
    "    font_name = font_manager.FontProperties(fname=path).get_name()\n",
    "    rc('font', family=font_name)\n",
    "else:\n",
    "    print('Unknown System... sorry~~~')\n",
    "    \n",
    "%matplotlib inline"
   ]
  },
  {
   "cell_type": "code",
   "execution_count": 17,
   "metadata": {},
   "outputs": [],
   "source": [
    "df2=df"
   ]
  },
  {
   "cell_type": "code",
   "execution_count": 24,
   "metadata": {},
   "outputs": [
    {
     "data": {
      "text/html": [
       "<div>\n",
       "<style scoped>\n",
       "    .dataframe tbody tr th:only-of-type {\n",
       "        vertical-align: middle;\n",
       "    }\n",
       "\n",
       "    .dataframe tbody tr th {\n",
       "        vertical-align: top;\n",
       "    }\n",
       "\n",
       "    .dataframe thead th {\n",
       "        text-align: right;\n",
       "    }\n",
       "</style>\n",
       "<table border=\"1\" class=\"dataframe\">\n",
       "  <thead>\n",
       "    <tr style=\"text-align: right;\">\n",
       "      <th></th>\n",
       "      <th>KT</th>\n",
       "      <th>SK텔레콤</th>\n",
       "      <th>현대모비스</th>\n",
       "      <th>KT_MA</th>\n",
       "    </tr>\n",
       "    <tr>\n",
       "      <th>일자</th>\n",
       "      <th></th>\n",
       "      <th></th>\n",
       "      <th></th>\n",
       "      <th></th>\n",
       "    </tr>\n",
       "  </thead>\n",
       "  <tbody>\n",
       "    <tr>\n",
       "      <td>2016/01/08</td>\n",
       "      <td>27750</td>\n",
       "      <td>208000</td>\n",
       "      <td>238500</td>\n",
       "      <td>27960.0</td>\n",
       "    </tr>\n",
       "    <tr>\n",
       "      <td>2016/01/11</td>\n",
       "      <td>27600</td>\n",
       "      <td>203000</td>\n",
       "      <td>241000</td>\n",
       "      <td>27880.0</td>\n",
       "    </tr>\n",
       "    <tr>\n",
       "      <td>2016/01/12</td>\n",
       "      <td>27500</td>\n",
       "      <td>206500</td>\n",
       "      <td>241500</td>\n",
       "      <td>27740.0</td>\n",
       "    </tr>\n",
       "    <tr>\n",
       "      <td>2016/01/13</td>\n",
       "      <td>27650</td>\n",
       "      <td>208500</td>\n",
       "      <td>247000</td>\n",
       "      <td>27650.0</td>\n",
       "    </tr>\n",
       "    <tr>\n",
       "      <td>2016/01/14</td>\n",
       "      <td>27350</td>\n",
       "      <td>208500</td>\n",
       "      <td>245000</td>\n",
       "      <td>27570.0</td>\n",
       "    </tr>\n",
       "  </tbody>\n",
       "</table>\n",
       "</div>"
      ],
      "text/plain": [
       "               KT   SK텔레콤   현대모비스    KT_MA\n",
       "일자                                        \n",
       "2016/01/08  27750  208000  238500  27960.0\n",
       "2016/01/11  27600  203000  241000  27880.0\n",
       "2016/01/12  27500  206500  241500  27740.0\n",
       "2016/01/13  27650  208500  247000  27650.0\n",
       "2016/01/14  27350  208500  245000  27570.0"
      ]
     },
     "execution_count": 24,
     "metadata": {},
     "output_type": "execute_result"
    }
   ],
   "source": [
    "df2['KT_MA']=df2['KT'].rolling(5).mean()\n",
    "df2.dropna(axis=0,inplace=True)\n",
    "df2.head()"
   ]
  },
  {
   "cell_type": "code",
   "execution_count": 25,
   "metadata": {},
   "outputs": [
    {
     "data": {
      "text/plain": [
       "<matplotlib.axes._subplots.AxesSubplot at 0x1b3ac04a308>"
      ]
     },
     "execution_count": 25,
     "metadata": {},
     "output_type": "execute_result"
    },
    {
     "data": {
      "image/png": "[encoded data removed]",
      "text/plain": [
       "<Figure size 432x288 with 1 Axes>"
      ]
     },
     "metadata": {
      "needs_background": "light"
     },
     "output_type": "display_data"
    }
   ],
   "source": [
    "df2[['KT','KT_MA']].plot(title = \"KT and KT Moving Average\", legend = True)"
   ]
  },
  {
   "cell_type": "code",
   "execution_count": 29,
   "metadata": {},
   "outputs": [
    {
     "data": {
      "text/plain": [
       "<matplotlib.axes._subplots.AxesSubplot at 0x1b3ac1c5d88>"
      ]
     },
     "execution_count": 29,
     "metadata": {},
     "output_type": "execute_result"
    },
    {
     "data": {
      "image/png": "[encoded data removed]",
      "text/plain": [
       "<Figure size 432x288 with 1 Axes>"
      ]
     },
     "metadata": {
      "needs_background": "light"
     },
     "output_type": "display_data"
    }
   ],
   "source": [
    "df3 = df\n",
    "df3[\"KT_5MA\"]=df3['KT'].rolling(5).mean()\n",
    "df3[\"KT_20MA\"]=df3['KT'].rolling(20).mean()\n",
    "df3[\"KT_60MA\"]=df3['KT'].rolling(60).mean()\n",
    "df3.dropna(axis=0,inplace=True)\n",
    "df3.head()\n",
    "\n",
    "df3[['KT','KT_5MA','KT_20MA','KT_60MA']].plot( title = \"KT and KT Moving Average\", legend =True)"
   ]
  },
  {
   "cell_type": "code",
   "execution_count": null,
   "metadata": {},
   "outputs": [],
   "source": [
    "#MACD 구하기\n",
    "stock = input(\"Enter firm name: \")\n",
    "code = input(\"Enter stock name: \")\n",
    "data = pd.DataFrame()\n",
    "data[stock]=yf.download(code, \"2019-01-01\",\"2019-12-27\")[\"Close\"]\n",
    "data.head()\n",
    "\n",
    "#stock = \"samsung\"\n",
    "#code=\"005930.KS\""
   ]
  },
  {
   "cell_type": "code",
   "execution_count": 34,
   "metadata": {},
   "outputs": [
    {
     "data": {
      "text/plain": [
       "<matplotlib.axes._subplots.AxesSubplot at 0x1b3ad4beb48>"
      ]
     },
     "execution_count": 34,
     "metadata": {},
     "output_type": "execute_result"
    },
    {
     "data": {
      "image/png": "[encoded data removed]",
      "text/plain": [
       "<Figure size 432x288 with 1 Axes>"
      ]
     },
     "metadata": {
      "needs_background": "light"
     },
     "output_type": "display_data"
    }
   ],
   "source": [
    "data[\"MA_10\"]=data[stock].rolling(10).mean()\n",
    "data[\"MA_30\"]=data[stock].rolling(30).mean()\n",
    "data[\"macd\"]=data[\"MA_10\"]-data[\"MA_30\"]\n",
    "data[\"signal\"]=data[\"macd\"].rolling(10).mean()\n",
    "data.dropna(inplace=True)\n",
    "data[[\"macd\",\"signal\"]].plot(title=\"MACD and  signal of \" + stock ,legend=True)"
   ]
  },
  {
   "cell_type": "code",
   "execution_count": 1,
   "metadata": {},
   "outputs": [
    {
     "ename": "NameError",
     "evalue": "name 'data' is not defined",
     "output_type": "error",
     "traceback": [
      "\u001b[1;31m---------------------------------------------------------------------------\u001b[0m",
      "\u001b[1;31mNameError\u001b[0m                                 Traceback (most recent call last)",
      "\u001b[1;32m<ipython-input-1-c5d84736ba45>\u001b[0m in \u001b[0;36m<module>\u001b[1;34m\u001b[0m\n\u001b[1;32m----> 1\u001b[1;33m \u001b[0mdata\u001b[0m\u001b[1;33m\u001b[0m\u001b[1;33m\u001b[0m\u001b[0m\n\u001b[0m",
      "\u001b[1;31mNameError\u001b[0m: name 'data' is not defined"
     ]
    }
   ],
   "source": [
    "data"
   ]
  },
  {
   "cell_type": "code",
   "execution_count": null,
   "metadata": {},
   "outputs": [],
   "source": []
  }
 ],
 "metadata": {
  "kernelspec": {
   "display_name": "Python 3",
   "language": "python",
   "name": "python3"
  },
  "language_info": {
   "codemirror_mode": {
    "name": "ipython",
    "version": 3
   },
   "file_extension": ".py",
   "mimetype": "text/x-python",
   "name": "python",
   "nbconvert_exporter": "python",
   "pygments_lexer": "ipython3",
   "version": "3.7.4"
  }
 },
 "nbformat": 4,
 "nbformat_minor": 2
}
