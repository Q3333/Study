{
 "cells": [
  {
   "cell_type": "code",
   "execution_count": 1,
   "metadata": {},
   "outputs": [
    {
     "name": "stdout",
     "output_type": "stream",
     "text": [
      "[*********************100%***********************]  1 of 1 completed\n"
     ]
    },
    {
     "data": {
      "text/html": [
       "<div>\n",
       "<style scoped>\n",
       "    .dataframe tbody tr th:only-of-type {\n",
       "        vertical-align: middle;\n",
       "    }\n",
       "\n",
       "    .dataframe tbody tr th {\n",
       "        vertical-align: top;\n",
       "    }\n",
       "\n",
       "    .dataframe thead th {\n",
       "        text-align: right;\n",
       "    }\n",
       "</style>\n",
       "<table border=\"1\" class=\"dataframe\">\n",
       "  <thead>\n",
       "    <tr style=\"text-align: right;\">\n",
       "      <th></th>\n",
       "      <th>samsung</th>\n",
       "    </tr>\n",
       "    <tr>\n",
       "      <th>Date</th>\n",
       "      <th></th>\n",
       "    </tr>\n",
       "  </thead>\n",
       "  <tbody>\n",
       "    <tr>\n",
       "      <td>2019-01-02</td>\n",
       "      <td>38750.0</td>\n",
       "    </tr>\n",
       "    <tr>\n",
       "      <td>2019-01-03</td>\n",
       "      <td>37600.0</td>\n",
       "    </tr>\n",
       "    <tr>\n",
       "      <td>2019-01-04</td>\n",
       "      <td>37450.0</td>\n",
       "    </tr>\n",
       "    <tr>\n",
       "      <td>2019-01-07</td>\n",
       "      <td>38750.0</td>\n",
       "    </tr>\n",
       "    <tr>\n",
       "      <td>2019-01-08</td>\n",
       "      <td>38100.0</td>\n",
       "    </tr>\n",
       "  </tbody>\n",
       "</table>\n",
       "</div>"
      ],
      "text/plain": [
       "            samsung\n",
       "Date               \n",
       "2019-01-02  38750.0\n",
       "2019-01-03  37600.0\n",
       "2019-01-04  37450.0\n",
       "2019-01-07  38750.0\n",
       "2019-01-08  38100.0"
      ]
     },
     "execution_count": 1,
     "metadata": {},
     "output_type": "execute_result"
    }
   ],
   "source": [
    "import numpy as np\n",
    "import pandas as pd\n",
    "import yfinance as yf\n",
    "from math import *\n",
    "df=pd.DataFrame()\n",
    "stock = \"samsung\"\n",
    "code = \"005930.KS\"\n",
    "df[stock]=yf.download(code, \"2019-01-01\",\"2019-12-27\")[\"Close\"]\n",
    "df.head()"
   ]
  },
  {
   "cell_type": "code",
   "execution_count": 2,
   "metadata": {},
   "outputs": [],
   "source": [
    "df['change']=df[stock].diff(1)\n",
    "df['U']=df['change'].apply(lambda x: x if x>=0 else 0)\n",
    "df['D']=df['change'].apply(lambda x: abs(x)if x<0 else 0)"
   ]
  },
  {
   "cell_type": "code",
   "execution_count": 4,
   "metadata": {},
   "outputs": [
    {
     "data": {
      "text/html": [
       "<div>\n",
       "<style scoped>\n",
       "    .dataframe tbody tr th:only-of-type {\n",
       "        vertical-align: middle;\n",
       "    }\n",
       "\n",
       "    .dataframe tbody tr th {\n",
       "        vertical-align: top;\n",
       "    }\n",
       "\n",
       "    .dataframe thead th {\n",
       "        text-align: right;\n",
       "    }\n",
       "</style>\n",
       "<table border=\"1\" class=\"dataframe\">\n",
       "  <thead>\n",
       "    <tr style=\"text-align: right;\">\n",
       "      <th></th>\n",
       "      <th>samsung</th>\n",
       "      <th>change</th>\n",
       "      <th>U</th>\n",
       "      <th>D</th>\n",
       "      <th>AU</th>\n",
       "      <th>AD</th>\n",
       "      <th>rs</th>\n",
       "      <th>rsi</th>\n",
       "      <th>signal</th>\n",
       "    </tr>\n",
       "    <tr>\n",
       "      <th>Date</th>\n",
       "      <th></th>\n",
       "      <th></th>\n",
       "      <th></th>\n",
       "      <th></th>\n",
       "      <th></th>\n",
       "      <th></th>\n",
       "      <th></th>\n",
       "      <th></th>\n",
       "      <th></th>\n",
       "    </tr>\n",
       "  </thead>\n",
       "  <tbody>\n",
       "    <tr>\n",
       "      <td>2019-02-01</td>\n",
       "      <td>46350.0</td>\n",
       "      <td>200.0</td>\n",
       "      <td>200.0</td>\n",
       "      <td>0.0</td>\n",
       "      <td>521.428571</td>\n",
       "      <td>71.428571</td>\n",
       "      <td>7.300000</td>\n",
       "      <td>87.951807</td>\n",
       "      <td>80.840557</td>\n",
       "    </tr>\n",
       "    <tr>\n",
       "      <td>2019-02-07</td>\n",
       "      <td>46200.0</td>\n",
       "      <td>-150.0</td>\n",
       "      <td>0.0</td>\n",
       "      <td>150.0</td>\n",
       "      <td>446.428571</td>\n",
       "      <td>82.142857</td>\n",
       "      <td>5.434783</td>\n",
       "      <td>84.459459</td>\n",
       "      <td>82.013776</td>\n",
       "    </tr>\n",
       "    <tr>\n",
       "      <td>2019-02-08</td>\n",
       "      <td>44800.0</td>\n",
       "      <td>-1400.0</td>\n",
       "      <td>0.0</td>\n",
       "      <td>1400.0</td>\n",
       "      <td>421.428571</td>\n",
       "      <td>182.142857</td>\n",
       "      <td>2.313725</td>\n",
       "      <td>69.822485</td>\n",
       "      <td>82.187514</td>\n",
       "    </tr>\n",
       "    <tr>\n",
       "      <td>2019-02-11</td>\n",
       "      <td>45000.0</td>\n",
       "      <td>200.0</td>\n",
       "      <td>200.0</td>\n",
       "      <td>0.0</td>\n",
       "      <td>400.000000</td>\n",
       "      <td>182.142857</td>\n",
       "      <td>2.196078</td>\n",
       "      <td>68.711656</td>\n",
       "      <td>81.439632</td>\n",
       "    </tr>\n",
       "    <tr>\n",
       "      <td>2019-02-12</td>\n",
       "      <td>46050.0</td>\n",
       "      <td>1050.0</td>\n",
       "      <td>1050.0</td>\n",
       "      <td>0.0</td>\n",
       "      <td>450.000000</td>\n",
       "      <td>182.142857</td>\n",
       "      <td>2.470588</td>\n",
       "      <td>71.186441</td>\n",
       "      <td>80.547523</td>\n",
       "    </tr>\n",
       "  </tbody>\n",
       "</table>\n",
       "</div>"
      ],
      "text/plain": [
       "            samsung  change       U       D          AU          AD        rs  \\\n",
       "Date                                                                            \n",
       "2019-02-01  46350.0   200.0   200.0     0.0  521.428571   71.428571  7.300000   \n",
       "2019-02-07  46200.0  -150.0     0.0   150.0  446.428571   82.142857  5.434783   \n",
       "2019-02-08  44800.0 -1400.0     0.0  1400.0  421.428571  182.142857  2.313725   \n",
       "2019-02-11  45000.0   200.0   200.0     0.0  400.000000  182.142857  2.196078   \n",
       "2019-02-12  46050.0  1050.0  1050.0     0.0  450.000000  182.142857  2.470588   \n",
       "\n",
       "                  rsi     signal  \n",
       "Date                              \n",
       "2019-02-01  87.951807  80.840557  \n",
       "2019-02-07  84.459459  82.013776  \n",
       "2019-02-08  69.822485  82.187514  \n",
       "2019-02-11  68.711656  81.439632  \n",
       "2019-02-12  71.186441  80.547523  "
      ]
     },
     "execution_count": 4,
     "metadata": {},
     "output_type": "execute_result"
    }
   ],
   "source": [
    "df['AU']=df['U'].rolling(14).mean()\n",
    "df['AD']=df['D'].rolling(14).mean()\n",
    "df['rs']=df['AU']/df['AD']\n",
    "df['rsi']=(df['rs']/(1+df['rs']))*100\n",
    "df['signal']=df['rsi'].rolling(10).mean()\n",
    "df.dropna(axis=0,inplace=True)\n",
    "df.head()"
   ]
  },
  {
   "cell_type": "code",
   "execution_count": 6,
   "metadata": {},
   "outputs": [
    {
     "data": {
      "text/plain": [
       "<matplotlib.axes._subplots.AxesSubplot at 0x228536b0608>"
      ]
     },
     "execution_count": 6,
     "metadata": {},
     "output_type": "execute_result"
    },
    {
     "data": {
      "image/png": "[encoded data removed]",
      "text/plain": [
       "<Figure size 432x288 with 1 Axes>"
      ]
     },
     "metadata": {
      "needs_background": "light"
     },
     "output_type": "display_data"
    }
   ],
   "source": [
    "df[['rsi','signal']].plot(legend=True)"
   ]
  },
  {
   "cell_type": "code",
   "execution_count": 10,
   "metadata": {},
   "outputs": [
    {
     "name": "stdout",
     "output_type": "stream",
     "text": [
      "[*********************100%***********************]  1 of 1 completed\n"
     ]
    },
    {
     "data": {
      "text/html": [
       "<div>\n",
       "<style scoped>\n",
       "    .dataframe tbody tr th:only-of-type {\n",
       "        vertical-align: middle;\n",
       "    }\n",
       "\n",
       "    .dataframe tbody tr th {\n",
       "        vertical-align: top;\n",
       "    }\n",
       "\n",
       "    .dataframe thead th {\n",
       "        text-align: right;\n",
       "    }\n",
       "</style>\n",
       "<table border=\"1\" class=\"dataframe\">\n",
       "  <thead>\n",
       "    <tr style=\"text-align: right;\">\n",
       "      <th></th>\n",
       "      <th>Open</th>\n",
       "      <th>High</th>\n",
       "      <th>Low</th>\n",
       "      <th>Close</th>\n",
       "      <th>Adj Close</th>\n",
       "      <th>Volume</th>\n",
       "      <th>Change</th>\n",
       "    </tr>\n",
       "    <tr>\n",
       "      <th>Date</th>\n",
       "      <th></th>\n",
       "      <th></th>\n",
       "      <th></th>\n",
       "      <th></th>\n",
       "      <th></th>\n",
       "      <th></th>\n",
       "      <th></th>\n",
       "    </tr>\n",
       "  </thead>\n",
       "  <tbody>\n",
       "    <tr>\n",
       "      <td>2019-01-02</td>\n",
       "      <td>39400.0</td>\n",
       "      <td>39400.0</td>\n",
       "      <td>38550.0</td>\n",
       "      <td>38750.0</td>\n",
       "      <td>38750.0</td>\n",
       "      <td>7847664</td>\n",
       "      <td>NaN</td>\n",
       "    </tr>\n",
       "    <tr>\n",
       "      <td>2019-01-03</td>\n",
       "      <td>38300.0</td>\n",
       "      <td>38550.0</td>\n",
       "      <td>37450.0</td>\n",
       "      <td>37600.0</td>\n",
       "      <td>37600.0</td>\n",
       "      <td>12471493</td>\n",
       "      <td>-1150.0</td>\n",
       "    </tr>\n",
       "    <tr>\n",
       "      <td>2019-01-04</td>\n",
       "      <td>37450.0</td>\n",
       "      <td>37600.0</td>\n",
       "      <td>36850.0</td>\n",
       "      <td>37450.0</td>\n",
       "      <td>37450.0</td>\n",
       "      <td>14108958</td>\n",
       "      <td>-150.0</td>\n",
       "    </tr>\n",
       "    <tr>\n",
       "      <td>2019-01-07</td>\n",
       "      <td>38000.0</td>\n",
       "      <td>38900.0</td>\n",
       "      <td>37800.0</td>\n",
       "      <td>38750.0</td>\n",
       "      <td>38750.0</td>\n",
       "      <td>12748997</td>\n",
       "      <td>1300.0</td>\n",
       "    </tr>\n",
       "    <tr>\n",
       "      <td>2019-01-08</td>\n",
       "      <td>38000.0</td>\n",
       "      <td>39200.0</td>\n",
       "      <td>37950.0</td>\n",
       "      <td>38100.0</td>\n",
       "      <td>38100.0</td>\n",
       "      <td>12756554</td>\n",
       "      <td>-650.0</td>\n",
       "    </tr>\n",
       "  </tbody>\n",
       "</table>\n",
       "</div>"
      ],
      "text/plain": [
       "               Open     High      Low    Close  Adj Close    Volume  Change\n",
       "Date                                                                       \n",
       "2019-01-02  39400.0  39400.0  38550.0  38750.0    38750.0   7847664     NaN\n",
       "2019-01-03  38300.0  38550.0  37450.0  37600.0    37600.0  12471493 -1150.0\n",
       "2019-01-04  37450.0  37600.0  36850.0  37450.0    37450.0  14108958  -150.0\n",
       "2019-01-07  38000.0  38900.0  37800.0  38750.0    38750.0  12748997  1300.0\n",
       "2019-01-08  38000.0  39200.0  37950.0  38100.0    38100.0  12756554  -650.0"
      ]
     },
     "execution_count": 10,
     "metadata": {},
     "output_type": "execute_result"
    }
   ],
   "source": [
    "### OBV 실습\n",
    "df=pd.DataFrame()\n",
    "stock = \"samsung\"\n",
    "code = \"005930.KS\"\n",
    "df=yf.download(code, \"2019-01-01\",\"2019-12-27\")\n",
    "df['Change']=df['Close'].diff(1)\n",
    "df.head()"
   ]
  },
  {
   "cell_type": "code",
   "execution_count": 15,
   "metadata": {},
   "outputs": [
    {
     "data": {
      "text/html": [
       "<div>\n",
       "<style scoped>\n",
       "    .dataframe tbody tr th:only-of-type {\n",
       "        vertical-align: middle;\n",
       "    }\n",
       "\n",
       "    .dataframe tbody tr th {\n",
       "        vertical-align: top;\n",
       "    }\n",
       "\n",
       "    .dataframe thead th {\n",
       "        text-align: right;\n",
       "    }\n",
       "</style>\n",
       "<table border=\"1\" class=\"dataframe\">\n",
       "  <thead>\n",
       "    <tr style=\"text-align: right;\">\n",
       "      <th></th>\n",
       "      <th>Open</th>\n",
       "      <th>High</th>\n",
       "      <th>Low</th>\n",
       "      <th>Close</th>\n",
       "      <th>Adj Close</th>\n",
       "      <th>Volume</th>\n",
       "      <th>Change</th>\n",
       "      <th>obv</th>\n",
       "    </tr>\n",
       "    <tr>\n",
       "      <th>Date</th>\n",
       "      <th></th>\n",
       "      <th></th>\n",
       "      <th></th>\n",
       "      <th></th>\n",
       "      <th></th>\n",
       "      <th></th>\n",
       "      <th></th>\n",
       "      <th></th>\n",
       "    </tr>\n",
       "  </thead>\n",
       "  <tbody>\n",
       "    <tr>\n",
       "      <td>2019-01-02</td>\n",
       "      <td>39400.0</td>\n",
       "      <td>39400.0</td>\n",
       "      <td>38550.0</td>\n",
       "      <td>38750.0</td>\n",
       "      <td>38750.0</td>\n",
       "      <td>7847664</td>\n",
       "      <td>NaN</td>\n",
       "      <td>0.0</td>\n",
       "    </tr>\n",
       "    <tr>\n",
       "      <td>2019-01-03</td>\n",
       "      <td>38300.0</td>\n",
       "      <td>38550.0</td>\n",
       "      <td>37450.0</td>\n",
       "      <td>37600.0</td>\n",
       "      <td>37600.0</td>\n",
       "      <td>12471493</td>\n",
       "      <td>-1150.0</td>\n",
       "      <td>0.0</td>\n",
       "    </tr>\n",
       "    <tr>\n",
       "      <td>2019-01-04</td>\n",
       "      <td>37450.0</td>\n",
       "      <td>37600.0</td>\n",
       "      <td>36850.0</td>\n",
       "      <td>37450.0</td>\n",
       "      <td>37450.0</td>\n",
       "      <td>14108958</td>\n",
       "      <td>-150.0</td>\n",
       "      <td>0.0</td>\n",
       "    </tr>\n",
       "    <tr>\n",
       "      <td>2019-01-07</td>\n",
       "      <td>38000.0</td>\n",
       "      <td>38900.0</td>\n",
       "      <td>37800.0</td>\n",
       "      <td>38750.0</td>\n",
       "      <td>38750.0</td>\n",
       "      <td>12748997</td>\n",
       "      <td>1300.0</td>\n",
       "      <td>0.0</td>\n",
       "    </tr>\n",
       "    <tr>\n",
       "      <td>2019-01-08</td>\n",
       "      <td>38000.0</td>\n",
       "      <td>39200.0</td>\n",
       "      <td>37950.0</td>\n",
       "      <td>38100.0</td>\n",
       "      <td>38100.0</td>\n",
       "      <td>12756554</td>\n",
       "      <td>-650.0</td>\n",
       "      <td>0.0</td>\n",
       "    </tr>\n",
       "  </tbody>\n",
       "</table>\n",
       "</div>"
      ],
      "text/plain": [
       "               Open     High      Low    Close  Adj Close    Volume  Change  \\\n",
       "Date                                                                          \n",
       "2019-01-02  39400.0  39400.0  38550.0  38750.0    38750.0   7847664     NaN   \n",
       "2019-01-03  38300.0  38550.0  37450.0  37600.0    37600.0  12471493 -1150.0   \n",
       "2019-01-04  37450.0  37600.0  36850.0  37450.0    37450.0  14108958  -150.0   \n",
       "2019-01-07  38000.0  38900.0  37800.0  38750.0    38750.0  12748997  1300.0   \n",
       "2019-01-08  38000.0  39200.0  37950.0  38100.0    38100.0  12756554  -650.0   \n",
       "\n",
       "            obv  \n",
       "Date             \n",
       "2019-01-02  0.0  \n",
       "2019-01-03  0.0  \n",
       "2019-01-04  0.0  \n",
       "2019-01-07  0.0  \n",
       "2019-01-08  0.0  "
      ]
     },
     "execution_count": 15,
     "metadata": {},
     "output_type": "execute_result"
    }
   ],
   "source": [
    "df['obv']=np.zeros(df.shape[0])\n",
    "df.head()"
   ]
  },
  {
   "cell_type": "code",
   "execution_count": 17,
   "metadata": {},
   "outputs": [
    {
     "data": {
      "text/html": [
       "<div>\n",
       "<style scoped>\n",
       "    .dataframe tbody tr th:only-of-type {\n",
       "        vertical-align: middle;\n",
       "    }\n",
       "\n",
       "    .dataframe tbody tr th {\n",
       "        vertical-align: top;\n",
       "    }\n",
       "\n",
       "    .dataframe thead th {\n",
       "        text-align: right;\n",
       "    }\n",
       "</style>\n",
       "<table border=\"1\" class=\"dataframe\">\n",
       "  <thead>\n",
       "    <tr style=\"text-align: right;\">\n",
       "      <th></th>\n",
       "      <th>Open</th>\n",
       "      <th>High</th>\n",
       "      <th>Low</th>\n",
       "      <th>Close</th>\n",
       "      <th>Adj Close</th>\n",
       "      <th>Volume</th>\n",
       "      <th>Change</th>\n",
       "      <th>obv</th>\n",
       "    </tr>\n",
       "    <tr>\n",
       "      <th>Date</th>\n",
       "      <th></th>\n",
       "      <th></th>\n",
       "      <th></th>\n",
       "      <th></th>\n",
       "      <th></th>\n",
       "      <th></th>\n",
       "      <th></th>\n",
       "      <th></th>\n",
       "    </tr>\n",
       "  </thead>\n",
       "  <tbody>\n",
       "    <tr>\n",
       "      <td>2019-01-02</td>\n",
       "      <td>39400.0</td>\n",
       "      <td>39400.0</td>\n",
       "      <td>38550.0</td>\n",
       "      <td>38750.0</td>\n",
       "      <td>38750.0</td>\n",
       "      <td>7847664</td>\n",
       "      <td>NaN</td>\n",
       "      <td>7847664.0</td>\n",
       "    </tr>\n",
       "    <tr>\n",
       "      <td>2019-01-03</td>\n",
       "      <td>38300.0</td>\n",
       "      <td>38550.0</td>\n",
       "      <td>37450.0</td>\n",
       "      <td>37600.0</td>\n",
       "      <td>37600.0</td>\n",
       "      <td>12471493</td>\n",
       "      <td>-1150.0</td>\n",
       "      <td>0.0</td>\n",
       "    </tr>\n",
       "    <tr>\n",
       "      <td>2019-01-04</td>\n",
       "      <td>37450.0</td>\n",
       "      <td>37600.0</td>\n",
       "      <td>36850.0</td>\n",
       "      <td>37450.0</td>\n",
       "      <td>37450.0</td>\n",
       "      <td>14108958</td>\n",
       "      <td>-150.0</td>\n",
       "      <td>0.0</td>\n",
       "    </tr>\n",
       "    <tr>\n",
       "      <td>2019-01-07</td>\n",
       "      <td>38000.0</td>\n",
       "      <td>38900.0</td>\n",
       "      <td>37800.0</td>\n",
       "      <td>38750.0</td>\n",
       "      <td>38750.0</td>\n",
       "      <td>12748997</td>\n",
       "      <td>1300.0</td>\n",
       "      <td>0.0</td>\n",
       "    </tr>\n",
       "    <tr>\n",
       "      <td>2019-01-08</td>\n",
       "      <td>38000.0</td>\n",
       "      <td>39200.0</td>\n",
       "      <td>37950.0</td>\n",
       "      <td>38100.0</td>\n",
       "      <td>38100.0</td>\n",
       "      <td>12756554</td>\n",
       "      <td>-650.0</td>\n",
       "      <td>0.0</td>\n",
       "    </tr>\n",
       "  </tbody>\n",
       "</table>\n",
       "</div>"
      ],
      "text/plain": [
       "               Open     High      Low    Close  Adj Close    Volume  Change  \\\n",
       "Date                                                                          \n",
       "2019-01-02  39400.0  39400.0  38550.0  38750.0    38750.0   7847664     NaN   \n",
       "2019-01-03  38300.0  38550.0  37450.0  37600.0    37600.0  12471493 -1150.0   \n",
       "2019-01-04  37450.0  37600.0  36850.0  37450.0    37450.0  14108958  -150.0   \n",
       "2019-01-07  38000.0  38900.0  37800.0  38750.0    38750.0  12748997  1300.0   \n",
       "2019-01-08  38000.0  39200.0  37950.0  38100.0    38100.0  12756554  -650.0   \n",
       "\n",
       "                  obv  \n",
       "Date                   \n",
       "2019-01-02  7847664.0  \n",
       "2019-01-03        0.0  \n",
       "2019-01-04        0.0  \n",
       "2019-01-07        0.0  \n",
       "2019-01-08        0.0  "
      ]
     },
     "execution_count": 17,
     "metadata": {},
     "output_type": "execute_result"
    }
   ],
   "source": [
    "df.iloc[0,7]=df.iloc[0,5]\n",
    "df.head()"
   ]
  },
  {
   "cell_type": "code",
   "execution_count": 18,
   "metadata": {},
   "outputs": [
    {
     "data": {
      "text/html": [
       "<div>\n",
       "<style scoped>\n",
       "    .dataframe tbody tr th:only-of-type {\n",
       "        vertical-align: middle;\n",
       "    }\n",
       "\n",
       "    .dataframe tbody tr th {\n",
       "        vertical-align: top;\n",
       "    }\n",
       "\n",
       "    .dataframe thead th {\n",
       "        text-align: right;\n",
       "    }\n",
       "</style>\n",
       "<table border=\"1\" class=\"dataframe\">\n",
       "  <thead>\n",
       "    <tr style=\"text-align: right;\">\n",
       "      <th></th>\n",
       "      <th>Open</th>\n",
       "      <th>High</th>\n",
       "      <th>Low</th>\n",
       "      <th>Close</th>\n",
       "      <th>Adj Close</th>\n",
       "      <th>Volume</th>\n",
       "      <th>Change</th>\n",
       "      <th>obv</th>\n",
       "    </tr>\n",
       "    <tr>\n",
       "      <th>Date</th>\n",
       "      <th></th>\n",
       "      <th></th>\n",
       "      <th></th>\n",
       "      <th></th>\n",
       "      <th></th>\n",
       "      <th></th>\n",
       "      <th></th>\n",
       "      <th></th>\n",
       "    </tr>\n",
       "  </thead>\n",
       "  <tbody>\n",
       "    <tr>\n",
       "      <td>2019-01-02</td>\n",
       "      <td>39400.0</td>\n",
       "      <td>39400.0</td>\n",
       "      <td>38550.0</td>\n",
       "      <td>38750.0</td>\n",
       "      <td>38750.0</td>\n",
       "      <td>7847664</td>\n",
       "      <td>NaN</td>\n",
       "      <td>7847664.0</td>\n",
       "    </tr>\n",
       "    <tr>\n",
       "      <td>2019-01-03</td>\n",
       "      <td>38300.0</td>\n",
       "      <td>38550.0</td>\n",
       "      <td>37450.0</td>\n",
       "      <td>37600.0</td>\n",
       "      <td>37600.0</td>\n",
       "      <td>12471493</td>\n",
       "      <td>-1150.0</td>\n",
       "      <td>-4623829.0</td>\n",
       "    </tr>\n",
       "    <tr>\n",
       "      <td>2019-01-04</td>\n",
       "      <td>37450.0</td>\n",
       "      <td>37600.0</td>\n",
       "      <td>36850.0</td>\n",
       "      <td>37450.0</td>\n",
       "      <td>37450.0</td>\n",
       "      <td>14108958</td>\n",
       "      <td>-150.0</td>\n",
       "      <td>-18732787.0</td>\n",
       "    </tr>\n",
       "    <tr>\n",
       "      <td>2019-01-07</td>\n",
       "      <td>38000.0</td>\n",
       "      <td>38900.0</td>\n",
       "      <td>37800.0</td>\n",
       "      <td>38750.0</td>\n",
       "      <td>38750.0</td>\n",
       "      <td>12748997</td>\n",
       "      <td>1300.0</td>\n",
       "      <td>-5983790.0</td>\n",
       "    </tr>\n",
       "    <tr>\n",
       "      <td>2019-01-08</td>\n",
       "      <td>38000.0</td>\n",
       "      <td>39200.0</td>\n",
       "      <td>37950.0</td>\n",
       "      <td>38100.0</td>\n",
       "      <td>38100.0</td>\n",
       "      <td>12756554</td>\n",
       "      <td>-650.0</td>\n",
       "      <td>-18740344.0</td>\n",
       "    </tr>\n",
       "  </tbody>\n",
       "</table>\n",
       "</div>"
      ],
      "text/plain": [
       "               Open     High      Low    Close  Adj Close    Volume  Change  \\\n",
       "Date                                                                          \n",
       "2019-01-02  39400.0  39400.0  38550.0  38750.0    38750.0   7847664     NaN   \n",
       "2019-01-03  38300.0  38550.0  37450.0  37600.0    37600.0  12471493 -1150.0   \n",
       "2019-01-04  37450.0  37600.0  36850.0  37450.0    37450.0  14108958  -150.0   \n",
       "2019-01-07  38000.0  38900.0  37800.0  38750.0    38750.0  12748997  1300.0   \n",
       "2019-01-08  38000.0  39200.0  37950.0  38100.0    38100.0  12756554  -650.0   \n",
       "\n",
       "                   obv  \n",
       "Date                    \n",
       "2019-01-02   7847664.0  \n",
       "2019-01-03  -4623829.0  \n",
       "2019-01-04 -18732787.0  \n",
       "2019-01-07  -5983790.0  \n",
       "2019-01-08 -18740344.0  "
      ]
     },
     "execution_count": 18,
     "metadata": {},
     "output_type": "execute_result"
    }
   ],
   "source": [
    "for i in range(1,df.shape[0]):\n",
    "    if df.iloc[i,6]>0 : # change>0\n",
    "        df.iloc[i,7]=df.iloc[i-1,7]+df.iloc[i,5]\n",
    "    elif df.iloc[i,6]<0 : #change<0\n",
    "        df.iloc[i,7]=df.iloc[i-1,7]-df.iloc[i,5]\n",
    "    else:\n",
    "        df.iloc[i,7]=df.iloc[i-1,7]\n",
    "df.head()"
   ]
  },
  {
   "cell_type": "code",
   "execution_count": 19,
   "metadata": {},
   "outputs": [
    {
     "data": {
      "text/plain": [
       "range(0, 5)"
      ]
     },
     "execution_count": 19,
     "metadata": {},
     "output_type": "execute_result"
    }
   ],
   "source": [
    "range(5)"
   ]
  },
  {
   "cell_type": "code",
   "execution_count": 29,
   "metadata": {},
   "outputs": [
    {
     "name": "stdout",
     "output_type": "stream",
     "text": [
      "1\n",
      "range(1, 5)\n"
     ]
    }
   ],
   "source": [
    "a = range(1,5)\n",
    "print(a[0])\n",
    "print(a)"
   ]
  },
  {
   "cell_type": "code",
   "execution_count": 30,
   "metadata": {},
   "outputs": [
    {
     "name": "stdout",
     "output_type": "stream",
     "text": [
      "0\n",
      "range(0, 5)\n"
     ]
    }
   ],
   "source": [
    "a = range(5)\n",
    "print(a[0])\n",
    "print(a)"
   ]
  },
  {
   "cell_type": "code",
   "execution_count": 32,
   "metadata": {},
   "outputs": [
    {
     "data": {
      "text/plain": [
       "DatetimeIndex(['2019-01-02', '2019-01-03', '2019-01-04', '2019-01-07',\n",
       "               '2019-01-08', '2019-01-09', '2019-01-10', '2019-01-11',\n",
       "               '2019-01-14', '2019-01-15',\n",
       "               ...\n",
       "               '2019-12-12', '2019-12-13', '2019-12-16', '2019-12-17',\n",
       "               '2019-12-18', '2019-12-19', '2019-12-20', '2019-12-23',\n",
       "               '2019-12-24', '2019-12-26'],\n",
       "              dtype='datetime64[ns]', name='Date', length=243, freq=None)"
      ]
     },
     "execution_count": 32,
     "metadata": {},
     "output_type": "execute_result"
    }
   ],
   "source": [
    "df.index"
   ]
  },
  {
   "cell_type": "code",
   "execution_count": 33,
   "metadata": {},
   "outputs": [
    {
     "data": {
      "text/plain": [
       "<matplotlib.axes._subplots.AxesSubplot at 0x22853a35908>"
      ]
     },
     "execution_count": 33,
     "metadata": {},
     "output_type": "execute_result"
    },
    {
     "data": {
      "image/png": "[encoded data removed]",
      "text/plain": [
       "<Figure size 432x288 with 1 Axes>"
      ]
     },
     "metadata": {
      "needs_background": "light"
     },
     "output_type": "display_data"
    }
   ],
   "source": [
    "df['obv'].plot(legend=True)"
   ]
  },
  {
   "cell_type": "code",
   "execution_count": 34,
   "metadata": {},
   "outputs": [
    {
     "name": "stdout",
     "output_type": "stream",
     "text": [
      "[*********************100%***********************]  1 of 1 completed\n"
     ]
    },
    {
     "data": {
      "text/plain": [
       "<matplotlib.axes._subplots.AxesSubplot at 0x22853acfe88>"
      ]
     },
     "execution_count": 34,
     "metadata": {},
     "output_type": "execute_result"
    },
    {
     "data": {
      "image/png": "[encoded data removed]",
      "text/plain": [
       "<Figure size 432x288 with 1 Axes>"
      ]
     },
     "metadata": {
      "needs_background": "light"
     },
     "output_type": "display_data"
    }
   ],
   "source": [
    "import numpy as np\n",
    "import pandas as pd\n",
    "import yfinance as yf\n",
    "from math import *\n",
    "df=pd.DataFrame()\n",
    "stock = \"samsung\"\n",
    "code = \"005930.KS\"\n",
    "df=yf.download(code, \"2019-01-01\",\"2019-12-27\")\n",
    "df['Change']=df['Close'].diff(1)\n",
    "df['obv']=np.zeros(df.shape[0])\n",
    "df.iloc[0,7]=df.iloc[0,5]\n",
    "\n",
    "for i in range(1,df.shape[0]):\n",
    "    if df.iloc[i,6]>0 : # change>0\n",
    "        df.iloc[i,7]=df.iloc[i-1,7]+df.iloc[i,5]\n",
    "    elif df.iloc[i,6]<0 : #change<0\n",
    "        df.iloc[i,7]=df.iloc[i-1,7]-df.iloc[i,5]\n",
    "    else:\n",
    "        df.iloc[i,7]=df.iloc[i-1,7]\n",
    "        \n",
    "df['obv'].plot(legend=True)"
   ]
  },
  {
   "cell_type": "code",
   "execution_count": 36,
   "metadata": {},
   "outputs": [
    {
     "name": "stdout",
     "output_type": "stream",
     "text": [
      "[*********************100%***********************]  1 of 1 completed\n"
     ]
    },
    {
     "data": {
      "text/html": [
       "<div>\n",
       "<style scoped>\n",
       "    .dataframe tbody tr th:only-of-type {\n",
       "        vertical-align: middle;\n",
       "    }\n",
       "\n",
       "    .dataframe tbody tr th {\n",
       "        vertical-align: top;\n",
       "    }\n",
       "\n",
       "    .dataframe thead th {\n",
       "        text-align: right;\n",
       "    }\n",
       "</style>\n",
       "<table border=\"1\" class=\"dataframe\">\n",
       "  <thead>\n",
       "    <tr style=\"text-align: right;\">\n",
       "      <th></th>\n",
       "      <th>Open</th>\n",
       "      <th>High</th>\n",
       "      <th>Low</th>\n",
       "      <th>Close</th>\n",
       "      <th>Adj Close</th>\n",
       "      <th>Volume</th>\n",
       "      <th>AD</th>\n",
       "    </tr>\n",
       "    <tr>\n",
       "      <th>Date</th>\n",
       "      <th></th>\n",
       "      <th></th>\n",
       "      <th></th>\n",
       "      <th></th>\n",
       "      <th></th>\n",
       "      <th></th>\n",
       "      <th></th>\n",
       "    </tr>\n",
       "  </thead>\n",
       "  <tbody>\n",
       "    <tr>\n",
       "      <td>2019-01-02</td>\n",
       "      <td>39400.0</td>\n",
       "      <td>39400.0</td>\n",
       "      <td>38550.0</td>\n",
       "      <td>38750.0</td>\n",
       "      <td>38750.0</td>\n",
       "      <td>7847664</td>\n",
       "      <td>-4.154646e+06</td>\n",
       "    </tr>\n",
       "    <tr>\n",
       "      <td>2019-01-03</td>\n",
       "      <td>38300.0</td>\n",
       "      <td>38550.0</td>\n",
       "      <td>37450.0</td>\n",
       "      <td>37600.0</td>\n",
       "      <td>37600.0</td>\n",
       "      <td>12471493</td>\n",
       "      <td>-9.070177e+06</td>\n",
       "    </tr>\n",
       "    <tr>\n",
       "      <td>2019-01-04</td>\n",
       "      <td>37450.0</td>\n",
       "      <td>37600.0</td>\n",
       "      <td>36850.0</td>\n",
       "      <td>37450.0</td>\n",
       "      <td>37450.0</td>\n",
       "      <td>14108958</td>\n",
       "      <td>8.465375e+06</td>\n",
       "    </tr>\n",
       "    <tr>\n",
       "      <td>2019-01-07</td>\n",
       "      <td>38000.0</td>\n",
       "      <td>38900.0</td>\n",
       "      <td>37800.0</td>\n",
       "      <td>38750.0</td>\n",
       "      <td>38750.0</td>\n",
       "      <td>12748997</td>\n",
       "      <td>9.271998e+06</td>\n",
       "    </tr>\n",
       "    <tr>\n",
       "      <td>2019-01-08</td>\n",
       "      <td>38000.0</td>\n",
       "      <td>39200.0</td>\n",
       "      <td>37950.0</td>\n",
       "      <td>38100.0</td>\n",
       "      <td>38100.0</td>\n",
       "      <td>12756554</td>\n",
       "      <td>-9.694981e+06</td>\n",
       "    </tr>\n",
       "  </tbody>\n",
       "</table>\n",
       "</div>"
      ],
      "text/plain": [
       "               Open     High      Low    Close  Adj Close    Volume  \\\n",
       "Date                                                                  \n",
       "2019-01-02  39400.0  39400.0  38550.0  38750.0    38750.0   7847664   \n",
       "2019-01-03  38300.0  38550.0  37450.0  37600.0    37600.0  12471493   \n",
       "2019-01-04  37450.0  37600.0  36850.0  37450.0    37450.0  14108958   \n",
       "2019-01-07  38000.0  38900.0  37800.0  38750.0    38750.0  12748997   \n",
       "2019-01-08  38000.0  39200.0  37950.0  38100.0    38100.0  12756554   \n",
       "\n",
       "                      AD  \n",
       "Date                      \n",
       "2019-01-02 -4.154646e+06  \n",
       "2019-01-03 -9.070177e+06  \n",
       "2019-01-04  8.465375e+06  \n",
       "2019-01-07  9.271998e+06  \n",
       "2019-01-08 -9.694981e+06  "
      ]
     },
     "execution_count": 36,
     "metadata": {},
     "output_type": "execute_result"
    }
   ],
   "source": [
    "# ADI 계산\n",
    "\n",
    "import numpy as np\n",
    "import pandas as pd\n",
    "import yfinance as yf\n",
    "from math import *\n",
    "\n",
    "df=pd.DataFrame()\n",
    "stock = \"samsung\"\n",
    "code = \"005930.KS\"\n",
    "df=yf.download(code, \"2019-01-01\",\"2020-01-09\")\n",
    "df['AD']=((df['Close']-df['Low'])-(df['High']-df['Close']))/ ((df['High']-df['Low'])) * df['Volume']\n",
    "df.tail()\n"
   ]
  },
  {
   "cell_type": "code",
   "execution_count": null,
   "metadata": {},
   "outputs": [],
   "source": []
  }
 ],
 "metadata": {
  "kernelspec": {
   "display_name": "Python 3",
   "language": "python",
   "name": "python3"
  },
  "language_info": {
   "codemirror_mode": {
    "name": "ipython",
    "version": 3
   },
   "file_extension": ".py",
   "mimetype": "text/x-python",
   "name": "python",
   "nbconvert_exporter": "python",
   "pygments_lexer": "ipython3",
   "version": "3.7.4"
  }
 },
 "nbformat": 4,
 "nbformat_minor": 2
}
