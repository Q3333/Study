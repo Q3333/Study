{
 "cells": [
  {
   "cell_type": "code",
   "execution_count": 1,
   "metadata": {},
   "outputs": [
    {
     "name": "stdout",
     "output_type": "stream",
     "text": [
      "[*********************100%***********************]  1 of 1 completed\n"
     ]
    },
    {
     "data": {
      "text/html": [
       "<div>\n",
       "<style scoped>\n",
       "    .dataframe tbody tr th:only-of-type {\n",
       "        vertical-align: middle;\n",
       "    }\n",
       "\n",
       "    .dataframe tbody tr th {\n",
       "        vertical-align: top;\n",
       "    }\n",
       "\n",
       "    .dataframe thead th {\n",
       "        text-align: right;\n",
       "    }\n",
       "</style>\n",
       "<table border=\"1\" class=\"dataframe\">\n",
       "  <thead>\n",
       "    <tr style=\"text-align: right;\">\n",
       "      <th></th>\n",
       "      <th>samsung</th>\n",
       "    </tr>\n",
       "    <tr>\n",
       "      <th>Date</th>\n",
       "      <th></th>\n",
       "    </tr>\n",
       "  </thead>\n",
       "  <tbody>\n",
       "    <tr>\n",
       "      <td>2019-01-02</td>\n",
       "      <td>38750.0</td>\n",
       "    </tr>\n",
       "    <tr>\n",
       "      <td>2019-01-03</td>\n",
       "      <td>37600.0</td>\n",
       "    </tr>\n",
       "    <tr>\n",
       "      <td>2019-01-04</td>\n",
       "      <td>37450.0</td>\n",
       "    </tr>\n",
       "    <tr>\n",
       "      <td>2019-01-07</td>\n",
       "      <td>38750.0</td>\n",
       "    </tr>\n",
       "    <tr>\n",
       "      <td>2019-01-08</td>\n",
       "      <td>38100.0</td>\n",
       "    </tr>\n",
       "  </tbody>\n",
       "</table>\n",
       "</div>"
      ],
      "text/plain": [
       "            samsung\n",
       "Date               \n",
       "2019-01-02  38750.0\n",
       "2019-01-03  37600.0\n",
       "2019-01-04  37450.0\n",
       "2019-01-07  38750.0\n",
       "2019-01-08  38100.0"
      ]
     },
     "execution_count": 1,
     "metadata": {},
     "output_type": "execute_result"
    }
   ],
   "source": [
    "import numpy as np\n",
    "import pandas as pd\n",
    "import yfinance as yf\n",
    "from math import *"
   ]
  },
  {
   "cell_type": "code",
   "execution_count": 2,
   "metadata": {},
   "outputs": [
    {
     "name": "stdout",
     "output_type": "stream",
     "text": [
      "Enter firm name: samsung\n",
      "Enter stock name: 005930.KS\n",
      "[*********************100%***********************]  1 of 1 completed\n"
     ]
    },
    {
     "data": {
      "text/html": [
       "<div>\n",
       "<style scoped>\n",
       "    .dataframe tbody tr th:only-of-type {\n",
       "        vertical-align: middle;\n",
       "    }\n",
       "\n",
       "    .dataframe tbody tr th {\n",
       "        vertical-align: top;\n",
       "    }\n",
       "\n",
       "    .dataframe thead th {\n",
       "        text-align: right;\n",
       "    }\n",
       "</style>\n",
       "<table border=\"1\" class=\"dataframe\">\n",
       "  <thead>\n",
       "    <tr style=\"text-align: right;\">\n",
       "      <th></th>\n",
       "      <th>samsung</th>\n",
       "    </tr>\n",
       "    <tr>\n",
       "      <th>Date</th>\n",
       "      <th></th>\n",
       "    </tr>\n",
       "  </thead>\n",
       "  <tbody>\n",
       "    <tr>\n",
       "      <td>2019-01-02</td>\n",
       "      <td>38750.0</td>\n",
       "    </tr>\n",
       "    <tr>\n",
       "      <td>2019-01-03</td>\n",
       "      <td>37600.0</td>\n",
       "    </tr>\n",
       "    <tr>\n",
       "      <td>2019-01-04</td>\n",
       "      <td>37450.0</td>\n",
       "    </tr>\n",
       "    <tr>\n",
       "      <td>2019-01-07</td>\n",
       "      <td>38750.0</td>\n",
       "    </tr>\n",
       "    <tr>\n",
       "      <td>2019-01-08</td>\n",
       "      <td>38100.0</td>\n",
       "    </tr>\n",
       "  </tbody>\n",
       "</table>\n",
       "</div>"
      ],
      "text/plain": [
       "            samsung\n",
       "Date               \n",
       "2019-01-02  38750.0\n",
       "2019-01-03  37600.0\n",
       "2019-01-04  37450.0\n",
       "2019-01-07  38750.0\n",
       "2019-01-08  38100.0"
      ]
     },
     "execution_count": 2,
     "metadata": {},
     "output_type": "execute_result"
    }
   ],
   "source": [
    "#MACD 구하기\n",
    "stock = input(\"Enter firm name: \")\n",
    "code = input(\"Enter stock name: \")\n",
    "data = pd.DataFrame()\n",
    "data[stock]=yf.download(code, \"2019-01-01\",\"2019-12-27\")[\"Close\"]\n",
    "data.head()\n",
    "\n",
    "#stock = \"samsung\"\n",
    "#code=\"005930.KS\"\n"
   ]
  },
  {
   "cell_type": "code",
   "execution_count": 3,
   "metadata": {},
   "outputs": [],
   "source": [
    "data[\"MA_10\"]=data[stock].rolling(10).mean()\n",
    "data[\"MA_30\"]=data[stock].rolling(30).mean()\n",
    "data[\"macd\"]=data[\"MA_10\"]-data[\"MA_30\"]\n",
    "data[\"signal\"]=data[\"macd\"].rolling(10).mean()\n",
    "data.dropna(inplace=True)"
   ]
  },
  {
   "cell_type": "code",
   "execution_count": 4,
   "metadata": {},
   "outputs": [
    {
     "data": {
      "text/html": [
       "<div>\n",
       "<style scoped>\n",
       "    .dataframe tbody tr th:only-of-type {\n",
       "        vertical-align: middle;\n",
       "    }\n",
       "\n",
       "    .dataframe tbody tr th {\n",
       "        vertical-align: top;\n",
       "    }\n",
       "\n",
       "    .dataframe thead th {\n",
       "        text-align: right;\n",
       "    }\n",
       "</style>\n",
       "<table border=\"1\" class=\"dataframe\">\n",
       "  <thead>\n",
       "    <tr style=\"text-align: right;\">\n",
       "      <th></th>\n",
       "      <th>samsung</th>\n",
       "      <th>MA_10</th>\n",
       "      <th>MA_30</th>\n",
       "      <th>macd</th>\n",
       "      <th>signal</th>\n",
       "    </tr>\n",
       "    <tr>\n",
       "      <th>Date</th>\n",
       "      <th></th>\n",
       "      <th></th>\n",
       "      <th></th>\n",
       "      <th></th>\n",
       "      <th></th>\n",
       "    </tr>\n",
       "  </thead>\n",
       "  <tbody>\n",
       "    <tr>\n",
       "      <td>2019-02-28</td>\n",
       "      <td>45100.0</td>\n",
       "      <td>46515.0</td>\n",
       "      <td>45061.666667</td>\n",
       "      <td>1453.333333</td>\n",
       "      <td>2347.833333</td>\n",
       "    </tr>\n",
       "    <tr>\n",
       "      <td>2019-03-04</td>\n",
       "      <td>44850.0</td>\n",
       "      <td>46395.0</td>\n",
       "      <td>45186.666667</td>\n",
       "      <td>1208.333333</td>\n",
       "      <td>2139.500000</td>\n",
       "    </tr>\n",
       "    <tr>\n",
       "      <td>2019-03-05</td>\n",
       "      <td>44250.0</td>\n",
       "      <td>46200.0</td>\n",
       "      <td>45280.000000</td>\n",
       "      <td>920.000000</td>\n",
       "      <td>1929.166667</td>\n",
       "    </tr>\n",
       "    <tr>\n",
       "      <td>2019-03-06</td>\n",
       "      <td>44000.0</td>\n",
       "      <td>46005.0</td>\n",
       "      <td>45348.333333</td>\n",
       "      <td>656.666667</td>\n",
       "      <td>1722.333333</td>\n",
       "    </tr>\n",
       "    <tr>\n",
       "      <td>2019-03-07</td>\n",
       "      <td>44450.0</td>\n",
       "      <td>45760.0</td>\n",
       "      <td>45420.000000</td>\n",
       "      <td>340.000000</td>\n",
       "      <td>1509.833333</td>\n",
       "    </tr>\n",
       "    <tr>\n",
       "      <td>...</td>\n",
       "      <td>...</td>\n",
       "      <td>...</td>\n",
       "      <td>...</td>\n",
       "      <td>...</td>\n",
       "      <td>...</td>\n",
       "    </tr>\n",
       "    <tr>\n",
       "      <td>2019-12-19</td>\n",
       "      <td>56000.0</td>\n",
       "      <td>53670.0</td>\n",
       "      <td>52345.000000</td>\n",
       "      <td>1325.000000</td>\n",
       "      <td>-350.666667</td>\n",
       "    </tr>\n",
       "    <tr>\n",
       "      <td>2019-12-20</td>\n",
       "      <td>56000.0</td>\n",
       "      <td>54230.0</td>\n",
       "      <td>52448.333333</td>\n",
       "      <td>1781.666667</td>\n",
       "      <td>-84.166667</td>\n",
       "    </tr>\n",
       "    <tr>\n",
       "      <td>2019-12-23</td>\n",
       "      <td>55500.0</td>\n",
       "      <td>54660.0</td>\n",
       "      <td>52561.666667</td>\n",
       "      <td>2098.333333</td>\n",
       "      <td>221.000000</td>\n",
       "    </tr>\n",
       "    <tr>\n",
       "      <td>2019-12-24</td>\n",
       "      <td>55000.0</td>\n",
       "      <td>55010.0</td>\n",
       "      <td>52675.000000</td>\n",
       "      <td>2335.000000</td>\n",
       "      <td>553.500000</td>\n",
       "    </tr>\n",
       "    <tr>\n",
       "      <td>2019-12-26</td>\n",
       "      <td>55400.0</td>\n",
       "      <td>55360.0</td>\n",
       "      <td>52768.333333</td>\n",
       "      <td>2591.666667</td>\n",
       "      <td>917.333333</td>\n",
       "    </tr>\n",
       "  </tbody>\n",
       "</table>\n",
       "<p>205 rows × 5 columns</p>\n",
       "</div>"
      ],
      "text/plain": [
       "            samsung    MA_10         MA_30         macd       signal\n",
       "Date                                                                \n",
       "2019-02-28  45100.0  46515.0  45061.666667  1453.333333  2347.833333\n",
       "2019-03-04  44850.0  46395.0  45186.666667  1208.333333  2139.500000\n",
       "2019-03-05  44250.0  46200.0  45280.000000   920.000000  1929.166667\n",
       "2019-03-06  44000.0  46005.0  45348.333333   656.666667  1722.333333\n",
       "2019-03-07  44450.0  45760.0  45420.000000   340.000000  1509.833333\n",
       "...             ...      ...           ...          ...          ...\n",
       "2019-12-19  56000.0  53670.0  52345.000000  1325.000000  -350.666667\n",
       "2019-12-20  56000.0  54230.0  52448.333333  1781.666667   -84.166667\n",
       "2019-12-23  55500.0  54660.0  52561.666667  2098.333333   221.000000\n",
       "2019-12-24  55000.0  55010.0  52675.000000  2335.000000   553.500000\n",
       "2019-12-26  55400.0  55360.0  52768.333333  2591.666667   917.333333\n",
       "\n",
       "[205 rows x 5 columns]"
      ]
     },
     "execution_count": 4,
     "metadata": {},
     "output_type": "execute_result"
    }
   ],
   "source": [
    "data"
   ]
  },
  {
   "cell_type": "code",
   "execution_count": 5,
   "metadata": {},
   "outputs": [
    {
     "data": {
      "text/plain": [
       "<matplotlib.axes._subplots.AxesSubplot at 0x1b667796bc8>"
      ]
     },
     "execution_count": 5,
     "metadata": {},
     "output_type": "execute_result"
    }
   ],
   "source": [
    "data[[\"macd\",\"signal\"]].plot(title=\"MACD and  signal of \" + stock ,legend=True)"
   ]
  },
  {
   "cell_type": "code",
   "execution_count": 7,
   "metadata": {},
   "outputs": [],
   "source": [
    "import pandas as pd\n",
    "import yfinance as yf\n",
    "from math import *"
   ]
  },
  {
   "cell_type": "code",
   "execution_count": 8,
   "metadata": {},
   "outputs": [
    {
     "name": "stdout",
     "output_type": "stream",
     "text": [
      "[*********************100%***********************]  1 of 1 completed\n"
     ]
    },
    {
     "data": {
      "text/html": [
       "<div>\n",
       "<style scoped>\n",
       "    .dataframe tbody tr th:only-of-type {\n",
       "        vertical-align: middle;\n",
       "    }\n",
       "\n",
       "    .dataframe tbody tr th {\n",
       "        vertical-align: top;\n",
       "    }\n",
       "\n",
       "    .dataframe thead th {\n",
       "        text-align: right;\n",
       "    }\n",
       "</style>\n",
       "<table border=\"1\" class=\"dataframe\">\n",
       "  <thead>\n",
       "    <tr style=\"text-align: right;\">\n",
       "      <th></th>\n",
       "      <th>SamSung</th>\n",
       "      <th>change</th>\n",
       "    </tr>\n",
       "    <tr>\n",
       "      <th>Date</th>\n",
       "      <th></th>\n",
       "      <th></th>\n",
       "    </tr>\n",
       "  </thead>\n",
       "  <tbody>\n",
       "    <tr>\n",
       "      <td>2019-01-02</td>\n",
       "      <td>38750.0</td>\n",
       "      <td>NaN</td>\n",
       "    </tr>\n",
       "    <tr>\n",
       "      <td>2019-01-03</td>\n",
       "      <td>37600.0</td>\n",
       "      <td>-1150.0</td>\n",
       "    </tr>\n",
       "    <tr>\n",
       "      <td>2019-01-04</td>\n",
       "      <td>37450.0</td>\n",
       "      <td>-150.0</td>\n",
       "    </tr>\n",
       "    <tr>\n",
       "      <td>2019-01-07</td>\n",
       "      <td>38750.0</td>\n",
       "      <td>1300.0</td>\n",
       "    </tr>\n",
       "    <tr>\n",
       "      <td>2019-01-08</td>\n",
       "      <td>38100.0</td>\n",
       "      <td>-650.0</td>\n",
       "    </tr>\n",
       "  </tbody>\n",
       "</table>\n",
       "</div>"
      ],
      "text/plain": [
       "            SamSung  change\n",
       "Date                       \n",
       "2019-01-02  38750.0     NaN\n",
       "2019-01-03  37600.0 -1150.0\n",
       "2019-01-04  37450.0  -150.0\n",
       "2019-01-07  38750.0  1300.0\n",
       "2019-01-08  38100.0  -650.0"
      ]
     },
     "execution_count": 8,
     "metadata": {},
     "output_type": "execute_result"
    }
   ],
   "source": [
    "df=pd.DataFrame()\n",
    "stock=\"SamSung\"\n",
    "code = \"005930.KS\"\n",
    "df[stock]=yf.download(code,\"2019-01-01\",\"2019-12-27\")['Close']\n",
    "df['change']=df[stock].diff(1)\n",
    "df.head()"
   ]
  },
  {
   "cell_type": "code",
   "execution_count": 10,
   "metadata": {},
   "outputs": [],
   "source": [
    "df['U']=df['change'].apply(lambda x: x if x>=0 else 0)\n",
    "df['D']=df['change'].apply(lambda x: abs(x)if x<0 else 0)\n"
   ]
  },
  {
   "cell_type": "code",
   "execution_count": 11,
   "metadata": {},
   "outputs": [
    {
     "data": {
      "text/html": [
       "<div>\n",
       "<style scoped>\n",
       "    .dataframe tbody tr th:only-of-type {\n",
       "        vertical-align: middle;\n",
       "    }\n",
       "\n",
       "    .dataframe tbody tr th {\n",
       "        vertical-align: top;\n",
       "    }\n",
       "\n",
       "    .dataframe thead th {\n",
       "        text-align: right;\n",
       "    }\n",
       "</style>\n",
       "<table border=\"1\" class=\"dataframe\">\n",
       "  <thead>\n",
       "    <tr style=\"text-align: right;\">\n",
       "      <th></th>\n",
       "      <th>SamSung</th>\n",
       "      <th>change</th>\n",
       "      <th>U</th>\n",
       "      <th>D</th>\n",
       "    </tr>\n",
       "    <tr>\n",
       "      <th>Date</th>\n",
       "      <th></th>\n",
       "      <th></th>\n",
       "      <th></th>\n",
       "      <th></th>\n",
       "    </tr>\n",
       "  </thead>\n",
       "  <tbody>\n",
       "    <tr>\n",
       "      <td>2019-01-02</td>\n",
       "      <td>38750.0</td>\n",
       "      <td>NaN</td>\n",
       "      <td>0.0</td>\n",
       "      <td>0.0</td>\n",
       "    </tr>\n",
       "    <tr>\n",
       "      <td>2019-01-03</td>\n",
       "      <td>37600.0</td>\n",
       "      <td>-1150.0</td>\n",
       "      <td>0.0</td>\n",
       "      <td>1150.0</td>\n",
       "    </tr>\n",
       "    <tr>\n",
       "      <td>2019-01-04</td>\n",
       "      <td>37450.0</td>\n",
       "      <td>-150.0</td>\n",
       "      <td>0.0</td>\n",
       "      <td>150.0</td>\n",
       "    </tr>\n",
       "    <tr>\n",
       "      <td>2019-01-07</td>\n",
       "      <td>38750.0</td>\n",
       "      <td>1300.0</td>\n",
       "      <td>1300.0</td>\n",
       "      <td>0.0</td>\n",
       "    </tr>\n",
       "    <tr>\n",
       "      <td>2019-01-08</td>\n",
       "      <td>38100.0</td>\n",
       "      <td>-650.0</td>\n",
       "      <td>0.0</td>\n",
       "      <td>650.0</td>\n",
       "    </tr>\n",
       "  </tbody>\n",
       "</table>\n",
       "</div>"
      ],
      "text/plain": [
       "            SamSung  change       U       D\n",
       "Date                                       \n",
       "2019-01-02  38750.0     NaN     0.0     0.0\n",
       "2019-01-03  37600.0 -1150.0     0.0  1150.0\n",
       "2019-01-04  37450.0  -150.0     0.0   150.0\n",
       "2019-01-07  38750.0  1300.0  1300.0     0.0\n",
       "2019-01-08  38100.0  -650.0     0.0   650.0"
      ]
     },
     "execution_count": 11,
     "metadata": {},
     "output_type": "execute_result"
    }
   ],
   "source": [
    "df.head()"
   ]
  },
  {
   "cell_type": "code",
   "execution_count": 29,
   "metadata": {},
   "outputs": [
    {
     "name": "stdout",
     "output_type": "stream",
     "text": [
      "i는 0\n",
      "numbers[i]는1.5\n",
      "pos_x는1.5\n",
      "i는 1\n",
      "numbers[i]는-0.5\n",
      "pos_x는0\n",
      "i는 2\n",
      "numbers[i]는2.2\n",
      "pos_x는2.2\n",
      "i는 3\n",
      "numbers[i]는-1.9\n",
      "pos_x는0\n"
     ]
    }
   ],
   "source": [
    "f=lambda x : x if x>=0 else 0\n",
    "numbers = [1.5,-0.5,2.2,-1.9]\n",
    "for i in range(len(numbers)): # range(4) i=0\n",
    "    print(\"i는 \"+ str(i)) # i=0\n",
    "    print(\"numbers[i]는\" + str(numbers[i])) #numbers[i]\n",
    "    pos_x=f(numbers[i])\n",
    "    print(\"pos_x는\" + str(pos_x))\n",
    "    numbers[i] = pos_x"
   ]
  },
  {
   "cell_type": "code",
   "execution_count": 22,
   "metadata": {},
   "outputs": [
    {
     "name": "stdout",
     "output_type": "stream",
     "text": [
      "[1.5, 0, 2.2, 0]\n"
     ]
    }
   ],
   "source": [
    "print(numbers)"
   ]
  },
  {
   "cell_type": "code",
   "execution_count": null,
   "metadata": {},
   "outputs": [],
   "source": []
  }
 ],
 "metadata": {
  "kernelspec": {
   "display_name": "Python 3",
   "language": "python",
   "name": "python3"
  },
  "language_info": {
   "codemirror_mode": {
    "name": "ipython",
    "version": 3
   },
   "file_extension": ".py",
   "mimetype": "text/x-python",
   "name": "python",
   "nbconvert_exporter": "python",
   "pygments_lexer": "ipython3",
   "version": "3.7.4"
  }
 },
 "nbformat": 4,
 "nbformat_minor": 2
}
