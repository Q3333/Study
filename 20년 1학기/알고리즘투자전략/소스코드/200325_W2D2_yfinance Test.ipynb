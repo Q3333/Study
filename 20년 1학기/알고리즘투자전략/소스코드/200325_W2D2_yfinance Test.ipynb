{
 "cells": [
  {
   "cell_type": "code",
   "execution_count": 2,
   "metadata": {},
   "outputs": [
    {
     "name": "stdout",
     "output_type": "stream",
     "text": [
      "[*********************100%***********************]  1 of 1 completed\n"
     ]
    },
    {
     "data": {
      "text/html": [
       "<div>\n",
       "<style scoped>\n",
       "    .dataframe tbody tr th:only-of-type {\n",
       "        vertical-align: middle;\n",
       "    }\n",
       "\n",
       "    .dataframe tbody tr th {\n",
       "        vertical-align: top;\n",
       "    }\n",
       "\n",
       "    .dataframe thead th {\n",
       "        text-align: right;\n",
       "    }\n",
       "</style>\n",
       "<table border=\"1\" class=\"dataframe\">\n",
       "  <thead>\n",
       "    <tr style=\"text-align: right;\">\n",
       "      <th></th>\n",
       "      <th>Open</th>\n",
       "      <th>High</th>\n",
       "      <th>Low</th>\n",
       "      <th>Close</th>\n",
       "      <th>Adj Close</th>\n",
       "      <th>Volume</th>\n",
       "      <th>obv</th>\n",
       "    </tr>\n",
       "    <tr>\n",
       "      <th>Date</th>\n",
       "      <th></th>\n",
       "      <th></th>\n",
       "      <th></th>\n",
       "      <th></th>\n",
       "      <th></th>\n",
       "      <th></th>\n",
       "      <th></th>\n",
       "    </tr>\n",
       "  </thead>\n",
       "  <tbody>\n",
       "    <tr>\n",
       "      <td>2019-12-02</td>\n",
       "      <td>50900.0</td>\n",
       "      <td>51300.0</td>\n",
       "      <td>50400.0</td>\n",
       "      <td>50400.0</td>\n",
       "      <td>50400.0</td>\n",
       "      <td>18877252</td>\n",
       "      <td>0.0</td>\n",
       "    </tr>\n",
       "    <tr>\n",
       "      <td>2019-12-03</td>\n",
       "      <td>49800.0</td>\n",
       "      <td>50300.0</td>\n",
       "      <td>49500.0</td>\n",
       "      <td>49900.0</td>\n",
       "      <td>49900.0</td>\n",
       "      <td>12059812</td>\n",
       "      <td>0.0</td>\n",
       "    </tr>\n",
       "    <tr>\n",
       "      <td>2019-12-04</td>\n",
       "      <td>49600.0</td>\n",
       "      <td>49850.0</td>\n",
       "      <td>49000.0</td>\n",
       "      <td>49450.0</td>\n",
       "      <td>49450.0</td>\n",
       "      <td>13246549</td>\n",
       "      <td>0.0</td>\n",
       "    </tr>\n",
       "    <tr>\n",
       "      <td>2019-12-05</td>\n",
       "      <td>50200.0</td>\n",
       "      <td>50400.0</td>\n",
       "      <td>49500.0</td>\n",
       "      <td>49500.0</td>\n",
       "      <td>49500.0</td>\n",
       "      <td>10449715</td>\n",
       "      <td>0.0</td>\n",
       "    </tr>\n",
       "    <tr>\n",
       "      <td>2019-12-06</td>\n",
       "      <td>50100.0</td>\n",
       "      <td>50900.0</td>\n",
       "      <td>49950.0</td>\n",
       "      <td>50400.0</td>\n",
       "      <td>50400.0</td>\n",
       "      <td>11414563</td>\n",
       "      <td>0.0</td>\n",
       "    </tr>\n",
       "  </tbody>\n",
       "</table>\n",
       "</div>"
      ],
      "text/plain": [
       "               Open     High      Low    Close  Adj Close    Volume  obv\n",
       "Date                                                                    \n",
       "2019-12-02  50900.0  51300.0  50400.0  50400.0    50400.0  18877252  0.0\n",
       "2019-12-03  49800.0  50300.0  49500.0  49900.0    49900.0  12059812  0.0\n",
       "2019-12-04  49600.0  49850.0  49000.0  49450.0    49450.0  13246549  0.0\n",
       "2019-12-05  50200.0  50400.0  49500.0  49500.0    49500.0  10449715  0.0\n",
       "2019-12-06  50100.0  50900.0  49950.0  50400.0    50400.0  11414563  0.0"
      ]
     },
     "execution_count": 2,
     "metadata": {},
     "output_type": "execute_result"
    }
   ],
   "source": [
    "import numpy as np\n",
    "import pandas as pd\n",
    "import yfinance as yf\n",
    "from math import *\n",
    "\n",
    "df = pd.DataFrame()\n",
    "stock=\"Samsung\"\n",
    "code=\"005930.KS\"\n",
    "df=yf.download(code, \"2019-12-01\",\"2019-12-27\")\n",
    "df['obv']=np.zeros(df.shape[0])\n",
    "df.head()"
   ]
  },
  {
   "cell_type": "code",
   "execution_count": 3,
   "metadata": {},
   "outputs": [
    {
     "name": "stdout",
     "output_type": "stream",
     "text": [
      "Enter firm name: Samsung\n",
      "Enter stock name: 005930.KS\n",
      "[*********************100%***********************]  1 of 1 completed\n"
     ]
    },
    {
     "data": {
      "text/html": [
       "<div>\n",
       "<style scoped>\n",
       "    .dataframe tbody tr th:only-of-type {\n",
       "        vertical-align: middle;\n",
       "    }\n",
       "\n",
       "    .dataframe tbody tr th {\n",
       "        vertical-align: top;\n",
       "    }\n",
       "\n",
       "    .dataframe thead th {\n",
       "        text-align: right;\n",
       "    }\n",
       "</style>\n",
       "<table border=\"1\" class=\"dataframe\">\n",
       "  <thead>\n",
       "    <tr style=\"text-align: right;\">\n",
       "      <th></th>\n",
       "      <th>Samsung</th>\n",
       "    </tr>\n",
       "    <tr>\n",
       "      <th>Date</th>\n",
       "      <th></th>\n",
       "    </tr>\n",
       "  </thead>\n",
       "  <tbody>\n",
       "    <tr>\n",
       "      <td>2019-12-02</td>\n",
       "      <td>50400.0</td>\n",
       "    </tr>\n",
       "    <tr>\n",
       "      <td>2019-12-03</td>\n",
       "      <td>49900.0</td>\n",
       "    </tr>\n",
       "    <tr>\n",
       "      <td>2019-12-04</td>\n",
       "      <td>49450.0</td>\n",
       "    </tr>\n",
       "    <tr>\n",
       "      <td>2019-12-05</td>\n",
       "      <td>49500.0</td>\n",
       "    </tr>\n",
       "    <tr>\n",
       "      <td>2019-12-06</td>\n",
       "      <td>50400.0</td>\n",
       "    </tr>\n",
       "  </tbody>\n",
       "</table>\n",
       "</div>"
      ],
      "text/plain": [
       "            Samsung\n",
       "Date               \n",
       "2019-12-02  50400.0\n",
       "2019-12-03  49900.0\n",
       "2019-12-04  49450.0\n",
       "2019-12-05  49500.0\n",
       "2019-12-06  50400.0"
      ]
     },
     "execution_count": 3,
     "metadata": {},
     "output_type": "execute_result"
    }
   ],
   "source": [
    "stock = input(\"Enter firm name: \")\n",
    "code = input(\"Enter stock name: \")\n",
    "data = pd.DataFrame()\n",
    "data[stock]=yf.download(code, \"2019-12-01\",\"2019-12-27\")[\"Close\"]\n",
    "data.head()"
   ]
  },
  {
   "cell_type": "code",
   "execution_count": null,
   "metadata": {},
   "outputs": [],
   "source": []
  }
 ],
 "metadata": {
  "kernelspec": {
   "display_name": "Python 3",
   "language": "python",
   "name": "python3"
  },
  "language_info": {
   "codemirror_mode": {
    "name": "ipython",
    "version": 3
   },
   "file_extension": ".py",
   "mimetype": "text/x-python",
   "name": "python",
   "nbconvert_exporter": "python",
   "pygments_lexer": "ipython3",
   "version": "3.7.4"
  }
 },
 "nbformat": 4,
 "nbformat_minor": 2
}
