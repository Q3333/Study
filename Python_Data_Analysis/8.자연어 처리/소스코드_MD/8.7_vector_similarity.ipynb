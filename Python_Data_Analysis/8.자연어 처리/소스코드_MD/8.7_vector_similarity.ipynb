{
 "cells": [
  {
   "cell_type": "code",
   "execution_count": 1,
   "metadata": {},
   "outputs": [],
   "source": [
    "from sklearn.feature_extraction.text import CountVectorizer\n",
    "vectorizer = CountVectorizer(min_df =1)\n",
    "\n"
   ]
  },
  {
   "cell_type": "code",
   "execution_count": 2,
   "metadata": {},
   "outputs": [],
   "source": [
    "contents = ['메리랑 놀러가고 싶지만 바쁜데 어떡하죠?',\n",
    "            '메리는 공원에서 산책하고 노는 것을 싫어해요', \n",
    "            '메리는 공원에서 노는 것도 싫어해요. 이상해요',\n",
    "            '먼 곳으로 여행을 떠나고 싶은데 너무 바빠서 그러질 못하고 있어요']\n"
   ]
  },
  {
   "cell_type": "code",
   "execution_count": 3,
   "metadata": {
    "scrolled": true
   },
   "outputs": [
    {
     "data": {
      "text/plain": [
       "['것도',\n",
       " '것을',\n",
       " '곳으로',\n",
       " '공원에서',\n",
       " '그러질',\n",
       " '너무',\n",
       " '노는',\n",
       " '놀러가고',\n",
       " '떠나고',\n",
       " '메리는',\n",
       " '메리랑',\n",
       " '못하고',\n",
       " '바빠서',\n",
       " '바쁜데',\n",
       " '산책하고',\n",
       " '싫어해요',\n",
       " '싶은데',\n",
       " '싶지만',\n",
       " '어떡하죠',\n",
       " '여행을',\n",
       " '이상해요',\n",
       " '있어요']"
      ]
     },
     "execution_count": 3,
     "metadata": {},
     "output_type": "execute_result"
    }
   ],
   "source": [
    "\n",
    "X = vectorizer.fit_transform(contents)\n",
    "vectorizer.get_feature_names()"
   ]
  },
  {
   "cell_type": "code",
   "execution_count": 6,
   "metadata": {},
   "outputs": [
    {
     "data": {
      "text/plain": [
       "array([[0, 0, 1, 0],\n",
       "       [0, 1, 0, 0],\n",
       "       [0, 0, 0, 1],\n",
       "       [0, 1, 1, 0],\n",
       "       [0, 0, 0, 1],\n",
       "       [0, 0, 0, 1],\n",
       "       [0, 1, 1, 0],\n",
       "       [1, 0, 0, 0],\n",
       "       [0, 0, 0, 1],\n",
       "       [0, 1, 1, 0],\n",
       "       [1, 0, 0, 0],\n",
       "       [0, 0, 0, 1],\n",
       "       [0, 0, 0, 1],\n",
       "       [1, 0, 0, 0],\n",
       "       [0, 1, 0, 0],\n",
       "       [0, 1, 1, 0],\n",
       "       [0, 0, 0, 1],\n",
       "       [1, 0, 0, 0],\n",
       "       [1, 0, 0, 0],\n",
       "       [0, 0, 0, 1],\n",
       "       [0, 0, 1, 0],\n",
       "       [0, 0, 0, 1]], dtype=int64)"
      ]
     },
     "execution_count": 6,
     "metadata": {},
     "output_type": "execute_result"
    }
   ],
   "source": [
    "X.toarray().transpose()"
   ]
  },
  {
   "cell_type": "code",
   "execution_count": 7,
   "metadata": {},
   "outputs": [],
   "source": [
    "from konlpy.tag import Twitter\n",
    "t = Twitter()\n"
   ]
  },
  {
   "cell_type": "code",
   "execution_count": 8,
   "metadata": {},
   "outputs": [
    {
     "data": {
      "text/plain": [
       "[['메리', '랑', '놀러', '가고', '싶지만', '바쁜데', '어떡하죠', '?'],\n",
       " ['메리', '는', '공원', '에서', '산책', '하고', '노', '는', '것', '을', '싫어해요'],\n",
       " ['메리', '는', '공원', '에서', '노', '는', '것', '도', '싫어해요', '.', '이상해요'],\n",
       " ['먼',\n",
       "  '곳',\n",
       "  '으로',\n",
       "  '여행',\n",
       "  '을',\n",
       "  '떠나고',\n",
       "  '싶은데',\n",
       "  '너무',\n",
       "  '바빠서',\n",
       "  '그러질',\n",
       "  '못',\n",
       "  '하고',\n",
       "  '있어요']]"
      ]
     },
     "execution_count": 8,
     "metadata": {},
     "output_type": "execute_result"
    }
   ],
   "source": [
    "contents_tokens = [t.morphs(row) for row in contents]\n",
    "contents_tokens"
   ]
  },
  {
   "cell_type": "code",
   "execution_count": 9,
   "metadata": {},
   "outputs": [
    {
     "data": {
      "text/plain": [
       "[' 메리 랑 놀러 가고 싶지만 바쁜데 어떡하죠 ?',\n",
       " ' 메리 는 공원 에서 산책 하고 노 는 것 을 싫어해요',\n",
       " ' 메리 는 공원 에서 노 는 것 도 싫어해요 . 이상해요',\n",
       " ' 먼 곳 으로 여행 을 떠나고 싶은데 너무 바빠서 그러질 못 하고 있어요']"
      ]
     },
     "execution_count": 9,
     "metadata": {},
     "output_type": "execute_result"
    }
   ],
   "source": [
    "contents_for_vectorize = []\n",
    "\n",
    "for content in contents_tokens:\n",
    "    sentence = ''\n",
    "    for word in content:\n",
    "        sentence = sentence + ' ' + word\n",
    "        \n",
    "    contents_for_vectorize.append(sentence)\n",
    "\n",
    "contents_for_vectorize"
   ]
  },
  {
   "cell_type": "code",
   "execution_count": 24,
   "metadata": {},
   "outputs": [
    {
     "data": {
      "text/plain": [
       "(4, 20)"
      ]
     },
     "execution_count": 24,
     "metadata": {},
     "output_type": "execute_result"
    }
   ],
   "source": [
    "X = vectorizer.fit_transform(contents_for_vectorize)\n",
    "num_samples, numfeatures = X.shape\n",
    "num_samples, numfeatures"
   ]
  },
  {
   "cell_type": "code",
   "execution_count": 15,
   "metadata": {},
   "outputs": [
    {
     "data": {
      "text/plain": [
       "['가고',\n",
       " '공원',\n",
       " '그러질',\n",
       " '너무',\n",
       " '놀러',\n",
       " '떠나고',\n",
       " '메리',\n",
       " '바빠서',\n",
       " '바쁜데',\n",
       " '산책',\n",
       " '싫어해요',\n",
       " '싶은데',\n",
       " '싶지만',\n",
       " '어떡하죠',\n",
       " '에서',\n",
       " '여행',\n",
       " '으로',\n",
       " '이상해요',\n",
       " '있어요',\n",
       " '하고']"
      ]
     },
     "execution_count": 15,
     "metadata": {},
     "output_type": "execute_result"
    }
   ],
   "source": [
    "vectorizer.get_feature_names()"
   ]
  },
  {
   "cell_type": "code",
   "execution_count": 16,
   "metadata": {},
   "outputs": [
    {
     "data": {
      "text/plain": [
       "array([[1, 0, 0, 0],\n",
       "       [0, 1, 1, 0],\n",
       "       [0, 0, 0, 1],\n",
       "       [0, 0, 0, 1],\n",
       "       [1, 0, 0, 0],\n",
       "       [0, 0, 0, 1],\n",
       "       [1, 1, 1, 0],\n",
       "       [0, 0, 0, 1],\n",
       "       [1, 0, 0, 0],\n",
       "       [0, 1, 0, 0],\n",
       "       [0, 1, 1, 0],\n",
       "       [0, 0, 0, 1],\n",
       "       [1, 0, 0, 0],\n",
       "       [1, 0, 0, 0],\n",
       "       [0, 1, 1, 0],\n",
       "       [0, 0, 0, 1],\n",
       "       [0, 0, 0, 1],\n",
       "       [0, 0, 1, 0],\n",
       "       [0, 0, 0, 1],\n",
       "       [0, 1, 0, 1]], dtype=int64)"
      ]
     },
     "execution_count": 16,
     "metadata": {},
     "output_type": "execute_result"
    }
   ],
   "source": [
    "X.toarray().transpose()"
   ]
  },
  {
   "cell_type": "code",
   "execution_count": 18,
   "metadata": {},
   "outputs": [
    {
     "data": {
      "text/plain": [
       "[' 메리 랑 공원 에서 산책 하고 놀고 싶어요']"
      ]
     },
     "execution_count": 18,
     "metadata": {},
     "output_type": "execute_result"
    }
   ],
   "source": [
    "new_post = ['메리랑 공원에서 산책하고 놀고 싶어요']\n",
    "new_post_tokens = [t.morphs(row) for row in new_post]\n",
    "\n",
    "new_post_for_vectorize = []\n",
    "\n",
    "for content in new_post_tokens:\n",
    "    sentence = ''\n",
    "    for word in content:\n",
    "        sentence = sentence + ' ' + word\n",
    "        \n",
    "    new_post_for_vectorize.append(sentence)\n",
    "\n",
    "new_post_for_vectorize"
   ]
  },
  {
   "cell_type": "code",
   "execution_count": 19,
   "metadata": {},
   "outputs": [
    {
     "data": {
      "text/plain": [
       "array([[0, 1, 0, 0, 0, 0, 1, 0, 0, 1, 0, 0, 0, 0, 1, 0, 0, 0, 0, 1]],\n",
       "      dtype=int64)"
      ]
     },
     "execution_count": 19,
     "metadata": {},
     "output_type": "execute_result"
    }
   ],
   "source": [
    "new_post_vec = vectorizer.transform(new_post_for_vectorize)\n",
    "new_post_vec.toarray()\n"
   ]
  },
  {
   "cell_type": "code",
   "execution_count": 26,
   "metadata": {},
   "outputs": [],
   "source": [
    "import scipy as sp \n",
    "\n",
    "def dist_raw(v1,v2):\n",
    "    delta = v1 - v2\n",
    "    return sp.linalg.norm(delta.toarray())"
   ]
  },
  {
   "cell_type": "code",
   "execution_count": 28,
   "metadata": {},
   "outputs": [],
   "source": [
    "best_doc = None \n",
    "best_dist = 65535\n",
    "best_i = None\n"
   ]
  },
  {
   "cell_type": "code",
   "execution_count": 29,
   "metadata": {},
   "outputs": [
    {
     "name": "stdout",
     "output_type": "stream",
     "text": [
      "== Post 0 with dist=3.00    :  메리랑 놀러가고 싶지만 바쁜데 어떡하죠?\n",
      "== Post 1 with dist=1.00    :  메리는 공원에서 산책하고 노는 것을 싫어해요\n",
      "== Post 2 with dist=2.00    :  메리는 공원에서 노는 것도 싫어해요. 이상해요\n",
      "== Post 3 with dist=3.46    :  먼 곳으로 여행을 떠나고 싶은데 너무 바빠서 그러질 못하고 있어요\n"
     ]
    }
   ],
   "source": [
    "for i in range(0, num_samples):\n",
    "    post_vec = X.getrow(i)\n",
    "    d = dist_raw(post_vec, new_post_vec)\n",
    "\n",
    "    print(\"== Post %i with dist=%.2f    :  %s\" %(i,d,contents[i]))\n",
    "\n",
    "    if d<best_dist:\n",
    "        best_dist = d\n",
    "        best_i = i"
   ]
  },
  {
   "cell_type": "code",
   "execution_count": 32,
   "metadata": {},
   "outputs": [
    {
     "data": {
      "text/plain": [
       "<1x20 sparse matrix of type '<class 'numpy.int64'>'\n",
       "\twith 9 stored elements in Compressed Sparse Row format>"
      ]
     },
     "execution_count": 32,
     "metadata": {},
     "output_type": "execute_result"
    }
   ],
   "source": [
    "post_vec"
   ]
  },
  {
   "cell_type": "code",
   "execution_count": 33,
   "metadata": {},
   "outputs": [
    {
     "data": {
      "text/plain": [
       "<1x20 sparse matrix of type '<class 'numpy.int64'>'\n",
       "\twith 5 stored elements in Compressed Sparse Row format>"
      ]
     },
     "execution_count": 33,
     "metadata": {},
     "output_type": "execute_result"
    }
   ],
   "source": [
    "new_post_vec"
   ]
  },
  {
   "cell_type": "code",
   "execution_count": 34,
   "metadata": {},
   "outputs": [
    {
     "data": {
      "text/plain": [
       "<4x20 sparse matrix of type '<class 'numpy.int64'>'\n",
       "\twith 26 stored elements in Compressed Sparse Row format>"
      ]
     },
     "execution_count": 34,
     "metadata": {},
     "output_type": "execute_result"
    }
   ],
   "source": [
    "X"
   ]
  },
  {
   "cell_type": "code",
   "execution_count": 35,
   "metadata": {},
   "outputs": [
    {
     "name": "stdout",
     "output_type": "stream",
     "text": [
      "Best post is 1, dist = 1.00\n",
      "--> ['메리랑 공원에서 산책하고 놀고 싶어요']\n",
      "-----> 메리는 공원에서 산책하고 노는 것을 싫어해요\n"
     ]
    }
   ],
   "source": [
    "print(\"Best post is %i, dist = %.2f\" % (best_i, best_dist))\n",
    "print(\"-->\", new_post)\n",
    "print('----->', contents[best_i])"
   ]
  },
  {
   "cell_type": "code",
   "execution_count": 36,
   "metadata": {},
   "outputs": [
    {
     "name": "stdout",
     "output_type": "stream",
     "text": [
      "[[1 0 0 0 1 0 1 0 1 0 0 0 1 1 0 0 0 0 0 0]]\n",
      "[[0 1 0 0 0 0 1 0 0 1 1 0 0 0 1 0 0 0 0 1]]\n",
      "[[0 1 0 0 0 0 1 0 0 0 1 0 0 0 1 0 0 1 0 0]]\n",
      "[[0 0 1 1 0 1 0 1 0 0 0 1 0 0 0 1 1 0 1 1]]\n",
      "--------------\n",
      "[[0 1 0 0 0 0 1 0 0 1 0 0 0 0 1 0 0 0 0 1]]\n"
     ]
    }
   ],
   "source": [
    "for i in range(0,len(contents)):\n",
    "    print(X.getrow(i).toarray())\n",
    "\n",
    "print('--------------')\n",
    "print(new_post_vec.toarray())"
   ]
  },
  {
   "cell_type": "code",
   "execution_count": 37,
   "metadata": {},
   "outputs": [],
   "source": [
    "def dist_norm(v1,v2):\n",
    "    v1_normalized = v1 / sp.linalg.norm(v1.toarray())\n",
    "    v2_normalized = v2 / sp.linalg.norm(v2.toarray())\n",
    "    \n",
    "    delta = v1_normalized - v2_normalized\n",
    "\n",
    "    return sp.linalg.norm(delta.toarray())"
   ]
  },
  {
   "cell_type": "code",
   "execution_count": 39,
   "metadata": {},
   "outputs": [
    {
     "name": "stdout",
     "output_type": "stream",
     "text": [
      "== Post 0 with dist=1.28    :  메리랑 놀러가고 싶지만 바쁜데 어떡하죠?\n",
      "== Post 1 with dist=0.42    :  메리는 공원에서 산책하고 노는 것을 싫어해요\n",
      "== Post 2 with dist=0.89    :  메리는 공원에서 노는 것도 싫어해요. 이상해요\n",
      "== Post 3 with dist=1.30    :  먼 곳으로 여행을 떠나고 싶은데 너무 바빠서 그러질 못하고 있어요\n"
     ]
    }
   ],
   "source": [
    "for i in range(0,num_samples):\n",
    "    post_vec = X.getrow(i)\n",
    "    d = dist_norm(post_vec, new_post_vec)\n",
    "      \n",
    "    print(\"== Post %i with dist=%.2f    :  %s\" %(i,d,contents[i]))\n",
    "\n",
    "    if d<best_dist:\n",
    "        best_dist = d\n",
    "        best_i = i"
   ]
  },
  {
   "cell_type": "code",
   "execution_count": 40,
   "metadata": {},
   "outputs": [
    {
     "name": "stdout",
     "output_type": "stream",
     "text": [
      "Best post is 1, dist = 0.42\n",
      "--> ['메리랑 공원에서 산책하고 놀고 싶어요']\n",
      "-----> 메리는 공원에서 산책하고 노는 것을 싫어해요\n"
     ]
    }
   ],
   "source": [
    "print(\"Best post is %i, dist = %.2f\" % (best_i, best_dist))\n",
    "print(\"-->\", new_post)\n",
    "print('----->', contents[best_i])"
   ]
  },
  {
   "cell_type": "code",
   "execution_count": 43,
   "metadata": {},
   "outputs": [],
   "source": [
    "def tfidf(t,d,D):\n",
    "    tf = float(d.count(t)) / sum(d.count(w) for w in set(d))\n",
    "    idf = sp.log( float(len(D))/(len([doc for doc in D if t in doc])) )\n",
    "    return tf, idf"
   ]
  },
  {
   "cell_type": "code",
   "execution_count": 48,
   "metadata": {},
   "outputs": [
    {
     "name": "stdout",
     "output_type": "stream",
     "text": [
      "(1.0, 0.0)\n",
      "(0.6666666666666666, 0.4054651081081644)\n",
      "(0.3333333333333333, 0.0)\n",
      "(0.3333333333333333, 0.4054651081081644)\n",
      "(0.3333333333333333, 1.0986122886681098)\n"
     ]
    }
   ],
   "source": [
    "a, abb, abc = ['a'], ['a','b','b'],['a','b','c']\n",
    "D = [a,abb,abc]\n",
    "\n",
    "print(tfidf('a',a,D))\n",
    "print(tfidf('b',abb,D))\n",
    "print(tfidf('a',abc,D))\n",
    "print(tfidf('b',abc,D))\n",
    "print(tfidf('c',abc,D))"
   ]
  },
  {
   "cell_type": "code",
   "execution_count": 58,
   "metadata": {},
   "outputs": [],
   "source": [
    "from sklearn.feature_extraction.text import TfidfVectorizer\n",
    "vectorizer = TfidfVectorizer(min_df=1, decode_error='ignore')"
   ]
  },
  {
   "cell_type": "code",
   "execution_count": 59,
   "metadata": {},
   "outputs": [
    {
     "data": {
      "text/plain": [
       "(4, 20)"
      ]
     },
     "execution_count": 59,
     "metadata": {},
     "output_type": "execute_result"
    }
   ],
   "source": [
    "contents_tokens = [t.morphs(row) for row in contents]\n",
    "\n",
    "contents_for_vectorize = []\n",
    "\n",
    "for content in contents_tokens:\n",
    "    sentence = ''\n",
    "    for word in content:\n",
    "        sentence = sentence + ' ' + word\n",
    "        \n",
    "    contents_for_vectorize.append(sentence)\n",
    "\n",
    "contents_for_vectorize\n",
    "\n",
    "\n",
    "X = vectorizer.fit_transform(contents_for_vectorize)\n",
    "num_samples, numfeatures = X.shape\n",
    "num_samples, numfeatures"
   ]
  },
  {
   "cell_type": "code",
   "execution_count": 60,
   "metadata": {},
   "outputs": [
    {
     "data": {
      "text/plain": [
       "['가고',\n",
       " '공원',\n",
       " '그러질',\n",
       " '너무',\n",
       " '놀러',\n",
       " '떠나고',\n",
       " '메리',\n",
       " '바빠서',\n",
       " '바쁜데',\n",
       " '산책',\n",
       " '싫어해요',\n",
       " '싶은데',\n",
       " '싶지만',\n",
       " '어떡하죠',\n",
       " '에서',\n",
       " '여행',\n",
       " '으로',\n",
       " '이상해요',\n",
       " '있어요',\n",
       " '하고']"
      ]
     },
     "execution_count": 60,
     "metadata": {},
     "output_type": "execute_result"
    }
   ],
   "source": [
    "vectorizer.get_feature_names()"
   ]
  },
  {
   "cell_type": "code",
   "execution_count": 64,
   "metadata": {},
   "outputs": [
    {
     "data": {
      "text/plain": [
       "[' 근처 공원 에 메리 랑 놀러 가고 싶네요 .']"
      ]
     },
     "execution_count": 64,
     "metadata": {},
     "output_type": "execute_result"
    }
   ],
   "source": [
    "new_post = ['근처 공원에 메리랑 놀러가고 싶네요.']\n",
    "new_post_tokens = [t.morphs(row) for row in new_post]\n",
    "\n",
    "new_post_for_vectorize = []\n",
    "\n",
    "for content in new_post_tokens:\n",
    "    sentence = ''\n",
    "    for word in content:\n",
    "        sentence = sentence + ' ' + word\n",
    "        \n",
    "    new_post_for_vectorize.append(sentence)\n",
    "\n",
    "new_post_for_vectorize\n"
   ]
  },
  {
   "cell_type": "code",
   "execution_count": 65,
   "metadata": {},
   "outputs": [],
   "source": [
    "new_post_vec = vectorizer.transform(new_post_for_vectorize)"
   ]
  },
  {
   "cell_type": "code",
   "execution_count": 66,
   "metadata": {},
   "outputs": [
    {
     "name": "stdout",
     "output_type": "stream",
     "text": [
      "== Post 0 with dist=0.90    :  메리랑 놀러가고 싶지만 바쁜데 어떡하죠?\n",
      "== Post 1 with dist=1.18    :  메리는 공원에서 산책하고 노는 것을 싫어해요\n",
      "== Post 2 with dist=1.16    :  메리는 공원에서 노는 것도 싫어해요. 이상해요\n",
      "== Post 3 with dist=1.41    :  먼 곳으로 여행을 떠나고 싶은데 너무 바빠서 그러질 못하고 있어요\n",
      "Best post is 0, dist = 0.90\n",
      "--> ['근처 공원에 메리랑 놀러가고 싶네요.']\n",
      "-----> 메리랑 놀러가고 싶지만 바쁜데 어떡하죠?\n"
     ]
    }
   ],
   "source": [
    "best_doc = None \n",
    "best_dist = 65535\n",
    "best_i = None\n",
    "\n",
    "\n",
    "for i in range(0,num_samples):\n",
    "    post_vec = X.getrow(i)\n",
    "    d = dist_norm(post_vec, new_post_vec)\n",
    "      \n",
    "    print(\"== Post %i with dist=%.2f    :  %s\" %(i,d,contents[i]))\n",
    "\n",
    "    if d<best_dist:\n",
    "        best_dist = d\n",
    "        best_i = i\n",
    "\n",
    "\n",
    "print(\"Best post is %i, dist = %.2f\" % (best_i, best_dist))\n",
    "print(\"-->\", new_post)\n",
    "print('----->', contents[best_i])"
   ]
  },
  {
   "cell_type": "code",
   "execution_count": null,
   "metadata": {},
   "outputs": [],
   "source": []
  }
 ],
 "metadata": {
  "kernelspec": {
   "display_name": "Python 3",
   "language": "python",
   "name": "python3"
  },
  "language_info": {
   "codemirror_mode": {
    "name": "ipython",
    "version": 3
   },
   "file_extension": ".py",
   "mimetype": "text/x-python",
   "name": "python",
   "nbconvert_exporter": "python",
   "pygments_lexer": "ipython3",
   "version": "3.7.4"
  }
 },
 "nbformat": 4,
 "nbformat_minor": 2
}
