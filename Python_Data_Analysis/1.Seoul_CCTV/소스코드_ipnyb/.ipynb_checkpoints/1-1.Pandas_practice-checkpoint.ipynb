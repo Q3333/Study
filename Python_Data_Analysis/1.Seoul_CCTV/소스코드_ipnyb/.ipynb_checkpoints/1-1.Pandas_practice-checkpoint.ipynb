{
 "cells": [
  {
   "cell_type": "code",
   "execution_count": 1,
   "metadata": {},
   "outputs": [
    {
     "data": {
      "text/plain": [
       "0    1.0\n",
       "1    3.0\n",
       "2    5.0\n",
       "3    NaN\n",
       "4    6.0\n",
       "5    8.0\n",
       "dtype: float64"
      ]
     },
     "execution_count": 1,
     "metadata": {},
     "output_type": "execute_result"
    }
   ],
   "source": [
    "import pandas as pd\n",
    "import numpy as np\n",
    "\n",
    "s = pd.Series([1,3,5,np.nan,6,8])\n",
    "s"
   ]
  },
  {
   "cell_type": "code",
   "execution_count": 2,
   "metadata": {},
   "outputs": [
    {
     "data": {
      "text/plain": [
       "DatetimeIndex(['2020-02-29', '2020-03-01', '2020-03-02', '2020-03-03',\n",
       "               '2020-03-04', '2020-03-05', '2020-03-06'],\n",
       "              dtype='datetime64[ns]', freq='D')"
      ]
     },
     "execution_count": 2,
     "metadata": {},
     "output_type": "execute_result"
    }
   ],
   "source": [
    "dates = pd.date_range('20200229', periods=7)\n",
    "dates"
   ]
  },
  {
   "cell_type": "code",
   "execution_count": 9,
   "metadata": {},
   "outputs": [
    {
     "data": {
      "text/html": [
       "<div>\n",
       "<style scoped>\n",
       "    .dataframe tbody tr th:only-of-type {\n",
       "        vertical-align: middle;\n",
       "    }\n",
       "\n",
       "    .dataframe tbody tr th {\n",
       "        vertical-align: top;\n",
       "    }\n",
       "\n",
       "    .dataframe thead th {\n",
       "        text-align: right;\n",
       "    }\n",
       "</style>\n",
       "<table border=\"1\" class=\"dataframe\">\n",
       "  <thead>\n",
       "    <tr style=\"text-align: right;\">\n",
       "      <th></th>\n",
       "      <th>A</th>\n",
       "      <th>B</th>\n",
       "      <th>C</th>\n",
       "      <th>D</th>\n",
       "    </tr>\n",
       "  </thead>\n",
       "  <tbody>\n",
       "    <tr>\n",
       "      <td>2020-02-29</td>\n",
       "      <td>0.332505</td>\n",
       "      <td>-0.247595</td>\n",
       "      <td>0.033099</td>\n",
       "      <td>0.167774</td>\n",
       "    </tr>\n",
       "    <tr>\n",
       "      <td>2020-03-01</td>\n",
       "      <td>-0.623861</td>\n",
       "      <td>-1.823535</td>\n",
       "      <td>1.473863</td>\n",
       "      <td>0.370190</td>\n",
       "    </tr>\n",
       "    <tr>\n",
       "      <td>2020-03-02</td>\n",
       "      <td>0.365996</td>\n",
       "      <td>-0.474897</td>\n",
       "      <td>0.944967</td>\n",
       "      <td>-0.988583</td>\n",
       "    </tr>\n",
       "    <tr>\n",
       "      <td>2020-03-03</td>\n",
       "      <td>0.366000</td>\n",
       "      <td>-2.281460</td>\n",
       "      <td>0.788201</td>\n",
       "      <td>0.476776</td>\n",
       "    </tr>\n",
       "    <tr>\n",
       "      <td>2020-03-04</td>\n",
       "      <td>1.675193</td>\n",
       "      <td>0.934054</td>\n",
       "      <td>-0.461774</td>\n",
       "      <td>-0.364926</td>\n",
       "    </tr>\n",
       "    <tr>\n",
       "      <td>2020-03-05</td>\n",
       "      <td>-0.171717</td>\n",
       "      <td>-0.763285</td>\n",
       "      <td>1.788973</td>\n",
       "      <td>0.174154</td>\n",
       "    </tr>\n",
       "    <tr>\n",
       "      <td>2020-03-06</td>\n",
       "      <td>0.478139</td>\n",
       "      <td>1.214840</td>\n",
       "      <td>-0.214109</td>\n",
       "      <td>-2.086719</td>\n",
       "    </tr>\n",
       "  </tbody>\n",
       "</table>\n",
       "</div>"
      ],
      "text/plain": [
       "                   A         B         C         D\n",
       "2020-02-29  0.332505 -0.247595  0.033099  0.167774\n",
       "2020-03-01 -0.623861 -1.823535  1.473863  0.370190\n",
       "2020-03-02  0.365996 -0.474897  0.944967 -0.988583\n",
       "2020-03-03  0.366000 -2.281460  0.788201  0.476776\n",
       "2020-03-04  1.675193  0.934054 -0.461774 -0.364926\n",
       "2020-03-05 -0.171717 -0.763285  1.788973  0.174154\n",
       "2020-03-06  0.478139  1.214840 -0.214109 -2.086719"
      ]
     },
     "execution_count": 9,
     "metadata": {},
     "output_type": "execute_result"
    }
   ],
   "source": [
    "df = pd.DataFrame(np.random.randn(7,4), index=dates, columns=['A','B','C','D'])\n",
    "\n",
    "df"
   ]
  },
  {
   "cell_type": "code",
   "execution_count": 10,
   "metadata": {},
   "outputs": [
    {
     "data": {
      "text/html": [
       "<div>\n",
       "<style scoped>\n",
       "    .dataframe tbody tr th:only-of-type {\n",
       "        vertical-align: middle;\n",
       "    }\n",
       "\n",
       "    .dataframe tbody tr th {\n",
       "        vertical-align: top;\n",
       "    }\n",
       "\n",
       "    .dataframe thead th {\n",
       "        text-align: right;\n",
       "    }\n",
       "</style>\n",
       "<table border=\"1\" class=\"dataframe\">\n",
       "  <thead>\n",
       "    <tr style=\"text-align: right;\">\n",
       "      <th></th>\n",
       "      <th>A</th>\n",
       "      <th>B</th>\n",
       "      <th>C</th>\n",
       "      <th>D</th>\n",
       "    </tr>\n",
       "  </thead>\n",
       "  <tbody>\n",
       "    <tr>\n",
       "      <td>2020-02-29</td>\n",
       "      <td>0.332505</td>\n",
       "      <td>-0.247595</td>\n",
       "      <td>0.033099</td>\n",
       "      <td>0.167774</td>\n",
       "    </tr>\n",
       "    <tr>\n",
       "      <td>2020-03-01</td>\n",
       "      <td>-0.623861</td>\n",
       "      <td>-1.823535</td>\n",
       "      <td>1.473863</td>\n",
       "      <td>0.370190</td>\n",
       "    </tr>\n",
       "    <tr>\n",
       "      <td>2020-03-02</td>\n",
       "      <td>0.365996</td>\n",
       "      <td>-0.474897</td>\n",
       "      <td>0.944967</td>\n",
       "      <td>-0.988583</td>\n",
       "    </tr>\n",
       "  </tbody>\n",
       "</table>\n",
       "</div>"
      ],
      "text/plain": [
       "                   A         B         C         D\n",
       "2020-02-29  0.332505 -0.247595  0.033099  0.167774\n",
       "2020-03-01 -0.623861 -1.823535  1.473863  0.370190\n",
       "2020-03-02  0.365996 -0.474897  0.944967 -0.988583"
      ]
     },
     "execution_count": 10,
     "metadata": {},
     "output_type": "execute_result"
    }
   ],
   "source": [
    "\n",
    "df.head(3)\n"
   ]
  },
  {
   "cell_type": "code",
   "execution_count": 11,
   "metadata": {},
   "outputs": [
    {
     "data": {
      "text/plain": [
       "DatetimeIndex(['2020-02-29', '2020-03-01', '2020-03-02', '2020-03-03',\n",
       "               '2020-03-04', '2020-03-05', '2020-03-06'],\n",
       "              dtype='datetime64[ns]', freq='D')"
      ]
     },
     "execution_count": 11,
     "metadata": {},
     "output_type": "execute_result"
    }
   ],
   "source": [
    "\n",
    "df.index\n"
   ]
  },
  {
   "cell_type": "code",
   "execution_count": 12,
   "metadata": {},
   "outputs": [
    {
     "data": {
      "text/plain": [
       "Index(['A', 'B', 'C', 'D'], dtype='object')"
      ]
     },
     "execution_count": 12,
     "metadata": {},
     "output_type": "execute_result"
    }
   ],
   "source": [
    "\n",
    "df.columns\n"
   ]
  },
  {
   "cell_type": "code",
   "execution_count": 13,
   "metadata": {},
   "outputs": [
    {
     "data": {
      "text/plain": [
       "array([[ 0.3325048 , -0.24759504,  0.0330994 ,  0.16777377],\n",
       "       [-0.62386071, -1.82353463,  1.47386263,  0.37019021],\n",
       "       [ 0.36599606, -0.47489709,  0.94496673, -0.98858317],\n",
       "       [ 0.36599991, -2.28146047,  0.78820107,  0.47677555],\n",
       "       [ 1.67519323,  0.93405426, -0.46177395, -0.36492568],\n",
       "       [-0.17171707, -0.76328546,  1.78897337,  0.17415421],\n",
       "       [ 0.47813949,  1.21484027, -0.21410909, -2.08671903]])"
      ]
     },
     "execution_count": 13,
     "metadata": {},
     "output_type": "execute_result"
    }
   ],
   "source": [
    "\n",
    "df.values\n"
   ]
  },
  {
   "cell_type": "code",
   "execution_count": 15,
   "metadata": {},
   "outputs": [
    {
     "name": "stdout",
     "output_type": "stream",
     "text": [
      "<class 'pandas.core.frame.DataFrame'>\n",
      "DatetimeIndex: 7 entries, 2020-02-29 to 2020-03-06\n",
      "Freq: D\n",
      "Data columns (total 4 columns):\n",
      "A    7 non-null float64\n",
      "B    7 non-null float64\n",
      "C    7 non-null float64\n",
      "D    7 non-null float64\n",
      "dtypes: float64(4)\n",
      "memory usage: 280.0 bytes\n"
     ]
    }
   ],
   "source": [
    "\n",
    "df.info()\n"
   ]
  },
  {
   "cell_type": "code",
   "execution_count": 16,
   "metadata": {},
   "outputs": [
    {
     "data": {
      "text/html": [
       "<div>\n",
       "<style scoped>\n",
       "    .dataframe tbody tr th:only-of-type {\n",
       "        vertical-align: middle;\n",
       "    }\n",
       "\n",
       "    .dataframe tbody tr th {\n",
       "        vertical-align: top;\n",
       "    }\n",
       "\n",
       "    .dataframe thead th {\n",
       "        text-align: right;\n",
       "    }\n",
       "</style>\n",
       "<table border=\"1\" class=\"dataframe\">\n",
       "  <thead>\n",
       "    <tr style=\"text-align: right;\">\n",
       "      <th></th>\n",
       "      <th>A</th>\n",
       "      <th>B</th>\n",
       "      <th>C</th>\n",
       "      <th>D</th>\n",
       "    </tr>\n",
       "  </thead>\n",
       "  <tbody>\n",
       "    <tr>\n",
       "      <td>count</td>\n",
       "      <td>7.000000</td>\n",
       "      <td>7.000000</td>\n",
       "      <td>7.000000</td>\n",
       "      <td>7.000000</td>\n",
       "    </tr>\n",
       "    <tr>\n",
       "      <td>mean</td>\n",
       "      <td>0.346037</td>\n",
       "      <td>-0.491697</td>\n",
       "      <td>0.621889</td>\n",
       "      <td>-0.321619</td>\n",
       "    </tr>\n",
       "    <tr>\n",
       "      <td>std</td>\n",
       "      <td>0.706383</td>\n",
       "      <td>1.294585</td>\n",
       "      <td>0.860220</td>\n",
       "      <td>0.927688</td>\n",
       "    </tr>\n",
       "    <tr>\n",
       "      <td>min</td>\n",
       "      <td>-0.623861</td>\n",
       "      <td>-2.281460</td>\n",
       "      <td>-0.461774</td>\n",
       "      <td>-2.086719</td>\n",
       "    </tr>\n",
       "    <tr>\n",
       "      <td>25%</td>\n",
       "      <td>0.080394</td>\n",
       "      <td>-1.293410</td>\n",
       "      <td>-0.090505</td>\n",
       "      <td>-0.676754</td>\n",
       "    </tr>\n",
       "    <tr>\n",
       "      <td>50%</td>\n",
       "      <td>0.365996</td>\n",
       "      <td>-0.474897</td>\n",
       "      <td>0.788201</td>\n",
       "      <td>0.167774</td>\n",
       "    </tr>\n",
       "    <tr>\n",
       "      <td>75%</td>\n",
       "      <td>0.422070</td>\n",
       "      <td>0.343230</td>\n",
       "      <td>1.209415</td>\n",
       "      <td>0.272172</td>\n",
       "    </tr>\n",
       "    <tr>\n",
       "      <td>max</td>\n",
       "      <td>1.675193</td>\n",
       "      <td>1.214840</td>\n",
       "      <td>1.788973</td>\n",
       "      <td>0.476776</td>\n",
       "    </tr>\n",
       "  </tbody>\n",
       "</table>\n",
       "</div>"
      ],
      "text/plain": [
       "              A         B         C         D\n",
       "count  7.000000  7.000000  7.000000  7.000000\n",
       "mean   0.346037 -0.491697  0.621889 -0.321619\n",
       "std    0.706383  1.294585  0.860220  0.927688\n",
       "min   -0.623861 -2.281460 -0.461774 -2.086719\n",
       "25%    0.080394 -1.293410 -0.090505 -0.676754\n",
       "50%    0.365996 -0.474897  0.788201  0.167774\n",
       "75%    0.422070  0.343230  1.209415  0.272172\n",
       "max    1.675193  1.214840  1.788973  0.476776"
      ]
     },
     "execution_count": 16,
     "metadata": {},
     "output_type": "execute_result"
    }
   ],
   "source": [
    "df.describe()"
   ]
  },
  {
   "cell_type": "code",
   "execution_count": 25,
   "metadata": {},
   "outputs": [
    {
     "data": {
      "text/html": [
       "<div>\n",
       "<style scoped>\n",
       "    .dataframe tbody tr th:only-of-type {\n",
       "        vertical-align: middle;\n",
       "    }\n",
       "\n",
       "    .dataframe tbody tr th {\n",
       "        vertical-align: top;\n",
       "    }\n",
       "\n",
       "    .dataframe thead th {\n",
       "        text-align: right;\n",
       "    }\n",
       "</style>\n",
       "<table border=\"1\" class=\"dataframe\">\n",
       "  <thead>\n",
       "    <tr style=\"text-align: right;\">\n",
       "      <th></th>\n",
       "      <th>A</th>\n",
       "      <th>B</th>\n",
       "      <th>C</th>\n",
       "      <th>D</th>\n",
       "    </tr>\n",
       "  </thead>\n",
       "  <tbody>\n",
       "    <tr>\n",
       "      <td>2020-03-06</td>\n",
       "      <td>0.478139</td>\n",
       "      <td>1.214840</td>\n",
       "      <td>-0.214109</td>\n",
       "      <td>-2.086719</td>\n",
       "    </tr>\n",
       "    <tr>\n",
       "      <td>2020-03-04</td>\n",
       "      <td>1.675193</td>\n",
       "      <td>0.934054</td>\n",
       "      <td>-0.461774</td>\n",
       "      <td>-0.364926</td>\n",
       "    </tr>\n",
       "    <tr>\n",
       "      <td>2020-02-29</td>\n",
       "      <td>0.332505</td>\n",
       "      <td>-0.247595</td>\n",
       "      <td>0.033099</td>\n",
       "      <td>0.167774</td>\n",
       "    </tr>\n",
       "    <tr>\n",
       "      <td>2020-03-02</td>\n",
       "      <td>0.365996</td>\n",
       "      <td>-0.474897</td>\n",
       "      <td>0.944967</td>\n",
       "      <td>-0.988583</td>\n",
       "    </tr>\n",
       "    <tr>\n",
       "      <td>2020-03-05</td>\n",
       "      <td>-0.171717</td>\n",
       "      <td>-0.763285</td>\n",
       "      <td>1.788973</td>\n",
       "      <td>0.174154</td>\n",
       "    </tr>\n",
       "    <tr>\n",
       "      <td>2020-03-01</td>\n",
       "      <td>-0.623861</td>\n",
       "      <td>-1.823535</td>\n",
       "      <td>1.473863</td>\n",
       "      <td>0.370190</td>\n",
       "    </tr>\n",
       "    <tr>\n",
       "      <td>2020-03-03</td>\n",
       "      <td>0.366000</td>\n",
       "      <td>-2.281460</td>\n",
       "      <td>0.788201</td>\n",
       "      <td>0.476776</td>\n",
       "    </tr>\n",
       "  </tbody>\n",
       "</table>\n",
       "</div>"
      ],
      "text/plain": [
       "                   A         B         C         D\n",
       "2020-03-06  0.478139  1.214840 -0.214109 -2.086719\n",
       "2020-03-04  1.675193  0.934054 -0.461774 -0.364926\n",
       "2020-02-29  0.332505 -0.247595  0.033099  0.167774\n",
       "2020-03-02  0.365996 -0.474897  0.944967 -0.988583\n",
       "2020-03-05 -0.171717 -0.763285  1.788973  0.174154\n",
       "2020-03-01 -0.623861 -1.823535  1.473863  0.370190\n",
       "2020-03-03  0.366000 -2.281460  0.788201  0.476776"
      ]
     },
     "execution_count": 25,
     "metadata": {},
     "output_type": "execute_result"
    }
   ],
   "source": [
    "\n",
    "df.sort_values(by='B' , ascending=False)\n"
   ]
  },
  {
   "cell_type": "code",
   "execution_count": 26,
   "metadata": {},
   "outputs": [
    {
     "data": {
      "text/html": [
       "<div>\n",
       "<style scoped>\n",
       "    .dataframe tbody tr th:only-of-type {\n",
       "        vertical-align: middle;\n",
       "    }\n",
       "\n",
       "    .dataframe tbody tr th {\n",
       "        vertical-align: top;\n",
       "    }\n",
       "\n",
       "    .dataframe thead th {\n",
       "        text-align: right;\n",
       "    }\n",
       "</style>\n",
       "<table border=\"1\" class=\"dataframe\">\n",
       "  <thead>\n",
       "    <tr style=\"text-align: right;\">\n",
       "      <th></th>\n",
       "      <th>A</th>\n",
       "      <th>B</th>\n",
       "      <th>C</th>\n",
       "      <th>D</th>\n",
       "    </tr>\n",
       "  </thead>\n",
       "  <tbody>\n",
       "    <tr>\n",
       "      <td>2020-02-29</td>\n",
       "      <td>0.332505</td>\n",
       "      <td>-0.247595</td>\n",
       "      <td>0.033099</td>\n",
       "      <td>0.167774</td>\n",
       "    </tr>\n",
       "    <tr>\n",
       "      <td>2020-03-01</td>\n",
       "      <td>-0.623861</td>\n",
       "      <td>-1.823535</td>\n",
       "      <td>1.473863</td>\n",
       "      <td>0.370190</td>\n",
       "    </tr>\n",
       "    <tr>\n",
       "      <td>2020-03-02</td>\n",
       "      <td>0.365996</td>\n",
       "      <td>-0.474897</td>\n",
       "      <td>0.944967</td>\n",
       "      <td>-0.988583</td>\n",
       "    </tr>\n",
       "    <tr>\n",
       "      <td>2020-03-03</td>\n",
       "      <td>0.366000</td>\n",
       "      <td>-2.281460</td>\n",
       "      <td>0.788201</td>\n",
       "      <td>0.476776</td>\n",
       "    </tr>\n",
       "    <tr>\n",
       "      <td>2020-03-04</td>\n",
       "      <td>1.675193</td>\n",
       "      <td>0.934054</td>\n",
       "      <td>-0.461774</td>\n",
       "      <td>-0.364926</td>\n",
       "    </tr>\n",
       "    <tr>\n",
       "      <td>2020-03-05</td>\n",
       "      <td>-0.171717</td>\n",
       "      <td>-0.763285</td>\n",
       "      <td>1.788973</td>\n",
       "      <td>0.174154</td>\n",
       "    </tr>\n",
       "    <tr>\n",
       "      <td>2020-03-06</td>\n",
       "      <td>0.478139</td>\n",
       "      <td>1.214840</td>\n",
       "      <td>-0.214109</td>\n",
       "      <td>-2.086719</td>\n",
       "    </tr>\n",
       "  </tbody>\n",
       "</table>\n",
       "</div>"
      ],
      "text/plain": [
       "                   A         B         C         D\n",
       "2020-02-29  0.332505 -0.247595  0.033099  0.167774\n",
       "2020-03-01 -0.623861 -1.823535  1.473863  0.370190\n",
       "2020-03-02  0.365996 -0.474897  0.944967 -0.988583\n",
       "2020-03-03  0.366000 -2.281460  0.788201  0.476776\n",
       "2020-03-04  1.675193  0.934054 -0.461774 -0.364926\n",
       "2020-03-05 -0.171717 -0.763285  1.788973  0.174154\n",
       "2020-03-06  0.478139  1.214840 -0.214109 -2.086719"
      ]
     },
     "execution_count": 26,
     "metadata": {},
     "output_type": "execute_result"
    }
   ],
   "source": [
    "df"
   ]
  },
  {
   "cell_type": "code",
   "execution_count": 28,
   "metadata": {},
   "outputs": [
    {
     "data": {
      "text/plain": [
       "2020-02-29    0.332505\n",
       "2020-03-01   -0.623861\n",
       "2020-03-02    0.365996\n",
       "2020-03-03    0.366000\n",
       "2020-03-04    1.675193\n",
       "2020-03-05   -0.171717\n",
       "2020-03-06    0.478139\n",
       "Freq: D, Name: A, dtype: float64"
      ]
     },
     "execution_count": 28,
     "metadata": {},
     "output_type": "execute_result"
    }
   ],
   "source": [
    "df['A']"
   ]
  },
  {
   "cell_type": "code",
   "execution_count": 30,
   "metadata": {},
   "outputs": [
    {
     "data": {
      "text/html": [
       "<div>\n",
       "<style scoped>\n",
       "    .dataframe tbody tr th:only-of-type {\n",
       "        vertical-align: middle;\n",
       "    }\n",
       "\n",
       "    .dataframe tbody tr th {\n",
       "        vertical-align: top;\n",
       "    }\n",
       "\n",
       "    .dataframe thead th {\n",
       "        text-align: right;\n",
       "    }\n",
       "</style>\n",
       "<table border=\"1\" class=\"dataframe\">\n",
       "  <thead>\n",
       "    <tr style=\"text-align: right;\">\n",
       "      <th></th>\n",
       "      <th>A</th>\n",
       "      <th>B</th>\n",
       "      <th>C</th>\n",
       "      <th>D</th>\n",
       "    </tr>\n",
       "  </thead>\n",
       "  <tbody>\n",
       "    <tr>\n",
       "      <td>2020-02-29</td>\n",
       "      <td>0.332505</td>\n",
       "      <td>-0.247595</td>\n",
       "      <td>0.033099</td>\n",
       "      <td>0.167774</td>\n",
       "    </tr>\n",
       "    <tr>\n",
       "      <td>2020-03-01</td>\n",
       "      <td>-0.623861</td>\n",
       "      <td>-1.823535</td>\n",
       "      <td>1.473863</td>\n",
       "      <td>0.370190</td>\n",
       "    </tr>\n",
       "    <tr>\n",
       "      <td>2020-03-02</td>\n",
       "      <td>0.365996</td>\n",
       "      <td>-0.474897</td>\n",
       "      <td>0.944967</td>\n",
       "      <td>-0.988583</td>\n",
       "    </tr>\n",
       "  </tbody>\n",
       "</table>\n",
       "</div>"
      ],
      "text/plain": [
       "                   A         B         C         D\n",
       "2020-02-29  0.332505 -0.247595  0.033099  0.167774\n",
       "2020-03-01 -0.623861 -1.823535  1.473863  0.370190\n",
       "2020-03-02  0.365996 -0.474897  0.944967 -0.988583"
      ]
     },
     "execution_count": 30,
     "metadata": {},
     "output_type": "execute_result"
    }
   ],
   "source": [
    "df[0:3]"
   ]
  },
  {
   "cell_type": "code",
   "execution_count": 31,
   "metadata": {},
   "outputs": [
    {
     "data": {
      "text/html": [
       "<div>\n",
       "<style scoped>\n",
       "    .dataframe tbody tr th:only-of-type {\n",
       "        vertical-align: middle;\n",
       "    }\n",
       "\n",
       "    .dataframe tbody tr th {\n",
       "        vertical-align: top;\n",
       "    }\n",
       "\n",
       "    .dataframe thead th {\n",
       "        text-align: right;\n",
       "    }\n",
       "</style>\n",
       "<table border=\"1\" class=\"dataframe\">\n",
       "  <thead>\n",
       "    <tr style=\"text-align: right;\">\n",
       "      <th></th>\n",
       "      <th>A</th>\n",
       "      <th>B</th>\n",
       "      <th>C</th>\n",
       "      <th>D</th>\n",
       "    </tr>\n",
       "  </thead>\n",
       "  <tbody>\n",
       "    <tr>\n",
       "      <td>2020-03-03</td>\n",
       "      <td>0.366000</td>\n",
       "      <td>-2.281460</td>\n",
       "      <td>0.788201</td>\n",
       "      <td>0.476776</td>\n",
       "    </tr>\n",
       "    <tr>\n",
       "      <td>2020-03-04</td>\n",
       "      <td>1.675193</td>\n",
       "      <td>0.934054</td>\n",
       "      <td>-0.461774</td>\n",
       "      <td>-0.364926</td>\n",
       "    </tr>\n",
       "    <tr>\n",
       "      <td>2020-03-05</td>\n",
       "      <td>-0.171717</td>\n",
       "      <td>-0.763285</td>\n",
       "      <td>1.788973</td>\n",
       "      <td>0.174154</td>\n",
       "    </tr>\n",
       "  </tbody>\n",
       "</table>\n",
       "</div>"
      ],
      "text/plain": [
       "                   A         B         C         D\n",
       "2020-03-03  0.366000 -2.281460  0.788201  0.476776\n",
       "2020-03-04  1.675193  0.934054 -0.461774 -0.364926\n",
       "2020-03-05 -0.171717 -0.763285  1.788973  0.174154"
      ]
     },
     "execution_count": 31,
     "metadata": {},
     "output_type": "execute_result"
    }
   ],
   "source": [
    "df['2020-03-03':'2020-03-05']"
   ]
  },
  {
   "cell_type": "code",
   "execution_count": 32,
   "metadata": {},
   "outputs": [
    {
     "data": {
      "text/plain": [
       "A    0.332505\n",
       "B   -0.247595\n",
       "C    0.033099\n",
       "D    0.167774\n",
       "Name: 2020-02-29 00:00:00, dtype: float64"
      ]
     },
     "execution_count": 32,
     "metadata": {},
     "output_type": "execute_result"
    }
   ],
   "source": [
    "df.loc[dates[0]]"
   ]
  },
  {
   "cell_type": "code",
   "execution_count": 33,
   "metadata": {},
   "outputs": [
    {
     "data": {
      "text/html": [
       "<div>\n",
       "<style scoped>\n",
       "    .dataframe tbody tr th:only-of-type {\n",
       "        vertical-align: middle;\n",
       "    }\n",
       "\n",
       "    .dataframe tbody tr th {\n",
       "        vertical-align: top;\n",
       "    }\n",
       "\n",
       "    .dataframe thead th {\n",
       "        text-align: right;\n",
       "    }\n",
       "</style>\n",
       "<table border=\"1\" class=\"dataframe\">\n",
       "  <thead>\n",
       "    <tr style=\"text-align: right;\">\n",
       "      <th></th>\n",
       "      <th>A</th>\n",
       "      <th>B</th>\n",
       "    </tr>\n",
       "  </thead>\n",
       "  <tbody>\n",
       "    <tr>\n",
       "      <td>2020-02-29</td>\n",
       "      <td>0.332505</td>\n",
       "      <td>-0.247595</td>\n",
       "    </tr>\n",
       "    <tr>\n",
       "      <td>2020-03-01</td>\n",
       "      <td>-0.623861</td>\n",
       "      <td>-1.823535</td>\n",
       "    </tr>\n",
       "    <tr>\n",
       "      <td>2020-03-02</td>\n",
       "      <td>0.365996</td>\n",
       "      <td>-0.474897</td>\n",
       "    </tr>\n",
       "    <tr>\n",
       "      <td>2020-03-03</td>\n",
       "      <td>0.366000</td>\n",
       "      <td>-2.281460</td>\n",
       "    </tr>\n",
       "    <tr>\n",
       "      <td>2020-03-04</td>\n",
       "      <td>1.675193</td>\n",
       "      <td>0.934054</td>\n",
       "    </tr>\n",
       "    <tr>\n",
       "      <td>2020-03-05</td>\n",
       "      <td>-0.171717</td>\n",
       "      <td>-0.763285</td>\n",
       "    </tr>\n",
       "    <tr>\n",
       "      <td>2020-03-06</td>\n",
       "      <td>0.478139</td>\n",
       "      <td>1.214840</td>\n",
       "    </tr>\n",
       "  </tbody>\n",
       "</table>\n",
       "</div>"
      ],
      "text/plain": [
       "                   A         B\n",
       "2020-02-29  0.332505 -0.247595\n",
       "2020-03-01 -0.623861 -1.823535\n",
       "2020-03-02  0.365996 -0.474897\n",
       "2020-03-03  0.366000 -2.281460\n",
       "2020-03-04  1.675193  0.934054\n",
       "2020-03-05 -0.171717 -0.763285\n",
       "2020-03-06  0.478139  1.214840"
      ]
     },
     "execution_count": 33,
     "metadata": {},
     "output_type": "execute_result"
    }
   ],
   "source": [
    "df.loc[:,['A','B']]"
   ]
  },
  {
   "cell_type": "code",
   "execution_count": 40,
   "metadata": {},
   "outputs": [
    {
     "data": {
      "text/html": [
       "<div>\n",
       "<style scoped>\n",
       "    .dataframe tbody tr th:only-of-type {\n",
       "        vertical-align: middle;\n",
       "    }\n",
       "\n",
       "    .dataframe tbody tr th {\n",
       "        vertical-align: top;\n",
       "    }\n",
       "\n",
       "    .dataframe thead th {\n",
       "        text-align: right;\n",
       "    }\n",
       "</style>\n",
       "<table border=\"1\" class=\"dataframe\">\n",
       "  <thead>\n",
       "    <tr style=\"text-align: right;\">\n",
       "      <th></th>\n",
       "      <th>A</th>\n",
       "      <th>B</th>\n",
       "    </tr>\n",
       "  </thead>\n",
       "  <tbody>\n",
       "    <tr>\n",
       "      <td>2020-03-03</td>\n",
       "      <td>0.366000</td>\n",
       "      <td>-2.281460</td>\n",
       "    </tr>\n",
       "    <tr>\n",
       "      <td>2020-03-04</td>\n",
       "      <td>1.675193</td>\n",
       "      <td>0.934054</td>\n",
       "    </tr>\n",
       "    <tr>\n",
       "      <td>2020-03-05</td>\n",
       "      <td>-0.171717</td>\n",
       "      <td>-0.763285</td>\n",
       "    </tr>\n",
       "    <tr>\n",
       "      <td>2020-03-06</td>\n",
       "      <td>0.478139</td>\n",
       "      <td>1.214840</td>\n",
       "    </tr>\n",
       "  </tbody>\n",
       "</table>\n",
       "</div>"
      ],
      "text/plain": [
       "                   A         B\n",
       "2020-03-03  0.366000 -2.281460\n",
       "2020-03-04  1.675193  0.934054\n",
       "2020-03-05 -0.171717 -0.763285\n",
       "2020-03-06  0.478139  1.214840"
      ]
     },
     "execution_count": 40,
     "metadata": {},
     "output_type": "execute_result"
    }
   ],
   "source": [
    "df.loc['2020-03-03':,['A','B']]"
   ]
  },
  {
   "cell_type": "code",
   "execution_count": 44,
   "metadata": {},
   "outputs": [
    {
     "data": {
      "text/html": [
       "<div>\n",
       "<style scoped>\n",
       "    .dataframe tbody tr th:only-of-type {\n",
       "        vertical-align: middle;\n",
       "    }\n",
       "\n",
       "    .dataframe tbody tr th {\n",
       "        vertical-align: top;\n",
       "    }\n",
       "\n",
       "    .dataframe thead th {\n",
       "        text-align: right;\n",
       "    }\n",
       "</style>\n",
       "<table border=\"1\" class=\"dataframe\">\n",
       "  <thead>\n",
       "    <tr style=\"text-align: right;\">\n",
       "      <th></th>\n",
       "      <th>C</th>\n",
       "      <th>D</th>\n",
       "    </tr>\n",
       "  </thead>\n",
       "  <tbody>\n",
       "    <tr>\n",
       "      <td>2020-03-02</td>\n",
       "      <td>0.944967</td>\n",
       "      <td>-0.988583</td>\n",
       "    </tr>\n",
       "    <tr>\n",
       "      <td>2020-03-03</td>\n",
       "      <td>0.788201</td>\n",
       "      <td>0.476776</td>\n",
       "    </tr>\n",
       "    <tr>\n",
       "      <td>2020-03-04</td>\n",
       "      <td>-0.461774</td>\n",
       "      <td>-0.364926</td>\n",
       "    </tr>\n",
       "    <tr>\n",
       "      <td>2020-03-05</td>\n",
       "      <td>1.788973</td>\n",
       "      <td>0.174154</td>\n",
       "    </tr>\n",
       "  </tbody>\n",
       "</table>\n",
       "</div>"
      ],
      "text/plain": [
       "                   C         D\n",
       "2020-03-02  0.944967 -0.988583\n",
       "2020-03-03  0.788201  0.476776\n",
       "2020-03-04 -0.461774 -0.364926\n",
       "2020-03-05  1.788973  0.174154"
      ]
     },
     "execution_count": 44,
     "metadata": {},
     "output_type": "execute_result"
    }
   ],
   "source": [
    "df.loc['20200302':'20200305',['C','D']]"
   ]
  },
  {
   "cell_type": "code",
   "execution_count": 43,
   "metadata": {},
   "outputs": [
    {
     "data": {
      "text/html": [
       "<div>\n",
       "<style scoped>\n",
       "    .dataframe tbody tr th:only-of-type {\n",
       "        vertical-align: middle;\n",
       "    }\n",
       "\n",
       "    .dataframe tbody tr th {\n",
       "        vertical-align: top;\n",
       "    }\n",
       "\n",
       "    .dataframe thead th {\n",
       "        text-align: right;\n",
       "    }\n",
       "</style>\n",
       "<table border=\"1\" class=\"dataframe\">\n",
       "  <thead>\n",
       "    <tr style=\"text-align: right;\">\n",
       "      <th></th>\n",
       "      <th>C</th>\n",
       "      <th>D</th>\n",
       "    </tr>\n",
       "  </thead>\n",
       "  <tbody>\n",
       "    <tr>\n",
       "      <td>2020-03-02</td>\n",
       "      <td>0.944967</td>\n",
       "      <td>-0.988583</td>\n",
       "    </tr>\n",
       "    <tr>\n",
       "      <td>2020-03-03</td>\n",
       "      <td>0.788201</td>\n",
       "      <td>0.476776</td>\n",
       "    </tr>\n",
       "    <tr>\n",
       "      <td>2020-03-04</td>\n",
       "      <td>-0.461774</td>\n",
       "      <td>-0.364926</td>\n",
       "    </tr>\n",
       "    <tr>\n",
       "      <td>2020-03-05</td>\n",
       "      <td>1.788973</td>\n",
       "      <td>0.174154</td>\n",
       "    </tr>\n",
       "  </tbody>\n",
       "</table>\n",
       "</div>"
      ],
      "text/plain": [
       "                   C         D\n",
       "2020-03-02  0.944967 -0.988583\n",
       "2020-03-03  0.788201  0.476776\n",
       "2020-03-04 -0.461774 -0.364926\n",
       "2020-03-05  1.788973  0.174154"
      ]
     },
     "execution_count": 43,
     "metadata": {},
     "output_type": "execute_result"
    }
   ],
   "source": [
    "df.loc['2020-03-02':'2020-03-05',['C','D']]"
   ]
  },
  {
   "cell_type": "code",
   "execution_count": 45,
   "metadata": {},
   "outputs": [
    {
     "data": {
      "text/plain": [
       "0.36599991080138533"
      ]
     },
     "execution_count": 45,
     "metadata": {},
     "output_type": "execute_result"
    }
   ],
   "source": [
    "df.loc['20200303','A']"
   ]
  },
  {
   "cell_type": "code",
   "execution_count": 50,
   "metadata": {},
   "outputs": [
    {
     "data": {
      "text/plain": [
       "A   -0.623861\n",
       "D    0.370190\n",
       "Name: 2020-03-01 00:00:00, dtype: float64"
      ]
     },
     "execution_count": 50,
     "metadata": {},
     "output_type": "execute_result"
    }
   ],
   "source": [
    "df.loc['2020-03-01',['A','D']]"
   ]
  },
  {
   "cell_type": "code",
   "execution_count": 51,
   "metadata": {},
   "outputs": [
    {
     "data": {
      "text/plain": [
       "A   -0.623861\n",
       "B   -1.823535\n",
       "C    1.473863\n",
       "D    0.370190\n",
       "Name: 2020-03-01 00:00:00, dtype: float64"
      ]
     },
     "execution_count": 51,
     "metadata": {},
     "output_type": "execute_result"
    }
   ],
   "source": [
    "df.loc['2020-03-01','A':'D']"
   ]
  },
  {
   "cell_type": "code",
   "execution_count": 56,
   "metadata": {},
   "outputs": [
    {
     "data": {
      "text/plain": [
       "A   -0.623861\n",
       "B   -1.823535\n",
       "C    1.473863\n",
       "D    0.370190\n",
       "Name: 2020-03-01 00:00:00, dtype: float64"
      ]
     },
     "execution_count": 56,
     "metadata": {},
     "output_type": "execute_result"
    }
   ],
   "source": [
    "df.loc['2020-03-01']"
   ]
  },
  {
   "cell_type": "code",
   "execution_count": 62,
   "metadata": {},
   "outputs": [
    {
     "data": {
      "text/html": [
       "<div>\n",
       "<style scoped>\n",
       "    .dataframe tbody tr th:only-of-type {\n",
       "        vertical-align: middle;\n",
       "    }\n",
       "\n",
       "    .dataframe tbody tr th {\n",
       "        vertical-align: top;\n",
       "    }\n",
       "\n",
       "    .dataframe thead th {\n",
       "        text-align: right;\n",
       "    }\n",
       "</style>\n",
       "<table border=\"1\" class=\"dataframe\">\n",
       "  <thead>\n",
       "    <tr style=\"text-align: right;\">\n",
       "      <th></th>\n",
       "      <th>A</th>\n",
       "      <th>B</th>\n",
       "      <th>C</th>\n",
       "      <th>D</th>\n",
       "    </tr>\n",
       "  </thead>\n",
       "  <tbody>\n",
       "    <tr>\n",
       "      <td>2020-03-01</td>\n",
       "      <td>-0.623861</td>\n",
       "      <td>-1.823535</td>\n",
       "      <td>1.473863</td>\n",
       "      <td>0.370190</td>\n",
       "    </tr>\n",
       "    <tr>\n",
       "      <td>2020-03-02</td>\n",
       "      <td>0.365996</td>\n",
       "      <td>-0.474897</td>\n",
       "      <td>0.944967</td>\n",
       "      <td>-0.988583</td>\n",
       "    </tr>\n",
       "    <tr>\n",
       "      <td>2020-03-03</td>\n",
       "      <td>0.366000</td>\n",
       "      <td>-2.281460</td>\n",
       "      <td>0.788201</td>\n",
       "      <td>0.476776</td>\n",
       "    </tr>\n",
       "  </tbody>\n",
       "</table>\n",
       "</div>"
      ],
      "text/plain": [
       "                   A         B         C         D\n",
       "2020-03-01 -0.623861 -1.823535  1.473863  0.370190\n",
       "2020-03-02  0.365996 -0.474897  0.944967 -0.988583\n",
       "2020-03-03  0.366000 -2.281460  0.788201  0.476776"
      ]
     },
     "execution_count": 62,
     "metadata": {},
     "output_type": "execute_result"
    }
   ],
   "source": [
    "df.loc['2020-03-01':'2020-03-03']"
   ]
  },
  {
   "cell_type": "code",
   "execution_count": 65,
   "metadata": {},
   "outputs": [
    {
     "data": {
      "text/plain": [
       "A    0.366000\n",
       "B   -2.281460\n",
       "C    0.788201\n",
       "D    0.476776\n",
       "Name: 2020-03-03 00:00:00, dtype: float64"
      ]
     },
     "execution_count": 65,
     "metadata": {},
     "output_type": "execute_result"
    }
   ],
   "source": [
    "df.iloc[3]"
   ]
  },
  {
   "cell_type": "code",
   "execution_count": 74,
   "metadata": {},
   "outputs": [
    {
     "data": {
      "text/plain": [
       "2020-02-29    0.167774\n",
       "2020-03-01    0.370190\n",
       "2020-03-02   -0.988583\n",
       "2020-03-03    0.476776\n",
       "2020-03-04   -0.364926\n",
       "2020-03-05    0.174154\n",
       "2020-03-06   -2.086719\n",
       "Freq: D, Name: D, dtype: float64"
      ]
     },
     "execution_count": 74,
     "metadata": {},
     "output_type": "execute_result"
    }
   ],
   "source": [
    "df.iloc[:,3]"
   ]
  },
  {
   "cell_type": "code",
   "execution_count": 73,
   "metadata": {},
   "outputs": [
    {
     "data": {
      "text/plain": [
       "2020-02-29    0.167774\n",
       "2020-03-01    0.370190\n",
       "2020-03-02   -0.988583\n",
       "2020-03-03    0.476776\n",
       "2020-03-04   -0.364926\n",
       "2020-03-05    0.174154\n",
       "2020-03-06   -2.086719\n",
       "Freq: D, Name: D, dtype: float64"
      ]
     },
     "execution_count": 73,
     "metadata": {},
     "output_type": "execute_result"
    }
   ],
   "source": [
    "df['D']"
   ]
  },
  {
   "cell_type": "code",
   "execution_count": 75,
   "metadata": {},
   "outputs": [
    {
     "data": {
      "text/html": [
       "<div>\n",
       "<style scoped>\n",
       "    .dataframe tbody tr th:only-of-type {\n",
       "        vertical-align: middle;\n",
       "    }\n",
       "\n",
       "    .dataframe tbody tr th {\n",
       "        vertical-align: top;\n",
       "    }\n",
       "\n",
       "    .dataframe thead th {\n",
       "        text-align: right;\n",
       "    }\n",
       "</style>\n",
       "<table border=\"1\" class=\"dataframe\">\n",
       "  <thead>\n",
       "    <tr style=\"text-align: right;\">\n",
       "      <th></th>\n",
       "      <th>A</th>\n",
       "      <th>B</th>\n",
       "    </tr>\n",
       "  </thead>\n",
       "  <tbody>\n",
       "    <tr>\n",
       "      <td>2020-03-03</td>\n",
       "      <td>0.366000</td>\n",
       "      <td>-2.281460</td>\n",
       "    </tr>\n",
       "    <tr>\n",
       "      <td>2020-03-04</td>\n",
       "      <td>1.675193</td>\n",
       "      <td>0.934054</td>\n",
       "    </tr>\n",
       "  </tbody>\n",
       "</table>\n",
       "</div>"
      ],
      "text/plain": [
       "                   A         B\n",
       "2020-03-03  0.366000 -2.281460\n",
       "2020-03-04  1.675193  0.934054"
      ]
     },
     "execution_count": 75,
     "metadata": {},
     "output_type": "execute_result"
    }
   ],
   "source": [
    "df.iloc[3:5,0:2]"
   ]
  },
  {
   "cell_type": "code",
   "execution_count": 77,
   "metadata": {},
   "outputs": [
    {
     "data": {
      "text/html": [
       "<div>\n",
       "<style scoped>\n",
       "    .dataframe tbody tr th:only-of-type {\n",
       "        vertical-align: middle;\n",
       "    }\n",
       "\n",
       "    .dataframe tbody tr th {\n",
       "        vertical-align: top;\n",
       "    }\n",
       "\n",
       "    .dataframe thead th {\n",
       "        text-align: right;\n",
       "    }\n",
       "</style>\n",
       "<table border=\"1\" class=\"dataframe\">\n",
       "  <thead>\n",
       "    <tr style=\"text-align: right;\">\n",
       "      <th></th>\n",
       "      <th>A</th>\n",
       "      <th>B</th>\n",
       "    </tr>\n",
       "  </thead>\n",
       "  <tbody>\n",
       "    <tr>\n",
       "      <td>2020-03-01</td>\n",
       "      <td>-0.623861</td>\n",
       "      <td>-1.823535</td>\n",
       "    </tr>\n",
       "    <tr>\n",
       "      <td>2020-03-02</td>\n",
       "      <td>0.365996</td>\n",
       "      <td>-0.474897</td>\n",
       "    </tr>\n",
       "    <tr>\n",
       "      <td>2020-03-04</td>\n",
       "      <td>1.675193</td>\n",
       "      <td>0.934054</td>\n",
       "    </tr>\n",
       "  </tbody>\n",
       "</table>\n",
       "</div>"
      ],
      "text/plain": [
       "                   A         B\n",
       "2020-03-01 -0.623861 -1.823535\n",
       "2020-03-02  0.365996 -0.474897\n",
       "2020-03-04  1.675193  0.934054"
      ]
     },
     "execution_count": 77,
     "metadata": {},
     "output_type": "execute_result"
    }
   ],
   "source": [
    "df.iloc[[1,2,4,],[0,1]]"
   ]
  },
  {
   "cell_type": "code",
   "execution_count": 86,
   "metadata": {},
   "outputs": [
    {
     "data": {
      "text/html": [
       "<div>\n",
       "<style scoped>\n",
       "    .dataframe tbody tr th:only-of-type {\n",
       "        vertical-align: middle;\n",
       "    }\n",
       "\n",
       "    .dataframe tbody tr th {\n",
       "        vertical-align: top;\n",
       "    }\n",
       "\n",
       "    .dataframe thead th {\n",
       "        text-align: right;\n",
       "    }\n",
       "</style>\n",
       "<table border=\"1\" class=\"dataframe\">\n",
       "  <thead>\n",
       "    <tr style=\"text-align: right;\">\n",
       "      <th></th>\n",
       "      <th>A</th>\n",
       "      <th>B</th>\n",
       "      <th>C</th>\n",
       "      <th>D</th>\n",
       "    </tr>\n",
       "  </thead>\n",
       "  <tbody>\n",
       "    <tr>\n",
       "      <td>2020-03-01</td>\n",
       "      <td>-0.623861</td>\n",
       "      <td>-1.823535</td>\n",
       "      <td>1.473863</td>\n",
       "      <td>0.370190</td>\n",
       "    </tr>\n",
       "    <tr>\n",
       "      <td>2020-03-02</td>\n",
       "      <td>0.365996</td>\n",
       "      <td>-0.474897</td>\n",
       "      <td>0.944967</td>\n",
       "      <td>-0.988583</td>\n",
       "    </tr>\n",
       "  </tbody>\n",
       "</table>\n",
       "</div>"
      ],
      "text/plain": [
       "                   A         B         C         D\n",
       "2020-03-01 -0.623861 -1.823535  1.473863  0.370190\n",
       "2020-03-02  0.365996 -0.474897  0.944967 -0.988583"
      ]
     },
     "execution_count": 86,
     "metadata": {},
     "output_type": "execute_result"
    }
   ],
   "source": [
    "df.iloc[1:3,:]"
   ]
  },
  {
   "cell_type": "code",
   "execution_count": 87,
   "metadata": {},
   "outputs": [
    {
     "data": {
      "text/html": [
       "<div>\n",
       "<style scoped>\n",
       "    .dataframe tbody tr th:only-of-type {\n",
       "        vertical-align: middle;\n",
       "    }\n",
       "\n",
       "    .dataframe tbody tr th {\n",
       "        vertical-align: top;\n",
       "    }\n",
       "\n",
       "    .dataframe thead th {\n",
       "        text-align: right;\n",
       "    }\n",
       "</style>\n",
       "<table border=\"1\" class=\"dataframe\">\n",
       "  <thead>\n",
       "    <tr style=\"text-align: right;\">\n",
       "      <th></th>\n",
       "      <th>B</th>\n",
       "      <th>C</th>\n",
       "    </tr>\n",
       "  </thead>\n",
       "  <tbody>\n",
       "    <tr>\n",
       "      <td>2020-02-29</td>\n",
       "      <td>-0.247595</td>\n",
       "      <td>0.033099</td>\n",
       "    </tr>\n",
       "    <tr>\n",
       "      <td>2020-03-01</td>\n",
       "      <td>-1.823535</td>\n",
       "      <td>1.473863</td>\n",
       "    </tr>\n",
       "    <tr>\n",
       "      <td>2020-03-02</td>\n",
       "      <td>-0.474897</td>\n",
       "      <td>0.944967</td>\n",
       "    </tr>\n",
       "    <tr>\n",
       "      <td>2020-03-03</td>\n",
       "      <td>-2.281460</td>\n",
       "      <td>0.788201</td>\n",
       "    </tr>\n",
       "    <tr>\n",
       "      <td>2020-03-04</td>\n",
       "      <td>0.934054</td>\n",
       "      <td>-0.461774</td>\n",
       "    </tr>\n",
       "    <tr>\n",
       "      <td>2020-03-05</td>\n",
       "      <td>-0.763285</td>\n",
       "      <td>1.788973</td>\n",
       "    </tr>\n",
       "    <tr>\n",
       "      <td>2020-03-06</td>\n",
       "      <td>1.214840</td>\n",
       "      <td>-0.214109</td>\n",
       "    </tr>\n",
       "  </tbody>\n",
       "</table>\n",
       "</div>"
      ],
      "text/plain": [
       "                   B         C\n",
       "2020-02-29 -0.247595  0.033099\n",
       "2020-03-01 -1.823535  1.473863\n",
       "2020-03-02 -0.474897  0.944967\n",
       "2020-03-03 -2.281460  0.788201\n",
       "2020-03-04  0.934054 -0.461774\n",
       "2020-03-05 -0.763285  1.788973\n",
       "2020-03-06  1.214840 -0.214109"
      ]
     },
     "execution_count": 87,
     "metadata": {},
     "output_type": "execute_result"
    }
   ],
   "source": [
    "df.iloc[:,1:3]"
   ]
  },
  {
   "cell_type": "code",
   "execution_count": 88,
   "metadata": {},
   "outputs": [
    {
     "data": {
      "text/html": [
       "<div>\n",
       "<style scoped>\n",
       "    .dataframe tbody tr th:only-of-type {\n",
       "        vertical-align: middle;\n",
       "    }\n",
       "\n",
       "    .dataframe tbody tr th {\n",
       "        vertical-align: top;\n",
       "    }\n",
       "\n",
       "    .dataframe thead th {\n",
       "        text-align: right;\n",
       "    }\n",
       "</style>\n",
       "<table border=\"1\" class=\"dataframe\">\n",
       "  <thead>\n",
       "    <tr style=\"text-align: right;\">\n",
       "      <th></th>\n",
       "      <th>A</th>\n",
       "      <th>B</th>\n",
       "      <th>C</th>\n",
       "      <th>D</th>\n",
       "    </tr>\n",
       "  </thead>\n",
       "  <tbody>\n",
       "    <tr>\n",
       "      <td>2020-02-29</td>\n",
       "      <td>0.332505</td>\n",
       "      <td>-0.247595</td>\n",
       "      <td>0.033099</td>\n",
       "      <td>0.167774</td>\n",
       "    </tr>\n",
       "    <tr>\n",
       "      <td>2020-03-01</td>\n",
       "      <td>-0.623861</td>\n",
       "      <td>-1.823535</td>\n",
       "      <td>1.473863</td>\n",
       "      <td>0.370190</td>\n",
       "    </tr>\n",
       "    <tr>\n",
       "      <td>2020-03-02</td>\n",
       "      <td>0.365996</td>\n",
       "      <td>-0.474897</td>\n",
       "      <td>0.944967</td>\n",
       "      <td>-0.988583</td>\n",
       "    </tr>\n",
       "    <tr>\n",
       "      <td>2020-03-03</td>\n",
       "      <td>0.366000</td>\n",
       "      <td>-2.281460</td>\n",
       "      <td>0.788201</td>\n",
       "      <td>0.476776</td>\n",
       "    </tr>\n",
       "    <tr>\n",
       "      <td>2020-03-04</td>\n",
       "      <td>1.675193</td>\n",
       "      <td>0.934054</td>\n",
       "      <td>-0.461774</td>\n",
       "      <td>-0.364926</td>\n",
       "    </tr>\n",
       "    <tr>\n",
       "      <td>2020-03-05</td>\n",
       "      <td>-0.171717</td>\n",
       "      <td>-0.763285</td>\n",
       "      <td>1.788973</td>\n",
       "      <td>0.174154</td>\n",
       "    </tr>\n",
       "    <tr>\n",
       "      <td>2020-03-06</td>\n",
       "      <td>0.478139</td>\n",
       "      <td>1.214840</td>\n",
       "      <td>-0.214109</td>\n",
       "      <td>-2.086719</td>\n",
       "    </tr>\n",
       "  </tbody>\n",
       "</table>\n",
       "</div>"
      ],
      "text/plain": [
       "                   A         B         C         D\n",
       "2020-02-29  0.332505 -0.247595  0.033099  0.167774\n",
       "2020-03-01 -0.623861 -1.823535  1.473863  0.370190\n",
       "2020-03-02  0.365996 -0.474897  0.944967 -0.988583\n",
       "2020-03-03  0.366000 -2.281460  0.788201  0.476776\n",
       "2020-03-04  1.675193  0.934054 -0.461774 -0.364926\n",
       "2020-03-05 -0.171717 -0.763285  1.788973  0.174154\n",
       "2020-03-06  0.478139  1.214840 -0.214109 -2.086719"
      ]
     },
     "execution_count": 88,
     "metadata": {},
     "output_type": "execute_result"
    }
   ],
   "source": [
    "df"
   ]
  },
  {
   "cell_type": "code",
   "execution_count": 89,
   "metadata": {},
   "outputs": [
    {
     "data": {
      "text/html": [
       "<div>\n",
       "<style scoped>\n",
       "    .dataframe tbody tr th:only-of-type {\n",
       "        vertical-align: middle;\n",
       "    }\n",
       "\n",
       "    .dataframe tbody tr th {\n",
       "        vertical-align: top;\n",
       "    }\n",
       "\n",
       "    .dataframe thead th {\n",
       "        text-align: right;\n",
       "    }\n",
       "</style>\n",
       "<table border=\"1\" class=\"dataframe\">\n",
       "  <thead>\n",
       "    <tr style=\"text-align: right;\">\n",
       "      <th></th>\n",
       "      <th>A</th>\n",
       "      <th>B</th>\n",
       "      <th>C</th>\n",
       "      <th>D</th>\n",
       "    </tr>\n",
       "  </thead>\n",
       "  <tbody>\n",
       "    <tr>\n",
       "      <td>2020-02-29</td>\n",
       "      <td>0.332505</td>\n",
       "      <td>-0.247595</td>\n",
       "      <td>0.033099</td>\n",
       "      <td>0.167774</td>\n",
       "    </tr>\n",
       "    <tr>\n",
       "      <td>2020-03-02</td>\n",
       "      <td>0.365996</td>\n",
       "      <td>-0.474897</td>\n",
       "      <td>0.944967</td>\n",
       "      <td>-0.988583</td>\n",
       "    </tr>\n",
       "    <tr>\n",
       "      <td>2020-03-03</td>\n",
       "      <td>0.366000</td>\n",
       "      <td>-2.281460</td>\n",
       "      <td>0.788201</td>\n",
       "      <td>0.476776</td>\n",
       "    </tr>\n",
       "    <tr>\n",
       "      <td>2020-03-04</td>\n",
       "      <td>1.675193</td>\n",
       "      <td>0.934054</td>\n",
       "      <td>-0.461774</td>\n",
       "      <td>-0.364926</td>\n",
       "    </tr>\n",
       "    <tr>\n",
       "      <td>2020-03-06</td>\n",
       "      <td>0.478139</td>\n",
       "      <td>1.214840</td>\n",
       "      <td>-0.214109</td>\n",
       "      <td>-2.086719</td>\n",
       "    </tr>\n",
       "  </tbody>\n",
       "</table>\n",
       "</div>"
      ],
      "text/plain": [
       "                   A         B         C         D\n",
       "2020-02-29  0.332505 -0.247595  0.033099  0.167774\n",
       "2020-03-02  0.365996 -0.474897  0.944967 -0.988583\n",
       "2020-03-03  0.366000 -2.281460  0.788201  0.476776\n",
       "2020-03-04  1.675193  0.934054 -0.461774 -0.364926\n",
       "2020-03-06  0.478139  1.214840 -0.214109 -2.086719"
      ]
     },
     "execution_count": 89,
     "metadata": {},
     "output_type": "execute_result"
    }
   ],
   "source": [
    "df[df.A>0]"
   ]
  },
  {
   "cell_type": "code",
   "execution_count": 91,
   "metadata": {},
   "outputs": [
    {
     "data": {
      "text/html": [
       "<div>\n",
       "<style scoped>\n",
       "    .dataframe tbody tr th:only-of-type {\n",
       "        vertical-align: middle;\n",
       "    }\n",
       "\n",
       "    .dataframe tbody tr th {\n",
       "        vertical-align: top;\n",
       "    }\n",
       "\n",
       "    .dataframe thead th {\n",
       "        text-align: right;\n",
       "    }\n",
       "</style>\n",
       "<table border=\"1\" class=\"dataframe\">\n",
       "  <thead>\n",
       "    <tr style=\"text-align: right;\">\n",
       "      <th></th>\n",
       "      <th>A</th>\n",
       "      <th>B</th>\n",
       "      <th>C</th>\n",
       "      <th>D</th>\n",
       "    </tr>\n",
       "  </thead>\n",
       "  <tbody>\n",
       "    <tr>\n",
       "      <td>2020-02-29</td>\n",
       "      <td>0.332505</td>\n",
       "      <td>NaN</td>\n",
       "      <td>0.033099</td>\n",
       "      <td>0.167774</td>\n",
       "    </tr>\n",
       "    <tr>\n",
       "      <td>2020-03-01</td>\n",
       "      <td>NaN</td>\n",
       "      <td>NaN</td>\n",
       "      <td>1.473863</td>\n",
       "      <td>0.370190</td>\n",
       "    </tr>\n",
       "    <tr>\n",
       "      <td>2020-03-02</td>\n",
       "      <td>0.365996</td>\n",
       "      <td>NaN</td>\n",
       "      <td>0.944967</td>\n",
       "      <td>NaN</td>\n",
       "    </tr>\n",
       "    <tr>\n",
       "      <td>2020-03-03</td>\n",
       "      <td>0.366000</td>\n",
       "      <td>NaN</td>\n",
       "      <td>0.788201</td>\n",
       "      <td>0.476776</td>\n",
       "    </tr>\n",
       "    <tr>\n",
       "      <td>2020-03-04</td>\n",
       "      <td>1.675193</td>\n",
       "      <td>0.934054</td>\n",
       "      <td>NaN</td>\n",
       "      <td>NaN</td>\n",
       "    </tr>\n",
       "    <tr>\n",
       "      <td>2020-03-05</td>\n",
       "      <td>NaN</td>\n",
       "      <td>NaN</td>\n",
       "      <td>1.788973</td>\n",
       "      <td>0.174154</td>\n",
       "    </tr>\n",
       "    <tr>\n",
       "      <td>2020-03-06</td>\n",
       "      <td>0.478139</td>\n",
       "      <td>1.214840</td>\n",
       "      <td>NaN</td>\n",
       "      <td>NaN</td>\n",
       "    </tr>\n",
       "  </tbody>\n",
       "</table>\n",
       "</div>"
      ],
      "text/plain": [
       "                   A         B         C         D\n",
       "2020-02-29  0.332505       NaN  0.033099  0.167774\n",
       "2020-03-01       NaN       NaN  1.473863  0.370190\n",
       "2020-03-02  0.365996       NaN  0.944967       NaN\n",
       "2020-03-03  0.366000       NaN  0.788201  0.476776\n",
       "2020-03-04  1.675193  0.934054       NaN       NaN\n",
       "2020-03-05       NaN       NaN  1.788973  0.174154\n",
       "2020-03-06  0.478139  1.214840       NaN       NaN"
      ]
     },
     "execution_count": 91,
     "metadata": {},
     "output_type": "execute_result"
    }
   ],
   "source": [
    "df[df > 0]"
   ]
  },
  {
   "cell_type": "code",
   "execution_count": 93,
   "metadata": {},
   "outputs": [],
   "source": [
    "df2 = df.copy()"
   ]
  },
  {
   "cell_type": "code",
   "execution_count": 94,
   "metadata": {},
   "outputs": [
    {
     "data": {
      "text/html": [
       "<div>\n",
       "<style scoped>\n",
       "    .dataframe tbody tr th:only-of-type {\n",
       "        vertical-align: middle;\n",
       "    }\n",
       "\n",
       "    .dataframe tbody tr th {\n",
       "        vertical-align: top;\n",
       "    }\n",
       "\n",
       "    .dataframe thead th {\n",
       "        text-align: right;\n",
       "    }\n",
       "</style>\n",
       "<table border=\"1\" class=\"dataframe\">\n",
       "  <thead>\n",
       "    <tr style=\"text-align: right;\">\n",
       "      <th></th>\n",
       "      <th>A</th>\n",
       "      <th>B</th>\n",
       "      <th>C</th>\n",
       "      <th>D</th>\n",
       "    </tr>\n",
       "  </thead>\n",
       "  <tbody>\n",
       "    <tr>\n",
       "      <td>2020-02-29</td>\n",
       "      <td>0.332505</td>\n",
       "      <td>-0.247595</td>\n",
       "      <td>0.033099</td>\n",
       "      <td>0.167774</td>\n",
       "    </tr>\n",
       "    <tr>\n",
       "      <td>2020-03-01</td>\n",
       "      <td>-0.623861</td>\n",
       "      <td>-1.823535</td>\n",
       "      <td>1.473863</td>\n",
       "      <td>0.370190</td>\n",
       "    </tr>\n",
       "    <tr>\n",
       "      <td>2020-03-02</td>\n",
       "      <td>0.365996</td>\n",
       "      <td>-0.474897</td>\n",
       "      <td>0.944967</td>\n",
       "      <td>-0.988583</td>\n",
       "    </tr>\n",
       "    <tr>\n",
       "      <td>2020-03-03</td>\n",
       "      <td>0.366000</td>\n",
       "      <td>-2.281460</td>\n",
       "      <td>0.788201</td>\n",
       "      <td>0.476776</td>\n",
       "    </tr>\n",
       "    <tr>\n",
       "      <td>2020-03-04</td>\n",
       "      <td>1.675193</td>\n",
       "      <td>0.934054</td>\n",
       "      <td>-0.461774</td>\n",
       "      <td>-0.364926</td>\n",
       "    </tr>\n",
       "    <tr>\n",
       "      <td>2020-03-05</td>\n",
       "      <td>-0.171717</td>\n",
       "      <td>-0.763285</td>\n",
       "      <td>1.788973</td>\n",
       "      <td>0.174154</td>\n",
       "    </tr>\n",
       "    <tr>\n",
       "      <td>2020-03-06</td>\n",
       "      <td>0.478139</td>\n",
       "      <td>1.214840</td>\n",
       "      <td>-0.214109</td>\n",
       "      <td>-2.086719</td>\n",
       "    </tr>\n",
       "  </tbody>\n",
       "</table>\n",
       "</div>"
      ],
      "text/plain": [
       "                   A         B         C         D\n",
       "2020-02-29  0.332505 -0.247595  0.033099  0.167774\n",
       "2020-03-01 -0.623861 -1.823535  1.473863  0.370190\n",
       "2020-03-02  0.365996 -0.474897  0.944967 -0.988583\n",
       "2020-03-03  0.366000 -2.281460  0.788201  0.476776\n",
       "2020-03-04  1.675193  0.934054 -0.461774 -0.364926\n",
       "2020-03-05 -0.171717 -0.763285  1.788973  0.174154\n",
       "2020-03-06  0.478139  1.214840 -0.214109 -2.086719"
      ]
     },
     "execution_count": 94,
     "metadata": {},
     "output_type": "execute_result"
    }
   ],
   "source": [
    "df2"
   ]
  },
  {
   "cell_type": "code",
   "execution_count": 96,
   "metadata": {},
   "outputs": [],
   "source": [
    "df2['E'] = ['one', 'one','two','three','four','three','seven']"
   ]
  },
  {
   "cell_type": "code",
   "execution_count": 97,
   "metadata": {},
   "outputs": [
    {
     "data": {
      "text/html": [
       "<div>\n",
       "<style scoped>\n",
       "    .dataframe tbody tr th:only-of-type {\n",
       "        vertical-align: middle;\n",
       "    }\n",
       "\n",
       "    .dataframe tbody tr th {\n",
       "        vertical-align: top;\n",
       "    }\n",
       "\n",
       "    .dataframe thead th {\n",
       "        text-align: right;\n",
       "    }\n",
       "</style>\n",
       "<table border=\"1\" class=\"dataframe\">\n",
       "  <thead>\n",
       "    <tr style=\"text-align: right;\">\n",
       "      <th></th>\n",
       "      <th>A</th>\n",
       "      <th>B</th>\n",
       "      <th>C</th>\n",
       "      <th>D</th>\n",
       "      <th>E</th>\n",
       "    </tr>\n",
       "  </thead>\n",
       "  <tbody>\n",
       "    <tr>\n",
       "      <td>2020-02-29</td>\n",
       "      <td>0.332505</td>\n",
       "      <td>-0.247595</td>\n",
       "      <td>0.033099</td>\n",
       "      <td>0.167774</td>\n",
       "      <td>one</td>\n",
       "    </tr>\n",
       "    <tr>\n",
       "      <td>2020-03-01</td>\n",
       "      <td>-0.623861</td>\n",
       "      <td>-1.823535</td>\n",
       "      <td>1.473863</td>\n",
       "      <td>0.370190</td>\n",
       "      <td>one</td>\n",
       "    </tr>\n",
       "    <tr>\n",
       "      <td>2020-03-02</td>\n",
       "      <td>0.365996</td>\n",
       "      <td>-0.474897</td>\n",
       "      <td>0.944967</td>\n",
       "      <td>-0.988583</td>\n",
       "      <td>two</td>\n",
       "    </tr>\n",
       "    <tr>\n",
       "      <td>2020-03-03</td>\n",
       "      <td>0.366000</td>\n",
       "      <td>-2.281460</td>\n",
       "      <td>0.788201</td>\n",
       "      <td>0.476776</td>\n",
       "      <td>three</td>\n",
       "    </tr>\n",
       "    <tr>\n",
       "      <td>2020-03-04</td>\n",
       "      <td>1.675193</td>\n",
       "      <td>0.934054</td>\n",
       "      <td>-0.461774</td>\n",
       "      <td>-0.364926</td>\n",
       "      <td>four</td>\n",
       "    </tr>\n",
       "    <tr>\n",
       "      <td>2020-03-05</td>\n",
       "      <td>-0.171717</td>\n",
       "      <td>-0.763285</td>\n",
       "      <td>1.788973</td>\n",
       "      <td>0.174154</td>\n",
       "      <td>three</td>\n",
       "    </tr>\n",
       "    <tr>\n",
       "      <td>2020-03-06</td>\n",
       "      <td>0.478139</td>\n",
       "      <td>1.214840</td>\n",
       "      <td>-0.214109</td>\n",
       "      <td>-2.086719</td>\n",
       "      <td>seven</td>\n",
       "    </tr>\n",
       "  </tbody>\n",
       "</table>\n",
       "</div>"
      ],
      "text/plain": [
       "                   A         B         C         D      E\n",
       "2020-02-29  0.332505 -0.247595  0.033099  0.167774    one\n",
       "2020-03-01 -0.623861 -1.823535  1.473863  0.370190    one\n",
       "2020-03-02  0.365996 -0.474897  0.944967 -0.988583    two\n",
       "2020-03-03  0.366000 -2.281460  0.788201  0.476776  three\n",
       "2020-03-04  1.675193  0.934054 -0.461774 -0.364926   four\n",
       "2020-03-05 -0.171717 -0.763285  1.788973  0.174154  three\n",
       "2020-03-06  0.478139  1.214840 -0.214109 -2.086719  seven"
      ]
     },
     "execution_count": 97,
     "metadata": {},
     "output_type": "execute_result"
    }
   ],
   "source": [
    "df2"
   ]
  },
  {
   "cell_type": "code",
   "execution_count": 102,
   "metadata": {},
   "outputs": [
    {
     "data": {
      "text/plain": [
       "2020-02-29    False\n",
       "2020-03-01    False\n",
       "2020-03-02     True\n",
       "2020-03-03    False\n",
       "2020-03-04     True\n",
       "2020-03-05    False\n",
       "2020-03-06    False\n",
       "Freq: D, Name: E, dtype: bool"
      ]
     },
     "execution_count": 102,
     "metadata": {},
     "output_type": "execute_result"
    }
   ],
   "source": [
    "df2['E'].isin(['two','four'])"
   ]
  },
  {
   "cell_type": "code",
   "execution_count": 104,
   "metadata": {},
   "outputs": [
    {
     "data": {
      "text/html": [
       "<div>\n",
       "<style scoped>\n",
       "    .dataframe tbody tr th:only-of-type {\n",
       "        vertical-align: middle;\n",
       "    }\n",
       "\n",
       "    .dataframe tbody tr th {\n",
       "        vertical-align: top;\n",
       "    }\n",
       "\n",
       "    .dataframe thead th {\n",
       "        text-align: right;\n",
       "    }\n",
       "</style>\n",
       "<table border=\"1\" class=\"dataframe\">\n",
       "  <thead>\n",
       "    <tr style=\"text-align: right;\">\n",
       "      <th></th>\n",
       "      <th>A</th>\n",
       "      <th>B</th>\n",
       "      <th>C</th>\n",
       "      <th>D</th>\n",
       "      <th>E</th>\n",
       "    </tr>\n",
       "  </thead>\n",
       "  <tbody>\n",
       "    <tr>\n",
       "      <td>2020-03-02</td>\n",
       "      <td>0.365996</td>\n",
       "      <td>-0.474897</td>\n",
       "      <td>0.944967</td>\n",
       "      <td>-0.988583</td>\n",
       "      <td>two</td>\n",
       "    </tr>\n",
       "    <tr>\n",
       "      <td>2020-03-04</td>\n",
       "      <td>1.675193</td>\n",
       "      <td>0.934054</td>\n",
       "      <td>-0.461774</td>\n",
       "      <td>-0.364926</td>\n",
       "      <td>four</td>\n",
       "    </tr>\n",
       "  </tbody>\n",
       "</table>\n",
       "</div>"
      ],
      "text/plain": [
       "                   A         B         C         D     E\n",
       "2020-03-02  0.365996 -0.474897  0.944967 -0.988583   two\n",
       "2020-03-04  1.675193  0.934054 -0.461774 -0.364926  four"
      ]
     },
     "execution_count": 104,
     "metadata": {},
     "output_type": "execute_result"
    }
   ],
   "source": [
    "df2[df2['E'].isin(['two','four'])]"
   ]
  },
  {
   "cell_type": "code",
   "execution_count": 108,
   "metadata": {},
   "outputs": [
    {
     "data": {
      "text/html": [
       "<div>\n",
       "<style scoped>\n",
       "    .dataframe tbody tr th:only-of-type {\n",
       "        vertical-align: middle;\n",
       "    }\n",
       "\n",
       "    .dataframe tbody tr th {\n",
       "        vertical-align: top;\n",
       "    }\n",
       "\n",
       "    .dataframe thead th {\n",
       "        text-align: right;\n",
       "    }\n",
       "</style>\n",
       "<table border=\"1\" class=\"dataframe\">\n",
       "  <thead>\n",
       "    <tr style=\"text-align: right;\">\n",
       "      <th></th>\n",
       "      <th>A</th>\n",
       "      <th>B</th>\n",
       "      <th>C</th>\n",
       "      <th>D</th>\n",
       "    </tr>\n",
       "  </thead>\n",
       "  <tbody>\n",
       "    <tr>\n",
       "      <td>2020-02-29</td>\n",
       "      <td>0.332505</td>\n",
       "      <td>-0.247595</td>\n",
       "      <td>0.033099</td>\n",
       "      <td>0.167774</td>\n",
       "    </tr>\n",
       "    <tr>\n",
       "      <td>2020-03-01</td>\n",
       "      <td>-0.291356</td>\n",
       "      <td>-2.071130</td>\n",
       "      <td>1.506962</td>\n",
       "      <td>0.537964</td>\n",
       "    </tr>\n",
       "    <tr>\n",
       "      <td>2020-03-02</td>\n",
       "      <td>0.074640</td>\n",
       "      <td>-2.546027</td>\n",
       "      <td>2.451929</td>\n",
       "      <td>-0.450619</td>\n",
       "    </tr>\n",
       "    <tr>\n",
       "      <td>2020-03-03</td>\n",
       "      <td>0.440640</td>\n",
       "      <td>-4.827487</td>\n",
       "      <td>3.240130</td>\n",
       "      <td>0.026156</td>\n",
       "    </tr>\n",
       "    <tr>\n",
       "      <td>2020-03-04</td>\n",
       "      <td>2.115833</td>\n",
       "      <td>-3.893433</td>\n",
       "      <td>2.778356</td>\n",
       "      <td>-0.338769</td>\n",
       "    </tr>\n",
       "    <tr>\n",
       "      <td>2020-03-05</td>\n",
       "      <td>1.944116</td>\n",
       "      <td>-4.656718</td>\n",
       "      <td>4.567329</td>\n",
       "      <td>-0.164615</td>\n",
       "    </tr>\n",
       "    <tr>\n",
       "      <td>2020-03-06</td>\n",
       "      <td>2.422256</td>\n",
       "      <td>-3.441878</td>\n",
       "      <td>4.353220</td>\n",
       "      <td>-2.251334</td>\n",
       "    </tr>\n",
       "  </tbody>\n",
       "</table>\n",
       "</div>"
      ],
      "text/plain": [
       "                   A         B         C         D\n",
       "2020-02-29  0.332505 -0.247595  0.033099  0.167774\n",
       "2020-03-01 -0.291356 -2.071130  1.506962  0.537964\n",
       "2020-03-02  0.074640 -2.546027  2.451929 -0.450619\n",
       "2020-03-03  0.440640 -4.827487  3.240130  0.026156\n",
       "2020-03-04  2.115833 -3.893433  2.778356 -0.338769\n",
       "2020-03-05  1.944116 -4.656718  4.567329 -0.164615\n",
       "2020-03-06  2.422256 -3.441878  4.353220 -2.251334"
      ]
     },
     "execution_count": 108,
     "metadata": {},
     "output_type": "execute_result"
    }
   ],
   "source": [
    "df.apply(np.cumsum)"
   ]
  },
  {
   "cell_type": "code",
   "execution_count": 106,
   "metadata": {},
   "outputs": [
    {
     "data": {
      "text/html": [
       "<div>\n",
       "<style scoped>\n",
       "    .dataframe tbody tr th:only-of-type {\n",
       "        vertical-align: middle;\n",
       "    }\n",
       "\n",
       "    .dataframe tbody tr th {\n",
       "        vertical-align: top;\n",
       "    }\n",
       "\n",
       "    .dataframe thead th {\n",
       "        text-align: right;\n",
       "    }\n",
       "</style>\n",
       "<table border=\"1\" class=\"dataframe\">\n",
       "  <thead>\n",
       "    <tr style=\"text-align: right;\">\n",
       "      <th></th>\n",
       "      <th>A</th>\n",
       "      <th>B</th>\n",
       "      <th>C</th>\n",
       "      <th>D</th>\n",
       "    </tr>\n",
       "  </thead>\n",
       "  <tbody>\n",
       "    <tr>\n",
       "      <td>2020-02-29</td>\n",
       "      <td>0.332505</td>\n",
       "      <td>-0.247595</td>\n",
       "      <td>0.033099</td>\n",
       "      <td>0.167774</td>\n",
       "    </tr>\n",
       "    <tr>\n",
       "      <td>2020-03-01</td>\n",
       "      <td>-0.623861</td>\n",
       "      <td>-1.823535</td>\n",
       "      <td>1.473863</td>\n",
       "      <td>0.370190</td>\n",
       "    </tr>\n",
       "    <tr>\n",
       "      <td>2020-03-02</td>\n",
       "      <td>0.365996</td>\n",
       "      <td>-0.474897</td>\n",
       "      <td>0.944967</td>\n",
       "      <td>-0.988583</td>\n",
       "    </tr>\n",
       "    <tr>\n",
       "      <td>2020-03-03</td>\n",
       "      <td>0.366000</td>\n",
       "      <td>-2.281460</td>\n",
       "      <td>0.788201</td>\n",
       "      <td>0.476776</td>\n",
       "    </tr>\n",
       "    <tr>\n",
       "      <td>2020-03-04</td>\n",
       "      <td>1.675193</td>\n",
       "      <td>0.934054</td>\n",
       "      <td>-0.461774</td>\n",
       "      <td>-0.364926</td>\n",
       "    </tr>\n",
       "    <tr>\n",
       "      <td>2020-03-05</td>\n",
       "      <td>-0.171717</td>\n",
       "      <td>-0.763285</td>\n",
       "      <td>1.788973</td>\n",
       "      <td>0.174154</td>\n",
       "    </tr>\n",
       "    <tr>\n",
       "      <td>2020-03-06</td>\n",
       "      <td>0.478139</td>\n",
       "      <td>1.214840</td>\n",
       "      <td>-0.214109</td>\n",
       "      <td>-2.086719</td>\n",
       "    </tr>\n",
       "  </tbody>\n",
       "</table>\n",
       "</div>"
      ],
      "text/plain": [
       "                   A         B         C         D\n",
       "2020-02-29  0.332505 -0.247595  0.033099  0.167774\n",
       "2020-03-01 -0.623861 -1.823535  1.473863  0.370190\n",
       "2020-03-02  0.365996 -0.474897  0.944967 -0.988583\n",
       "2020-03-03  0.366000 -2.281460  0.788201  0.476776\n",
       "2020-03-04  1.675193  0.934054 -0.461774 -0.364926\n",
       "2020-03-05 -0.171717 -0.763285  1.788973  0.174154\n",
       "2020-03-06  0.478139  1.214840 -0.214109 -2.086719"
      ]
     },
     "execution_count": 106,
     "metadata": {},
     "output_type": "execute_result"
    }
   ],
   "source": [
    "df"
   ]
  },
  {
   "cell_type": "code",
   "execution_count": 107,
   "metadata": {},
   "outputs": [
    {
     "data": {
      "text/plain": [
       "<bound method DataFrame.apply of                    A         B         C         D\n",
       "2020-02-29  0.332505 -0.247595  0.033099  0.167774\n",
       "2020-03-01 -0.623861 -1.823535  1.473863  0.370190\n",
       "2020-03-02  0.365996 -0.474897  0.944967 -0.988583\n",
       "2020-03-03  0.366000 -2.281460  0.788201  0.476776\n",
       "2020-03-04  1.675193  0.934054 -0.461774 -0.364926\n",
       "2020-03-05 -0.171717 -0.763285  1.788973  0.174154\n",
       "2020-03-06  0.478139  1.214840 -0.214109 -2.086719>"
      ]
     },
     "execution_count": 107,
     "metadata": {},
     "output_type": "execute_result"
    }
   ],
   "source": [
    "df.apply"
   ]
  },
  {
   "cell_type": "code",
   "execution_count": 109,
   "metadata": {},
   "outputs": [
    {
     "data": {
      "text/plain": [
       "A    2.299054\n",
       "B    3.496301\n",
       "C    2.250747\n",
       "D    2.563495\n",
       "dtype: float64"
      ]
     },
     "execution_count": 109,
     "metadata": {},
     "output_type": "execute_result"
    }
   ],
   "source": [
    "df.apply(lambda x: x.max() - x.min())"
   ]
  },
  {
   "cell_type": "code",
   "execution_count": null,
   "metadata": {},
   "outputs": [],
   "source": []
  }
 ],
 "metadata": {
  "kernelspec": {
   "display_name": "Python 3",
   "language": "python",
   "name": "python3"
  },
  "language_info": {
   "codemirror_mode": {
    "name": "ipython",
    "version": 3
   },
   "file_extension": ".py",
   "mimetype": "text/x-python",
   "name": "python",
   "nbconvert_exporter": "python",
   "pygments_lexer": "ipython3",
   "version": "3.7.4"
  }
 },
 "nbformat": 4,
 "nbformat_minor": 2
}
